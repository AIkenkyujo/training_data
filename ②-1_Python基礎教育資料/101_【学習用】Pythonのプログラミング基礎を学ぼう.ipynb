{
  "nbformat": 4,
  "nbformat_minor": 0,
  "metadata": {
    "colab": {
      "name": "Day3_【学習用】AIプログラミング基礎セミナー.ipynb",
      "version": "0.3.2",
      "provenance": []
    },
    "kernelspec": {
      "name": "python3",
      "display_name": "Python 3"
    }
  },
  "cells": [
    {
      "metadata": {
        "id": "r08O87Ul6kTf",
        "colab_type": "text"
      },
      "cell_type": "markdown",
      "source": [
        "# Pythonのプログラミング基礎を学ぼう"
      ]
    },
    {
      "metadata": {
        "id": "enh2bGbZYVj0",
        "colab_type": "text"
      },
      "cell_type": "markdown",
      "source": [
        "## 変数を使ってみよう"
      ]
    },
    {
      "metadata": {
        "id": "2C8SptwE2LPV",
        "colab_type": "code",
        "colab": {}
      },
      "cell_type": "code",
      "source": [
        ""
      ],
      "execution_count": 0,
      "outputs": []
    },
    {
      "metadata": {
        "id": "1P-wZ0u9YPQi",
        "colab_type": "text"
      },
      "cell_type": "markdown",
      "source": [
        "## 算術演算を使ってみよう"
      ]
    },
    {
      "metadata": {
        "id": "PL3lZY-xXfuG",
        "colab_type": "code",
        "colab": {}
      },
      "cell_type": "code",
      "source": [
        ""
      ],
      "execution_count": 0,
      "outputs": []
    },
    {
      "metadata": {
        "id": "X6QLyLQkYCWB",
        "colab_type": "text"
      },
      "cell_type": "markdown",
      "source": [
        "## データ型について学習しよう"
      ]
    },
    {
      "metadata": {
        "id": "6JBmkTHtXuQU",
        "colab_type": "code",
        "colab": {}
      },
      "cell_type": "code",
      "source": [
        ""
      ],
      "execution_count": 0,
      "outputs": []
    },
    {
      "metadata": {
        "id": "Lnz6j4T2X8IE",
        "colab_type": "code",
        "colab": {}
      },
      "cell_type": "code",
      "source": [
        ""
      ],
      "execution_count": 0,
      "outputs": []
    },
    {
      "metadata": {
        "id": "XsUiBZFuanu6",
        "colab_type": "text"
      },
      "cell_type": "markdown",
      "source": [
        "# 入力が2つの単純パーセプトロンを作ってみよう"
      ]
    },
    {
      "metadata": {
        "id": "2eAlSJKwY53V",
        "colab_type": "code",
        "colab": {}
      },
      "cell_type": "code",
      "source": [
        ""
      ],
      "execution_count": 0,
      "outputs": []
    },
    {
      "metadata": {
        "id": "I-vJlG29cK30",
        "colab_type": "text"
      },
      "cell_type": "markdown",
      "source": [
        "# 単純パーセプトロンをニューラルネットワークにしよう"
      ]
    },
    {
      "metadata": {
        "id": "vI-FIXdgcNMJ",
        "colab_type": "code",
        "colab": {}
      },
      "cell_type": "code",
      "source": [
        "x1 = 2.0\n",
        "x2 = 1.0\n",
        "x3 = 0.5\n",
        "w1 = 0.5\n",
        "w2 = -0.5\n",
        "w3 = -1.5\n",
        "w4 = 1.2\n",
        "w5 = 1.0\n",
        "w6 = -2.0\n",
        "w7 = 1.4\n",
        "w8 = -2.0\n",
        "\n",
        "# 全結合の計算式\n"
      ],
      "execution_count": 0,
      "outputs": []
    },
    {
      "metadata": {
        "id": "Y4F1Xi-S7JR2",
        "colab_type": "text"
      },
      "cell_type": "markdown",
      "source": [
        "# リストを導入してみよう"
      ]
    },
    {
      "metadata": {
        "id": "Fsw3zLz0dk3R",
        "colab_type": "text"
      },
      "cell_type": "markdown",
      "source": [
        "##リスト内のデータの呼び出し"
      ]
    },
    {
      "metadata": {
        "id": "Dju_bN1nc3_1",
        "colab_type": "code",
        "colab": {}
      },
      "cell_type": "code",
      "source": [
        ""
      ],
      "execution_count": 0,
      "outputs": []
    },
    {
      "metadata": {
        "id": "bD2MG2HwdicB",
        "colab_type": "text"
      },
      "cell_type": "markdown",
      "source": [
        "## リスト内のデータの変更"
      ]
    },
    {
      "metadata": {
        "id": "hzhUW_FgdOzr",
        "colab_type": "code",
        "colab": {}
      },
      "cell_type": "code",
      "source": [
        ""
      ],
      "execution_count": 0,
      "outputs": []
    },
    {
      "metadata": {
        "id": "wfeOOU8sdeg1",
        "colab_type": "text"
      },
      "cell_type": "markdown",
      "source": [
        "## リスト内のデータの追加(append)"
      ]
    },
    {
      "metadata": {
        "id": "z1gRGPCKdRyc",
        "colab_type": "code",
        "colab": {}
      },
      "cell_type": "code",
      "source": [
        "x = [2.0, 1.0, 0.5]\n"
      ],
      "execution_count": 0,
      "outputs": []
    },
    {
      "metadata": {
        "id": "16CvNF1wdcU8",
        "colab_type": "text"
      },
      "cell_type": "markdown",
      "source": [
        "## 多重リスト"
      ]
    },
    {
      "metadata": {
        "id": "W1RZZdcjdaWv",
        "colab_type": "code",
        "colab": {}
      },
      "cell_type": "code",
      "source": [
        ""
      ],
      "execution_count": 0,
      "outputs": []
    },
    {
      "metadata": {
        "id": "dtqcDvMf7090",
        "colab_type": "text"
      },
      "cell_type": "markdown",
      "source": [
        "## リストをニューラルネットワークに導入してみよう"
      ]
    },
    {
      "metadata": {
        "id": "ASjyOmfl5pVy",
        "colab_type": "code",
        "colab": {}
      },
      "cell_type": "code",
      "source": [
        "x = [2.0, 1.0, 0.5]\n",
        "w_x = [[0.5, -1.5, 1.0], [-0.5, 1.2, -2.0]]\n",
        "w_u = [1.4, -2.0]\n",
        "\n",
        "# 全結合の計算式\n"
      ],
      "execution_count": 0,
      "outputs": []
    },
    {
      "metadata": {
        "id": "H7F64g9l9Bn7",
        "colab_type": "text"
      },
      "cell_type": "markdown",
      "source": [
        "# ライブラリ「Numpy」を導入してみよう"
      ]
    },
    {
      "metadata": {
        "id": "S3jgSxIR9GTs",
        "colab_type": "text"
      },
      "cell_type": "markdown",
      "source": [
        "## Numpyを使ってみよう"
      ]
    },
    {
      "metadata": {
        "id": "a-bAaNN79FTh",
        "colab_type": "code",
        "colab": {}
      },
      "cell_type": "code",
      "source": [
        "a = [1.5, 2.5, 3.5]\n",
        "b = [1.0, 2.0, 3.0]"
      ],
      "execution_count": 0,
      "outputs": []
    },
    {
      "metadata": {
        "id": "35NOOwjI9Zb1",
        "colab_type": "text"
      },
      "cell_type": "markdown",
      "source": [
        "## NumPyを使って行列の積を計算してみよう"
      ]
    },
    {
      "metadata": {
        "id": "Mtgimrin9c9u",
        "colab_type": "code",
        "colab": {}
      },
      "cell_type": "code",
      "source": [
        "A = np.array([[1, 2], [3, 4]])\n",
        "B = np.array([[5, 6], [7, 8]])\n"
      ],
      "execution_count": 0,
      "outputs": []
    },
    {
      "metadata": {
        "id": "nx3x7wYY-4XZ",
        "colab_type": "text"
      },
      "cell_type": "markdown",
      "source": [
        "## NumPyをニューラルネットワークに導入してみよう"
      ]
    },
    {
      "metadata": {
        "id": "SHUbJXiY-0Dh",
        "colab_type": "code",
        "colab": {}
      },
      "cell_type": "code",
      "source": [
        "import numpy as np\n",
        "\n",
        "x = np.array([2.0, 1.0, 0.5])\n",
        "w_x = np.array([[0.5, -0.5, -2.0], [-1.5, 1.2, -0.8], [1.0, -2.0, 0.3]])\n",
        "w_u = np.array([1.4, -2.0, -1.0])\n",
        "\n",
        "# 全結合の計算式\n"
      ],
      "execution_count": 0,
      "outputs": []
    },
    {
      "metadata": {
        "id": "e3iTE28R_A_c",
        "colab_type": "text"
      },
      "cell_type": "markdown",
      "source": [
        "# 関数を導入してみよう"
      ]
    },
    {
      "metadata": {
        "id": "6d9yfcdo_HS9",
        "colab_type": "text"
      },
      "cell_type": "markdown",
      "source": [
        "## 関数を使ってみよう"
      ]
    },
    {
      "metadata": {
        "id": "O4_nVCs0_ERI",
        "colab_type": "code",
        "colab": {}
      },
      "cell_type": "code",
      "source": [
        ""
      ],
      "execution_count": 0,
      "outputs": []
    },
    {
      "metadata": {
        "id": "P0pYjVzDXC8Z",
        "colab_type": "text"
      },
      "cell_type": "markdown",
      "source": [
        "## 関数を使ってステップ関数を定義してみよう"
      ]
    },
    {
      "metadata": {
        "id": "O6p7mrfhXFtT",
        "colab_type": "code",
        "colab": {}
      },
      "cell_type": "code",
      "source": [
        ""
      ],
      "execution_count": 0,
      "outputs": []
    },
    {
      "metadata": {
        "colab_type": "code",
        "id": "g-6-e5xE2XjX",
        "colab": {}
      },
      "cell_type": "code",
      "source": [
        "import numpy as np\n",
        "\n",
        "x = np.array([-1.0, 1.0, 2.0])\n"
      ],
      "execution_count": 0,
      "outputs": []
    },
    {
      "metadata": {
        "id": "fSB4-7fOBD4k",
        "colab_type": "text"
      },
      "cell_type": "markdown",
      "source": [
        "## 関数をニューラルネットワークに導入してみよう"
      ]
    },
    {
      "metadata": {
        "id": "vC1JKrxuBFOY",
        "colab_type": "code",
        "colab": {}
      },
      "cell_type": "code",
      "source": [
        "import numpy as np\n",
        "\n",
        "# ステップ関数を記述\n",
        "# ステップ関数を記述\n",
        "# ステップ関数を記述\n",
        "\n",
        "x = np.array([2.0, 1.0, 0.5])\n",
        "w_x = np.array([[0.5, -0.5, -2.0, 1.0], [-1.5, 1.2, -0.8, -0.5], [1.0, -2.0, 0.3, 2.0]])\n",
        "w_u1 = np.array([[1.2, 2.0], [-1.0, -2.0], [1.2, 1.0], [-0.4, 1.0]])\n",
        "w_u2 = np.array([1.4, 1.5])\n",
        "\n",
        "# ステップ関数を使用した記述に変更\n",
        "u1 = np.dot(x, w_x)\n",
        "u2 = np.dot(u1, w_u1)\n",
        "y = np.dot(u2, w_u2)\n",
        "\n",
        "print(y)"
      ],
      "execution_count": 0,
      "outputs": []
    },
    {
      "metadata": {
        "id": "AbsAo3M0BxVM",
        "colab_type": "text"
      },
      "cell_type": "markdown",
      "source": [
        "# ループ処理を導入してみよう"
      ]
    },
    {
      "metadata": {
        "id": "3g4srYIwCSwJ",
        "colab_type": "text"
      },
      "cell_type": "markdown",
      "source": [
        "## ループ処理をニューラルネットワークに導入してみよう"
      ]
    },
    {
      "metadata": {
        "id": "SSQs5u0VBzRs",
        "colab_type": "code",
        "colab": {}
      },
      "cell_type": "code",
      "source": [
        "import numpy as np\n",
        "\n",
        "def step (x):\n",
        "    y = x > 0 \n",
        "    return y.astype(np.int)\n",
        "\n",
        "# 以下をループ処理に変更\n",
        "\n",
        "x = np.array([2.0, 1.0, 0.5])\n",
        "w_x = np.array([[0.5, -0.5, -2.0, 1.0], [-1.5, 1.2, -0.8, -0.5], [1.0, -2.0, 0.3, 2.0]])\n",
        "w_u1 = np.array([[1.2, 2.0], [-1.0, -2.0], [1.2, 1.0], [-0.4, 1.0]])\n",
        "w_u2 = np.array([1.4, 1.5])\n",
        "\n",
        "u1 = np.dot(x, w_x)\n",
        "z1 = step(u1)\n",
        "u2 = np.dot(z1, w_u1)\n",
        "z2 = step(u2)\n",
        "y = np.dot(z2, w_u2)\n",
        "\n",
        "print(y)"
      ],
      "execution_count": 0,
      "outputs": []
    },
    {
      "metadata": {
        "id": "sYX59KQmCcRb",
        "colab_type": "text"
      },
      "cell_type": "markdown",
      "source": [
        "# 外部データを読み込んでみよう"
      ]
    },
    {
      "metadata": {
        "id": "ckdd4p8PCiST",
        "colab_type": "text"
      },
      "cell_type": "markdown",
      "source": [
        "## 外部データを読み込み、ニューラルネットワークを実行しよう"
      ]
    },
    {
      "metadata": {
        "id": "b8Tf0nv_CetC",
        "colab_type": "code",
        "colab": {}
      },
      "cell_type": "code",
      "source": [
        "import numpy as np\n",
        "\n",
        "def step(x):\n",
        "    return np.array(x > 0, dtype=np.int)\n",
        "\n",
        "# ここにCSVデータインポートを記述\n",
        "# ここにCSVデータインポートを記述\n",
        "# ここにCSVデータインポートを記述\n",
        "# ここにCSVデータインポートを記述\n",
        "# ここにCSVデータインポートを記述\n",
        "\n",
        "for x in data:\n",
        "    w_x = np.array([[0.46, 0.43, -0.31, 0.16],\n",
        "                    [-0.31, 0.08, 0.18, -0.52],\n",
        "                    [-0.67, 0.27, -0.19, -0.05],\n",
        "                    [0.02, 0.04, 0.10, -0.35],\n",
        "                    [-0.87, 0.65, 0.15, -0.12]])\n",
        "\n",
        "    w_u1 = np.array([[-0.68, 0.01],\n",
        "                    [0.10, 0.50],\n",
        "                    [-0.10, -0.21],\n",
        "                    [-1.25, 0.50]])\n",
        "\n",
        "    w_u2 =  np.array([0.43, -0.19])\n",
        "\n",
        "    U1 = np.dot(x, w_x)\n",
        "    Z1 = step(U1)\n",
        "    U2 = np.dot(Z1, w_u1)\n",
        "    Z2 = step(U2)\n",
        "    U3 = np.dot(Z2, w_u2)\n",
        "    y = step(U3)\n",
        "    print(y)"
      ],
      "execution_count": 0,
      "outputs": []
    },
    {
      "metadata": {
        "id": "sdSkvrwGsW2R",
        "colab_type": "text"
      },
      "cell_type": "markdown",
      "source": [
        "## 条件分岐をニューラルネットワークに導入してみよう"
      ]
    },
    {
      "metadata": {
        "id": "A1DvkcTJsb1G",
        "colab_type": "code",
        "colab": {}
      },
      "cell_type": "code",
      "source": [
        "import numpy as np\n",
        "\n",
        "def step (x):\n",
        "    y = x > 0 \n",
        "    return y.astype(np.int)\n",
        "\n",
        "data = []\n",
        "data_file = open(\"gaibu_data.csv\", \"r\",encoding=\"UTF-8\")\n",
        "for line in data_file:\n",
        "    line = line.rstrip(\"\\n\").split(\",\")\n",
        "    data.append([float(line[0]), float(line[1]), float(line[2]) , float(line[3]) , float(line[4])])\n",
        "data_file.close()\n",
        "\n",
        "for x in data:\n",
        "    w_x = np.array([[0.46, 0.43, -0.31, 0.16],\n",
        "                    [-0.31, 0.08, 0.18, -0.52],\n",
        "                    [-0.67, 0.27, -0.19, -0.05],\n",
        "                    [0.02, 0.04, 0.10, -0.35],\n",
        "                    [-0.87, 0.65, 0.15, -0.12]])\n",
        "\n",
        "    w_u1 = np.array([[-0.68, 0.01],\n",
        "                    [0.10, 0.50],\n",
        "                    [-0.10, -0.21],\n",
        "                    [-1.25, 0.50]])\n",
        "\n",
        "    w_u2 =  np.array([0.43, -0.19])\n",
        "\n",
        "    u1 = np.dot(x, w_x)\n",
        "    z1 = step(u1)\n",
        "    u2 = np.dot(z1, w_u1)\n",
        "    z2 = step(u2)\n",
        "    u3 = np.dot(z2, w_u2)\n",
        "    y = step(u3)\n",
        "    # 以下を条件分岐式に変更\n",
        "    print(y)"
      ],
      "execution_count": 0,
      "outputs": []
    },
    {
      "metadata": {
        "id": "9YgZnaTevZYk",
        "colab_type": "text"
      },
      "cell_type": "markdown",
      "source": [
        "# オブジェクト指向について学ぼう"
      ]
    },
    {
      "metadata": {
        "id": "UREXCq3WvWK-",
        "colab_type": "text"
      },
      "cell_type": "markdown",
      "source": [
        "## オブジェクト指向をニューラルネットワークに導入してみよう"
      ]
    },
    {
      "metadata": {
        "id": "LW0e65MYvX5W",
        "colab_type": "code",
        "colab": {}
      },
      "cell_type": "code",
      "source": [
        "import numpy as np\n",
        "\n",
        "def step (x):\n",
        "    y = x > 0 \n",
        "    return y.astype(np.int)\n",
        "\n",
        "data = []\n",
        "data_file = open(\"gaibu_data.csv\", \"r\",encoding=\"UTF-8\")\n",
        "for line in data_file:\n",
        "    line = line.rstrip(\"＼n\").split(\",\")\n",
        "    data.append([float(line[0]), float(line[1]), float(line[2]) , float(line[3]) , float(line[4])])\n",
        "data_file.close()\n",
        "\n",
        "# 以下をクラス化\n",
        "\n",
        "for x in data:\n",
        "    w_x = np.array([[0.46, 0.43, -0.31, 0.16],\n",
        "                    [-0.31, 0.08, 0.18, -0.52],\n",
        "                    [-0.67, 0.27, -0.19, -0.05],\n",
        "                    [0.02, 0.04, 0.10, -0.35],\n",
        "                    [-0.87, 0.65, 0.15, -0.12]])\n",
        "\n",
        "    w_u1 = np.array([[-0.68, 0.01],\n",
        "                    [0.10, 0.50],\n",
        "                    [-0.10, -0.21],\n",
        "                    [-1.25, 0.50]])\n",
        "\n",
        "    w_u2 =  np.array([0.43, -0.19])\n",
        "\n",
        "    u1 = np.dot(x, w_x)\n",
        "    z1 = step(u1)\n",
        "    u2 = np.dot(z1, w_u1)\n",
        "    z2 = step(u2)\n",
        "    u3 = np.dot(z2, w_u2)\n",
        "    y = step(u3)\n",
        "\n",
        "    if y == 0:\n",
        "        print(\"あなたは女性的な思考です。\")\n",
        "    else:\n",
        "        print(\"あなたは男性的な思考です。\")\n",
        "        \n",
        "# インスタンス化と実行"
      ],
      "execution_count": 0,
      "outputs": []
    }
  ]
}