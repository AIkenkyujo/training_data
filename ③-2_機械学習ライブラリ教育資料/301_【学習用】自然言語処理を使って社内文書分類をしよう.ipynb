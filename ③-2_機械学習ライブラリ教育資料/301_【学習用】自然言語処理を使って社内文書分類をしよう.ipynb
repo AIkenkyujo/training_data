{
  "nbformat": 4,
  "nbformat_minor": 0,
  "metadata": {
    "colab": {
      "name": "301_【学習用】_自然言語処理を使って社内文書分類をしよう.ipynb",
      "provenance": []
    },
    "kernelspec": {
      "name": "python3",
      "display_name": "Python 3"
    }
  },
  "cells": [
    {
      "cell_type": "markdown",
      "metadata": {
        "id": "s9r2c4ikcuNU",
        "colab_type": "text"
      },
      "source": [
        "# 使用するライブラリをインストールしよう"
      ]
    },
    {
      "cell_type": "code",
      "metadata": {
        "id": "Q-r13m0lOtw_",
        "colab_type": "code",
        "colab": {}
      },
      "source": [
        ""
      ],
      "execution_count": 0,
      "outputs": []
    },
    {
      "cell_type": "markdown",
      "metadata": {
        "id": "ysVPkw6-cyyr",
        "colab_type": "text"
      },
      "source": [
        "# ライブラリとデータのインポート"
      ]
    },
    {
      "cell_type": "code",
      "metadata": {
        "id": "od7S78XHG4Ib",
        "colab_type": "code",
        "colab": {}
      },
      "source": [
        "import os\n",
        "from janome.tokenizer import Tokenizer\n",
        "from gensim.models.doc2vec import Doc2Vec\n",
        "from gensim.models.doc2vec import TaggedDocument"
      ],
      "execution_count": 0,
      "outputs": []
    },
    {
      "cell_type": "markdown",
      "metadata": {
        "id": "h0Qq9N47c7TB",
        "colab_type": "text"
      },
      "source": [
        "# 文章を形態素解析で分かち書きしよう"
      ]
    },
    {
      "cell_type": "code",
      "metadata": {
        "id": "Huzjzl4YdEEc",
        "colab_type": "code",
        "colab": {}
      },
      "source": [
        ""
      ],
      "execution_count": 0,
      "outputs": []
    },
    {
      "cell_type": "markdown",
      "metadata": {
        "id": "blw9cCWidK0l",
        "colab_type": "text"
      },
      "source": [
        "# Doc2Vecでテキストをベクトル化しよう"
      ]
    },
    {
      "cell_type": "code",
      "metadata": {
        "id": "yOw5nXFhk6bL",
        "colab_type": "code",
        "colab": {}
      },
      "source": [
        ""
      ],
      "execution_count": 0,
      "outputs": []
    },
    {
      "cell_type": "markdown",
      "metadata": {
        "id": "NOWtOep3dh9O",
        "colab_type": "text"
      },
      "source": [
        "# ベクトル化したデータを可視化しよう"
      ]
    },
    {
      "cell_type": "code",
      "metadata": {
        "id": "HsjrIiAb1p_j",
        "colab_type": "code",
        "colab": {}
      },
      "source": [
        ""
      ],
      "execution_count": 0,
      "outputs": []
    },
    {
      "cell_type": "markdown",
      "metadata": {
        "id": "6bi7_K9R3lfl",
        "colab_type": "text"
      },
      "source": [
        "# ベクトルをクラスタリングして、結果を確認しよう"
      ]
    },
    {
      "cell_type": "code",
      "metadata": {
        "id": "0I9Eek7sr0QE",
        "colab_type": "code",
        "colab": {}
      },
      "source": [
        ""
      ],
      "execution_count": 0,
      "outputs": []
    },
    {
      "cell_type": "markdown",
      "metadata": {
        "id": "m9jgV3VSFspW",
        "colab_type": "text"
      },
      "source": [
        "# 新しいテキストを分類しよう"
      ]
    },
    {
      "cell_type": "code",
      "metadata": {
        "id": "uBtGzvlYGTWi",
        "colab_type": "code",
        "colab": {}
      },
      "source": [
        ""
      ],
      "execution_count": 0,
      "outputs": []
    }
  ]
}