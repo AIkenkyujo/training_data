{
  "nbformat": 4,
  "nbformat_minor": 0,
  "metadata": {
    "colab": {
      "name": "401_【学習用】ニューラルネットワークのクラス分類をしてみよう.ipynb",
      "provenance": [],
      "toc_visible": true
    },
    "kernelspec": {
      "name": "python3",
      "display_name": "Python 3"
    }
  },
  "cells": [
    {
      "cell_type": "markdown",
      "metadata": {
        "id": "gwSdM5Ng2ySS",
        "colab_type": "text"
      },
      "source": [
        "# ニューラルネットワークのクラス分類をしてみよう"
      ]
    },
    {
      "cell_type": "markdown",
      "metadata": {
        "id": "NFxIOb7G3G5W",
        "colab_type": "text"
      },
      "source": [
        "## 学習に使用するデータを整理しよう"
      ]
    },
    {
      "cell_type": "code",
      "metadata": {
        "id": "DxClCwalp01I",
        "colab_type": "code",
        "colab": {}
      },
      "source": [
        ""
      ],
      "execution_count": 0,
      "outputs": []
    },
    {
      "cell_type": "markdown",
      "metadata": {
        "id": "-1INcmp5_hjY",
        "colab_type": "text"
      },
      "source": [
        "## 利用するセルのみ指定して読み込み\n"
      ]
    },
    {
      "cell_type": "code",
      "metadata": {
        "id": "Vp6S8GNuqOsL",
        "colab_type": "code",
        "colab": {}
      },
      "source": [
        ""
      ],
      "execution_count": 0,
      "outputs": []
    },
    {
      "cell_type": "markdown",
      "metadata": {
        "id": "08mdc85P_n-H",
        "colab_type": "text"
      },
      "source": [
        "## ラベルの文字列を数字に置き換え"
      ]
    },
    {
      "cell_type": "code",
      "metadata": {
        "id": "VhffGkCArP_p",
        "colab_type": "code",
        "colab": {}
      },
      "source": [
        ""
      ],
      "execution_count": 0,
      "outputs": []
    },
    {
      "cell_type": "markdown",
      "metadata": {
        "id": "8TO2_RKT_tO1",
        "colab_type": "text"
      },
      "source": [
        "## 学習データとラベルデータに分割"
      ]
    },
    {
      "cell_type": "code",
      "metadata": {
        "id": "6t1eXCaXuIZ4",
        "colab_type": "code",
        "colab": {}
      },
      "source": [
        ""
      ],
      "execution_count": 0,
      "outputs": []
    },
    {
      "cell_type": "markdown",
      "metadata": {
        "id": "hPk9-9Nv_ykJ",
        "colab_type": "text"
      },
      "source": [
        "## Numpy形式に変更"
      ]
    },
    {
      "cell_type": "code",
      "metadata": {
        "id": "lTAsYn_2y9NN",
        "colab_type": "code",
        "colab": {}
      },
      "source": [
        ""
      ],
      "execution_count": 0,
      "outputs": []
    },
    {
      "cell_type": "markdown",
      "metadata": {
        "id": "x7E8R8dO_2Bg",
        "colab_type": "text"
      },
      "source": [
        "## 学習データとテストデータに分割"
      ]
    },
    {
      "cell_type": "code",
      "metadata": {
        "id": "Vlvg0Imwz1Jp",
        "colab_type": "code",
        "colab": {}
      },
      "source": [
        ""
      ],
      "execution_count": 0,
      "outputs": []
    },
    {
      "cell_type": "markdown",
      "metadata": {
        "id": "aKZdQNUB_9Gd",
        "colab_type": "text"
      },
      "source": [
        "## ニューラルネットワークを定義"
      ]
    },
    {
      "cell_type": "code",
      "metadata": {
        "id": "K3FIMVO40SHN",
        "colab_type": "code",
        "colab": {}
      },
      "source": [
        ""
      ],
      "execution_count": 0,
      "outputs": []
    },
    {
      "cell_type": "markdown",
      "metadata": {
        "id": "8dmU29JaARnu",
        "colab_type": "text"
      },
      "source": [
        "## 最適化アルゴリズム、損失関数、評価関数を定義"
      ]
    },
    {
      "cell_type": "code",
      "metadata": {
        "id": "S2j9P0sr0j_y",
        "colab_type": "code",
        "colab": {}
      },
      "source": [
        ""
      ],
      "execution_count": 0,
      "outputs": []
    },
    {
      "cell_type": "markdown",
      "metadata": {
        "id": "-a7cZ5qvAC_-",
        "colab_type": "text"
      },
      "source": [
        "## 学習を実行"
      ]
    },
    {
      "cell_type": "code",
      "metadata": {
        "id": "FRvIKLKl1AEt",
        "colab_type": "code",
        "colab": {}
      },
      "source": [
        ""
      ],
      "execution_count": 0,
      "outputs": []
    },
    {
      "cell_type": "markdown",
      "metadata": {
        "id": "QPp0JUVuAecp",
        "colab_type": "text"
      },
      "source": [
        "## 結果を表形式に保存"
      ]
    },
    {
      "cell_type": "code",
      "metadata": {
        "id": "Z2TStfy-1Ea9",
        "colab_type": "code",
        "colab": {}
      },
      "source": [
        ""
      ],
      "execution_count": 0,
      "outputs": []
    },
    {
      "cell_type": "markdown",
      "metadata": {
        "id": "zGDzCf4LAjM3",
        "colab_type": "text"
      },
      "source": [
        "## グラフ描画"
      ]
    },
    {
      "cell_type": "code",
      "metadata": {
        "id": "QlXz6Xft2but",
        "colab_type": "code",
        "colab": {}
      },
      "source": [
        ""
      ],
      "execution_count": 0,
      "outputs": []
    }
  ]
}