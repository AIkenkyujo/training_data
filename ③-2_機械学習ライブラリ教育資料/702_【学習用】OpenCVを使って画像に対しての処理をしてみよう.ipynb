{
  "nbformat": 4,
  "nbformat_minor": 0,
  "metadata": {
    "colab": {
      "name": "701_【学習用】OpenCVを使って画像に対しての処理をしてみよう.ipynb",
      "version": "0.3.2",
      "provenance": [],
      "collapsed_sections": []
    },
    "kernelspec": {
      "name": "python3",
      "display_name": "Python 3"
    }
  },
  "cells": [
    {
      "cell_type": "markdown",
      "metadata": {
        "id": "99WJ5N-PZgfe",
        "colab_type": "text"
      },
      "source": [
        "# OpenCVを使って画像に対しての処理をしてみよう "
      ]
    },
    {
      "cell_type": "markdown",
      "metadata": {
        "id": "lkfNRIV6ZmxA",
        "colab_type": "text"
      },
      "source": [
        "## 顔検出ができるプログラムを作成しよう"
      ]
    },
    {
      "cell_type": "code",
      "metadata": {
        "id": "wCM4onpFVlv7",
        "colab_type": "code",
        "colab": {}
      },
      "source": [
        "# ライブラリのインポート\n",
        "\n",
        "\n",
        "# 画像を読み込み\n",
        "\n",
        "\n",
        "# BGR → RGB\n",
        "\n",
        "\n",
        "# カスケードファイルを指定\n",
        "\n",
        "\n",
        "# カスケードファイルを読み込み\n",
        "\n",
        "\n",
        "# 顔を認識し矩形にリスト化 例：[318, 84, 50, 50]\n",
        "\n",
        "\n",
        "# 顔を囲う枠の色を指定\n",
        "\n",
        "\n",
        "# 顔が認識されたら実行\n",
        "\n",
        "\n",
        "# ビジュアライズ\n"
      ],
      "execution_count": 0,
      "outputs": []
    },
    {
      "cell_type": "markdown",
      "metadata": {
        "id": "8_A5EO2ThDMQ",
        "colab_type": "text"
      },
      "source": [
        "## 顔にモザイクをかけるプログラムを作成しよう"
      ]
    },
    {
      "cell_type": "code",
      "metadata": {
        "id": "HkeMQxeacjO2",
        "colab_type": "code",
        "colab": {}
      },
      "source": [
        "# ライブラリのインポート\n",
        "import cv2\n",
        "import matplotlib.pyplot as plt\n",
        "\n",
        "# 画像を読み込み\n",
        "image = cv2.imread(\"/content/drive/My Drive/Colab Notebooks/face.jpg\")\n",
        "\n",
        "# BGR → RGB\n",
        "image = cv2.cvtColor(image, cv2.COLOR_BGR2RGB)\n",
        "\n",
        "# カスケードファイルを指定\n",
        "cascade_file = \"/content/drive/My Drive/Colab Notebooks/haarcascade_frontalface_alt.xml\"\n",
        "\n",
        "# カスケードファイルを読み込み\n",
        "cascade = cv2.CascadeClassifier(cascade_file)\n",
        "\n",
        "# 顔を認識し矩形にリスト化 例：[318, 84, 50, 50]\n",
        "\n",
        "\n",
        "# 顔が認識されたら実行\n"
      ],
      "execution_count": 0,
      "outputs": []
    },
    {
      "cell_type": "markdown",
      "metadata": {
        "id": "cwnAj5NkgycT",
        "colab_type": "text"
      },
      "source": [
        "## 画像を反転しグレースケールにして保存してみよう"
      ]
    },
    {
      "cell_type": "code",
      "metadata": {
        "id": "na5cf8XgeImd",
        "colab_type": "code",
        "outputId": "abce70d7-a1f9-4bc4-a50a-d8da1363691d",
        "colab": {
          "base_uri": "https://localhost:8080/",
          "height": 35
        }
      },
      "source": [
        "import cv2\n",
        "\n",
        "# 画像を読み込み\n",
        "image = cv2.imread(\"/content/drive/My Drive/Colab Notebooks/face.jpg\")\n",
        "\n",
        "# 画像を左右反転\n",
        "\n",
        "\n",
        "# 画像をグレースケールに変換\n",
        "\n",
        "\n",
        "# 画像を保存\n"
      ],
      "execution_count": 0,
      "outputs": [
        {
          "output_type": "execute_result",
          "data": {
            "text/plain": [
              "True"
            ]
          },
          "metadata": {
            "tags": []
          },
          "execution_count": 23
        }
      ]
    },
    {
      "cell_type": "markdown",
      "metadata": {
        "id": "KE4iG_Z8h-A8",
        "colab_type": "text"
      },
      "source": [
        "## 画像のスムージングができるプログラムを作成しよう"
      ]
    },
    {
      "cell_type": "code",
      "metadata": {
        "id": "Qn-yAgZkgxeQ",
        "colab_type": "code",
        "colab": {}
      },
      "source": [
        "import cv2\n",
        "\n",
        "# 画像を読み込み\n",
        "image = cv2.imread(\"/content/drive/My Drive/Colab Notebooks/face.jpg\")\n",
        "\n",
        "# BGR → RGB\n",
        "image = cv2.cvtColor(image, cv2.COLOR_BGR2RGB)\n",
        "\n",
        "plt.imshow(image)\n",
        "plt.show()\n",
        "\n",
        "# スムージング(ガウシアンフィルター)\n"
      ],
      "execution_count": 0,
      "outputs": []
    },
    {
      "cell_type": "markdown",
      "metadata": {
        "id": "gHfKDXoZxGHY",
        "colab_type": "text"
      },
      "source": [
        "## 輪郭を強調するプログラムを作成しよう"
      ]
    },
    {
      "cell_type": "code",
      "metadata": {
        "id": "ym7El43CiLSQ",
        "colab_type": "code",
        "colab": {}
      },
      "source": [
        "import numpy as np\n",
        "\n",
        "# 輪郭強調\n"
      ],
      "execution_count": 0,
      "outputs": []
    }
  ]
}