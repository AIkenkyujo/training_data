{
  "nbformat": 4,
  "nbformat_minor": 0,
  "metadata": {
    "colab": {
      "name": "301_【完成版】自然言語処理を使って社内文書分類をしよう.ipynb",
      "provenance": [],
      "toc_visible": true
    },
    "kernelspec": {
      "name": "python3",
      "display_name": "Python 3"
    }
  },
  "cells": [
    {
      "cell_type": "markdown",
      "metadata": {
        "id": "s9r2c4ikcuNU",
        "colab_type": "text"
      },
      "source": [
        "# 使用するライブラリをインストールしよう"
      ]
    },
    {
      "cell_type": "code",
      "metadata": {
        "id": "Q-r13m0lOtw_",
        "colab_type": "code",
        "colab": {
          "base_uri": "https://localhost:8080/",
          "height": 125
        },
        "outputId": "ca7d35c9-0fac-48a5-b543-f8a62e2995ef"
      },
      "source": [
        "pip install janome"
      ],
      "execution_count": null,
      "outputs": [
        {
          "output_type": "stream",
          "text": [
            "Collecting janome\n",
            "\u001b[?25l  Downloading https://files.pythonhosted.org/packages/79/f0/bd7f90806132d7d9d642d418bdc3e870cfdff5947254ea3cab27480983a7/Janome-0.3.10-py2.py3-none-any.whl (21.5MB)\n",
            "\u001b[K     |████████████████████████████████| 21.5MB 1.7MB/s \n",
            "\u001b[?25hInstalling collected packages: janome\n",
            "Successfully installed janome-0.3.10\n"
          ],
          "name": "stdout"
        }
      ]
    },
    {
      "cell_type": "markdown",
      "metadata": {
        "id": "ysVPkw6-cyyr",
        "colab_type": "text"
      },
      "source": [
        "# ライブラリとデータのインポート"
      ]
    },
    {
      "cell_type": "code",
      "metadata": {
        "id": "od7S78XHG4Ib",
        "colab_type": "code",
        "colab": {}
      },
      "source": [
        "import os\n",
        "from janome.tokenizer import Tokenizer\n",
        "from gensim.models.doc2vec import Doc2Vec\n",
        "from gensim.models.doc2vec import TaggedDocument\n",
        "\n",
        "dir = \"/content/drive/My Drive/Colab Notebooks/Business_description/\"\n",
        "\n",
        "folder = []\n",
        "folder = os.listdir(dir)\n",
        "\n",
        "training_docs = []"
      ],
      "execution_count": null,
      "outputs": []
    },
    {
      "cell_type": "markdown",
      "metadata": {
        "id": "h0Qq9N47c7TB",
        "colab_type": "text"
      },
      "source": [
        "# 文章を形態素解析で分かち書きしよう"
      ]
    },
    {
      "cell_type": "code",
      "metadata": {
        "id": "Huzjzl4YdEEc",
        "colab_type": "code",
        "colab": {}
      },
      "source": [
        "# 解析のためのオブジェクト化\n",
        "t = Tokenizer()\n",
        "\n",
        "i = 0\n",
        "for text in folder:\n",
        "    data = []\n",
        "    # ファイルを開く\n",
        "    file_path = dir + text\n",
        "    file = open(file_path, \"r\", encoding=\"UTF-8_sig\")\n",
        "\n",
        "    # リスト化\n",
        "    for line in file:\n",
        "        line = line.strip()\n",
        "        line = line.replace('\\u3000', '').replace('\\xa0', '').replace(' ', '')\n",
        "        MA = t.tokenize(line, wakati=True)\n",
        "        data.append(MA)\n",
        "                        \n",
        "    tag_doc = data\n",
        "    tag_tag = \"txts_{}\" .format(text[:8])\n",
        "    tag_doc = [item for l in tag_doc for item in l]\n",
        "    \n",
        "    training_docs.append(TaggedDocument(words=tag_doc, tags=[tag_tag]))\n",
        "    i += 1"
      ],
      "execution_count": null,
      "outputs": []
    },
    {
      "cell_type": "markdown",
      "metadata": {
        "id": "blw9cCWidK0l",
        "colab_type": "text"
      },
      "source": [
        "# Doc2Vecでテキストをベクトル化しよう"
      ]
    },
    {
      "cell_type": "code",
      "metadata": {
        "id": "yOw5nXFhk6bL",
        "colab_type": "code",
        "colab": {
          "base_uri": "https://localhost:8080/",
          "height": 107
        },
        "outputId": "79373406-e285-4505-8b41-ec1913205b5b"
      },
      "source": [
        "# モデルの学習\n",
        "model = Doc2Vec(documents=training_docs, size=100, min_count=1, dm=0)\n",
        "\n",
        "# モデルの保存\n",
        "model.save('doc2vec.model')"
      ],
      "execution_count": null,
      "outputs": [
        {
          "output_type": "stream",
          "text": [
            "/usr/local/lib/python3.6/dist-packages/gensim/models/doc2vec.py:570: UserWarning: The parameter `size` is deprecated, will be removed in 4.0.0, use `vector_size` instead.\n",
            "  warnings.warn(\"The parameter `size` is deprecated, will be removed in 4.0.0, use `vector_size` instead.\")\n",
            "/usr/local/lib/python3.6/dist-packages/smart_open/smart_open_lib.py:253: UserWarning: This function is deprecated, use smart_open.open instead. See the migration notes for details: https://github.com/RaRe-Technologies/smart_open/blob/master/README.rst#migrating-to-the-new-open-function\n",
            "  'See the migration notes for details: %s' % _MIGRATION_NOTES_URL\n"
          ],
          "name": "stderr"
        }
      ]
    },
    {
      "cell_type": "code",
      "metadata": {
        "id": "rZl170aUThCU",
        "colab_type": "code",
        "colab": {
          "base_uri": "https://localhost:8080/",
          "height": 512
        },
        "outputId": "38cc3c6a-852d-47fb-c063-aea50a73cb11"
      },
      "source": [
        "tags = []\n",
        "vecs = []\n",
        "\n",
        "for i in range(len(model.docvecs)):\n",
        "    # ベクトルの取得\n",
        "    vecs.append(model.docvecs[i])  \n",
        "    # タグの取得\n",
        "    tags.append(model.docvecs.index_to_doctag(i))\n",
        "\n",
        "print(tags) \n",
        "print(vecs[:1]) "
      ],
      "execution_count": null,
      "outputs": [
        {
          "output_type": "stream",
          "text": [
            "['txts_S100I4KQ', 'txts_S100I4EM', 'txts_S100HTOQ', 'txts_S100G4C7', 'txts_S100G9BO', 'txts_S100GDPD', 'txts_S100I4DS', 'txts_S100HTVS', 'txts_S100HU8O', 'txts_S100HT4W', 'txts_S100HO5D', 'txts_S100H6HF', 'txts_S100H6D7', 'txts_S100H17H', 'txts_S100H6IZ', 'txts_S100HM31', 'txts_S100H6AR', 'txts_S100HNK2', 'txts_S100G9V0', 'txts_S100GDL5', 'txts_S100HO0J', 'txts_S100GUY0', 'txts_S100GUZI', 'txts_S100HNJZ', 'txts_S100HMW8', 'txts_S100HNGZ', 'txts_S100HO5K', 'txts_S100G63Q', 'txts_S100G8IS', 'txts_S100HTNP', 'txts_S100HTDK', 'txts_S100GA80', 'txts_S100HODP', 'txts_S100H7HH', 'txts_S100H0Q8', 'txts_S100HHHV', 'txts_S100G729', 'txts_S100HHC0', 'txts_S100H0ND', 'txts_S100G94Q', 'txts_S100GB0T', 'txts_S100FIYE', 'txts_S100FJAQ', 'txts_S100GDJK', 'txts_S100GV98', 'txts_S100I41F', 'txts_S100GBUC', 'txts_S100G27M', 'txts_S100G8WP', 'txts_S100GAHR', 'txts_S100GUHS', 'txts_S100FVJR', 'txts_S100GKMJ', 'txts_S100GAU0', 'txts_S100GL4O', 'txts_S100HNWT', 'txts_S100HHSP', 'txts_S100HMN8', 'txts_S100GB9F', 'txts_S100FIR0', 'txts_S100FHDY', 'txts_S100FVCU', 'txts_S100GD82', 'txts_S100HN1S', 'txts_S100FGGU', 'txts_S100GDA0', 'txts_S100GA62', 'txts_S100HNEG', 'txts_S100G411', 'txts_S100FIIM', 'txts_S100FHF6', 'txts_S100GZGO', 'txts_S100G5NB', 'txts_S100HNSS', 'txts_S100FGX1', 'txts_S100HL9X', 'txts_S100G1DG', 'txts_S100HTOW', 'txts_S100FJ3X', 'txts_S100HU19', 'txts_S100HO3J', 'txts_S100FIK5', 'txts_S100H6VI', 'txts_S100HN4T', 'txts_S100FHZB', 'txts_S100FGER', 'txts_S100FEKW', 'txts_S100HHSS', 'txts_S100FW7R', 'txts_S100HMUP', 'txts_S100HM8J', 'txts_S100HM67', 'txts_S100GZ0E', 'txts_S100HNSX', 'txts_S100H1Q5', 'txts_S100HHGJ', 'txts_S100HLO6', 'txts_S100HH36', 'txts_S100FIGF']\n",
            "[array([ 6.24497347e-02, -5.24360836e-01, -2.63417214e-01,  3.37001890e-01,\n",
            "        6.98605105e-02,  7.73998396e-03,  2.48535406e-02,  3.89652431e-01,\n",
            "        6.95671216e-02, -1.04872704e-01, -4.18744326e-01, -2.84694940e-01,\n",
            "        1.13005482e-01,  8.66205841e-02,  4.80614066e-01, -3.08653936e-02,\n",
            "        2.74863631e-01, -1.01538390e-01, -3.37276399e-01, -2.17001557e-01,\n",
            "        5.04298747e-01,  3.28115895e-02,  3.06483388e-01,  3.31294984e-01,\n",
            "        4.40938443e-01,  1.36072740e-01,  8.74423608e-02,  2.83599406e-01,\n",
            "       -1.70183510e-01, -1.10995196e-01, -3.35695356e-01, -1.34261772e-01,\n",
            "        7.49984160e-02,  2.84745336e-01, -4.95432466e-01, -2.53563106e-01,\n",
            "        2.12537602e-01, -5.61194532e-02, -6.58836961e-01, -1.58976212e-01,\n",
            "        3.08891386e-01, -4.99623083e-02,  6.11087561e-01, -2.55379140e-01,\n",
            "       -1.55610383e-01, -4.31785226e-01,  1.17437474e-01, -4.66404051e-01,\n",
            "       -7.27589130e-02,  4.08789039e-01,  3.52135152e-01, -2.57248670e-01,\n",
            "        4.95867699e-01,  2.58690000e-01,  1.32405177e-01,  4.47366029e-01,\n",
            "        7.69245923e-01,  4.23039049e-01,  2.47007251e-01,  1.46888167e-01,\n",
            "       -8.18634108e-02, -7.12863684e-01, -7.56235048e-02,  3.91717017e-01,\n",
            "       -2.92865597e-02,  2.71374881e-01,  3.23614568e-01,  4.48622197e-01,\n",
            "        1.18181780e-01,  4.90963072e-01,  6.55918360e-01,  4.30932015e-01,\n",
            "        6.46415502e-02, -7.27660838e-04, -3.95066082e-01,  3.22001904e-01,\n",
            "        4.87832427e-01, -4.76186752e-01,  5.54506719e-01, -7.78363720e-02,\n",
            "       -5.04677296e-01,  3.35709244e-01,  3.24566096e-01, -1.54097468e-01,\n",
            "        4.65885773e-02,  1.73822194e-02,  3.09344560e-01, -3.17557961e-01,\n",
            "        4.60337907e-01,  1.11272499e-01,  3.79482917e-02, -4.29294884e-01,\n",
            "        5.08920491e-01,  1.38467833e-01, -1.12553462e-01, -1.28583834e-01,\n",
            "       -5.76770246e-01, -6.28868759e-01,  1.07463919e-01, -5.50377965e-02],\n",
            "      dtype=float32)]\n"
          ],
          "name": "stdout"
        }
      ]
    },
    {
      "cell_type": "markdown",
      "metadata": {
        "id": "NOWtOep3dh9O",
        "colab_type": "text"
      },
      "source": [
        "# ベクトル化したデータを可視化しよう"
      ]
    },
    {
      "cell_type": "code",
      "metadata": {
        "id": "HsjrIiAb1p_j",
        "colab_type": "code",
        "colab": {
          "base_uri": "https://localhost:8080/",
          "height": 265
        },
        "outputId": "6811b0af-dd55-49d6-9de2-48c136efa048"
      },
      "source": [
        "from sklearn.decomposition import PCA\n",
        "import matplotlib.pyplot as plt\n",
        "\n",
        "def draw_scatter_plot(vecs, tags):\n",
        "\n",
        "    # Scikit-learnのPCAでn_componentsの数値で次元数を決める\n",
        "    pca = PCA(n_components=2)\n",
        "    coords = pca.fit_transform(vecs)\n",
        "\n",
        "    # matplotlibによる可視化\n",
        "    fig, ax = plt.subplots()\n",
        "    x = [v[0] for v in coords]\n",
        "    y = [v[1] for v in coords]\n",
        "    \n",
        "    ax.scatter(x, y)\n",
        "    plt.show()\n",
        "\n",
        "draw_scatter_plot(vecs, tags)"
      ],
      "execution_count": null,
      "outputs": [
        {
          "output_type": "display_data",
          "data": {
            "image/png": "[encoded data removed]",
            "text/plain": [
              "<Figure size 432x288 with 1 Axes>"
            ]
          },
          "metadata": {
            "tags": [],
            "needs_background": "light"
          }
        }
      ]
    },
    {
      "cell_type": "markdown",
      "metadata": {
        "id": "6bi7_K9R3lfl",
        "colab_type": "text"
      },
      "source": [
        "# ベクトルをクラスタリングして、結果を確認しよう"
      ]
    },
    {
      "cell_type": "code",
      "metadata": {
        "id": "0I9Eek7sr0QE",
        "colab_type": "code",
        "colab": {}
      },
      "source": [
        "from sklearn.cluster import KMeans\n",
        "\n",
        "# クラスタの数を決めるのはn_clusters\n",
        "kmeans = KMeans(n_clusters=3, max_iter=100, init=\"k-means++\", n_jobs=-1)\n",
        "# 学習\n",
        "cluster = kmeans.fit_predict(vecs)\n",
        "\n",
        "# 保存\n",
        "import pickle\n",
        "with open('model.pickle', mode='wb') as fp:\n",
        "    pickle.dump(kmeans, fp)"
      ],
      "execution_count": null,
      "outputs": []
    },
    {
      "cell_type": "code",
      "metadata": {
        "id": "_RSTHKZ0trXi",
        "colab_type": "code",
        "colab": {
          "base_uri": "https://localhost:8080/",
          "height": 265
        },
        "outputId": "cbea1c19-bddf-47a0-aea8-2f7151d65ba4"
      },
      "source": [
        "def draw_scatter_plot_cluster(vecs, tags, cluster):\n",
        "    \n",
        "    colors = [\"b\", \"g\", \"r\", \"c\", \"m\", \"y\", \"k\"]\n",
        "\n",
        "    # Scikit-learnのPCAでn_componentsの数値で次元数を決める\n",
        "    pca = PCA(n_components=2)\n",
        "    coords = pca.fit_transform(vecs)\n",
        "\n",
        "    # matplotlibによる可視化\n",
        "    fig, ax = plt.subplots()\n",
        "    x = [v[0] for v in coords]\n",
        "    y = [v[1] for v in coords]\n",
        "    \n",
        "    c_count = max(cluster)\n",
        "\n",
        "    for i in range(c_count + 1):\n",
        "        xx = []\n",
        "        yy = []\n",
        "        for c, a, b, t in zip(cluster, x, y, tags):\n",
        "            if i == c:\n",
        "                xx.append(a)\n",
        "                yy.append(b)\n",
        "        ax.scatter(xx, yy, c=colors[i % 7])\n",
        "    ax.legend(range(c_count+1))             # 凡例表示 例）ax.legend([\"医療系\", \"コンサルティングファーム\", \"建設\"])\n",
        "    plt.show()\n",
        "\n",
        "draw_scatter_plot_cluster(vecs, tags, cluster)"
      ],
      "execution_count": null,
      "outputs": [
        {
          "output_type": "display_data",
          "data": {
            "image/png": "[encoded data removed]",
            "text/plain": [
              "<Figure size 432x288 with 1 Axes>"
            ]
          },
          "metadata": {
            "tags": [],
            "needs_background": "light"
          }
        }
      ]
    },
    {
      "cell_type": "code",
      "metadata": {
        "id": "iZJ8j9B_z3mm",
        "colab_type": "code",
        "colab": {
          "base_uri": "https://localhost:8080/",
          "height": 125
        },
        "outputId": "05b311ea-ca85-4307-b463-d022bf653251"
      },
      "source": [
        "print(tags)\n",
        "print(cluster)\n",
        "\n",
        "my_dict = dict(zip(tags, cluster))\n",
        "print(my_dict)\n"
      ],
      "execution_count": null,
      "outputs": [
        {
          "output_type": "stream",
          "text": [
            "['txts_S100I4KQ', 'txts_S100I4EM', 'txts_S100HTOQ', 'txts_S100G4C7', 'txts_S100G9BO', 'txts_S100GDPD', 'txts_S100I4DS', 'txts_S100HTVS', 'txts_S100HU8O', 'txts_S100HT4W', 'txts_S100HO5D', 'txts_S100H6HF', 'txts_S100H6D7', 'txts_S100H17H', 'txts_S100H6IZ', 'txts_S100HM31', 'txts_S100H6AR', 'txts_S100HNK2', 'txts_S100G9V0', 'txts_S100GDL5', 'txts_S100HO0J', 'txts_S100GUY0', 'txts_S100GUZI', 'txts_S100HNJZ', 'txts_S100HMW8', 'txts_S100HNGZ', 'txts_S100HO5K', 'txts_S100G63Q', 'txts_S100G8IS', 'txts_S100HTNP', 'txts_S100HTDK', 'txts_S100GA80', 'txts_S100HODP', 'txts_S100H7HH', 'txts_S100H0Q8', 'txts_S100HHHV', 'txts_S100G729', 'txts_S100HHC0', 'txts_S100H0ND', 'txts_S100G94Q', 'txts_S100GB0T', 'txts_S100FIYE', 'txts_S100FJAQ', 'txts_S100GDJK', 'txts_S100GV98', 'txts_S100I41F', 'txts_S100GBUC', 'txts_S100G27M', 'txts_S100G8WP', 'txts_S100GAHR', 'txts_S100GUHS', 'txts_S100FVJR', 'txts_S100GKMJ', 'txts_S100GAU0', 'txts_S100GL4O', 'txts_S100HNWT', 'txts_S100HHSP', 'txts_S100HMN8', 'txts_S100GB9F', 'txts_S100FIR0', 'txts_S100FHDY', 'txts_S100FVCU', 'txts_S100GD82', 'txts_S100HN1S', 'txts_S100FGGU', 'txts_S100GDA0', 'txts_S100GA62', 'txts_S100HNEG', 'txts_S100G411', 'txts_S100FIIM', 'txts_S100FHF6', 'txts_S100GZGO', 'txts_S100G5NB', 'txts_S100HNSS', 'txts_S100FGX1', 'txts_S100HL9X', 'txts_S100G1DG', 'txts_S100HTOW', 'txts_S100FJ3X', 'txts_S100HU19', 'txts_S100HO3J', 'txts_S100FIK5', 'txts_S100H6VI', 'txts_S100HN4T', 'txts_S100FHZB', 'txts_S100FGER', 'txts_S100FEKW', 'txts_S100HHSS', 'txts_S100FW7R', 'txts_S100HMUP', 'txts_S100HM8J', 'txts_S100HM67', 'txts_S100GZ0E', 'txts_S100HNSX', 'txts_S100H1Q5', 'txts_S100HHGJ', 'txts_S100HLO6', 'txts_S100HH36', 'txts_S100FIGF']\n",
            "[1 0 0 0 0 0 0 1 1 2 1 0 1 1 0 1 2 1 1 1 1 1 1 2 0 0 0 1 0 0 1 1 0 1 0 1 0\n",
            " 0 0 1 0 2 2 0 1 0 0 0 0 1 0 1 1 0 1 0 0 1 1 0 0 1 1 0 1 1 1 1 0 0 1 0 0 0\n",
            " 0 0 0 0 1 0 0 1 0 1 1 0 1 0 0 0 0 0 1 0 0 1 0 1 2]\n",
            "{'txts_S100I4KQ': 1, 'txts_S100I4EM': 0, 'txts_S100HTOQ': 0, 'txts_S100G4C7': 0, 'txts_S100G9BO': 0, 'txts_S100GDPD': 0, 'txts_S100I4DS': 0, 'txts_S100HTVS': 1, 'txts_S100HU8O': 1, 'txts_S100HT4W': 2, 'txts_S100HO5D': 1, 'txts_S100H6HF': 0, 'txts_S100H6D7': 1, 'txts_S100H17H': 1, 'txts_S100H6IZ': 0, 'txts_S100HM31': 1, 'txts_S100H6AR': 2, 'txts_S100HNK2': 1, 'txts_S100G9V0': 1, 'txts_S100GDL5': 1, 'txts_S100HO0J': 1, 'txts_S100GUY0': 1, 'txts_S100GUZI': 1, 'txts_S100HNJZ': 2, 'txts_S100HMW8': 0, 'txts_S100HNGZ': 0, 'txts_S100HO5K': 0, 'txts_S100G63Q': 1, 'txts_S100G8IS': 0, 'txts_S100HTNP': 0, 'txts_S100HTDK': 1, 'txts_S100GA80': 1, 'txts_S100HODP': 0, 'txts_S100H7HH': 1, 'txts_S100H0Q8': 0, 'txts_S100HHHV': 1, 'txts_S100G729': 0, 'txts_S100HHC0': 0, 'txts_S100H0ND': 0, 'txts_S100G94Q': 1, 'txts_S100GB0T': 0, 'txts_S100FIYE': 2, 'txts_S100FJAQ': 2, 'txts_S100GDJK': 0, 'txts_S100GV98': 1, 'txts_S100I41F': 0, 'txts_S100GBUC': 0, 'txts_S100G27M': 0, 'txts_S100G8WP': 0, 'txts_S100GAHR': 1, 'txts_S100GUHS': 0, 'txts_S100FVJR': 1, 'txts_S100GKMJ': 1, 'txts_S100GAU0': 0, 'txts_S100GL4O': 1, 'txts_S100HNWT': 0, 'txts_S100HHSP': 0, 'txts_S100HMN8': 1, 'txts_S100GB9F': 1, 'txts_S100FIR0': 0, 'txts_S100FHDY': 0, 'txts_S100FVCU': 1, 'txts_S100GD82': 1, 'txts_S100HN1S': 0, 'txts_S100FGGU': 1, 'txts_S100GDA0': 1, 'txts_S100GA62': 1, 'txts_S100HNEG': 1, 'txts_S100G411': 0, 'txts_S100FIIM': 0, 'txts_S100FHF6': 1, 'txts_S100GZGO': 0, 'txts_S100G5NB': 0, 'txts_S100HNSS': 0, 'txts_S100FGX1': 0, 'txts_S100HL9X': 0, 'txts_S100G1DG': 0, 'txts_S100HTOW': 0, 'txts_S100FJ3X': 1, 'txts_S100HU19': 0, 'txts_S100HO3J': 0, 'txts_S100FIK5': 1, 'txts_S100H6VI': 0, 'txts_S100HN4T': 1, 'txts_S100FHZB': 1, 'txts_S100FGER': 0, 'txts_S100FEKW': 1, 'txts_S100HHSS': 0, 'txts_S100FW7R': 0, 'txts_S100HMUP': 0, 'txts_S100HM8J': 0, 'txts_S100HM67': 0, 'txts_S100GZ0E': 1, 'txts_S100HNSX': 0, 'txts_S100H1Q5': 0, 'txts_S100HHGJ': 1, 'txts_S100HLO6': 0, 'txts_S100HH36': 1, 'txts_S100FIGF': 2}\n"
          ],
          "name": "stdout"
        }
      ]
    },
    {
      "cell_type": "code",
      "metadata": {
        "id": "o09nHklonYZh",
        "colab_type": "code",
        "colab": {
          "base_uri": "https://localhost:8080/",
          "height": 34
        },
        "outputId": "1393a026-c8bf-4693-dff6-3e775b245815"
      },
      "source": [
        "keys = [k for k, v in my_dict.items() if v == 2]\n",
        "print(keys)"
      ],
      "execution_count": null,
      "outputs": [
        {
          "output_type": "stream",
          "text": [
            "['txts_S100HT4W', 'txts_S100H6AR', 'txts_S100HNJZ', 'txts_S100FIYE', 'txts_S100FJAQ', 'txts_S100FIGF']\n"
          ],
          "name": "stdout"
        }
      ]
    },
    {
      "cell_type": "markdown",
      "metadata": {
        "id": "m9jgV3VSFspW",
        "colab_type": "text"
      },
      "source": [
        "# 新しいテキストを分類しよう"
      ]
    },
    {
      "cell_type": "code",
      "metadata": {
        "id": "HBzHWqFBFsHW",
        "colab_type": "code",
        "colab": {
          "base_uri": "https://localhost:8080/",
          "height": 34
        },
        "outputId": "c8fb1389-e4a6-4cfe-9e76-c96817ef4716"
      },
      "source": [
        "# 読み込み\n",
        "import pickle\n",
        "with open('model.pickle', mode='rb') as fp:\n",
        "   kmeans = pickle.load(fp)\n",
        "\n",
        "test_line = []\n",
        "file_path = \"/content/S100G5J9_company_business_description.txt\"\n",
        "file = open(file_path, \"r\", encoding=\"UTF-8_sig\")\n",
        "    \n",
        "# リスト化\n",
        "for line in file:\n",
        "    line = line.strip()\n",
        "    line = line.replace('\\u3000', '').replace('\\xa0', '').replace(' ', '')\n",
        "    MA = t.tokenize(line, wakati=True)\n",
        "    test_line.append(MA)\n",
        "tag_doc = test_line\n",
        "tag_doc = [item for l in tag_doc for item in l]\n",
        "\n",
        "target_vec = model.infer_vector(tag_doc)\n",
        "\n",
        "# そのベクトルをリスト内にいれて学習済みモデルで予測する\n",
        "prediction = kmeans.predict([target_vec])\n",
        "\n",
        "print(prediction)"
      ],
      "execution_count": null,
      "outputs": [
        {
          "output_type": "stream",
          "text": [
            "[2]\n"
          ],
          "name": "stdout"
        }
      ]
    }
  ]
}