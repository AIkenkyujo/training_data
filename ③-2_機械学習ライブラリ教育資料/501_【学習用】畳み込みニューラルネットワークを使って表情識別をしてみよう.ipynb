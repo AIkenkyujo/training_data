{
  "nbformat": 4,
  "nbformat_minor": 0,
  "metadata": {
    "colab": {
      "name": "501_【学習用】畳み込みニューラルネットワークを使って表情識別をしてみよう.ipynb",
      "provenance": [],
      "collapsed_sections": []
    },
    "kernelspec": {
      "name": "python3",
      "display_name": "Python 3"
    },
    "accelerator": "GPU"
  },
  "cells": [
    {
      "cell_type": "markdown",
      "metadata": {
        "id": "Ni1Im_VPLIK0",
        "colab_type": "text"
      },
      "source": [
        "## 使用するデータを準備しよう"
      ]
    },
    {
      "cell_type": "code",
      "metadata": {
        "id": "z-u1VtsXVhIF",
        "colab_type": "code",
        "colab": {}
      },
      "source": [
        ""
      ],
      "execution_count": 0,
      "outputs": []
    },
    {
      "cell_type": "markdown",
      "metadata": {
        "id": "byQbkDHcLRW7",
        "colab_type": "text"
      },
      "source": [
        "## CNNに適用する型に変更しよう"
      ]
    },
    {
      "cell_type": "code",
      "metadata": {
        "id": "LD8vyjprajSe",
        "colab_type": "code",
        "colab": {}
      },
      "source": [
        ""
      ],
      "execution_count": 0,
      "outputs": []
    },
    {
      "cell_type": "markdown",
      "metadata": {
        "id": "nrNQx10DLf6R",
        "colab_type": "text"
      },
      "source": [
        "## ニューラルネットワークのモデルを作成しよう"
      ]
    },
    {
      "cell_type": "code",
      "metadata": {
        "id": "_2rAMGIsXGZN",
        "colab_type": "code",
        "colab": {}
      },
      "source": [
        ""
      ],
      "execution_count": 0,
      "outputs": []
    },
    {
      "cell_type": "markdown",
      "metadata": {
        "id": "7BOUZoFmLn9U",
        "colab_type": "text"
      },
      "source": [
        "## モデルをコンパイルしよう"
      ]
    },
    {
      "cell_type": "code",
      "metadata": {
        "id": "lc4O_XEjYp8I",
        "colab_type": "code",
        "colab": {}
      },
      "source": [
        ""
      ],
      "execution_count": 0,
      "outputs": []
    },
    {
      "cell_type": "markdown",
      "metadata": {
        "id": "VPJ1TNFXLpX0",
        "colab_type": "text"
      },
      "source": [
        "## 機械学習を実行するプログラムを作成しよう"
      ]
    },
    {
      "cell_type": "code",
      "metadata": {
        "id": "4GoF-xhSYtrZ",
        "colab_type": "code",
        "colab": {}
      },
      "source": [
        ""
      ],
      "execution_count": 0,
      "outputs": []
    },
    {
      "cell_type": "markdown",
      "metadata": {
        "id": "R0vizDblLvFQ",
        "colab_type": "text"
      },
      "source": [
        "## ネットワーク構成を確認しよう"
      ]
    },
    {
      "cell_type": "code",
      "metadata": {
        "id": "A9La9XbImdKG",
        "colab_type": "code",
        "colab": {}
      },
      "source": [
        ""
      ],
      "execution_count": 0,
      "outputs": []
    },
    {
      "cell_type": "markdown",
      "metadata": {
        "id": "T6Yck5JNL29y",
        "colab_type": "text"
      },
      "source": [
        "## グラフを使って可視化しよう"
      ]
    },
    {
      "cell_type": "code",
      "metadata": {
        "id": "IaLu5fZ9ZXnm",
        "colab_type": "code",
        "colab": {}
      },
      "source": [
        ""
      ],
      "execution_count": 0,
      "outputs": []
    },
    {
      "cell_type": "markdown",
      "metadata": {
        "id": "tZZEewKnL59-",
        "colab_type": "text"
      },
      "source": [
        "## グラフを使って可視化しよう"
      ]
    },
    {
      "cell_type": "code",
      "metadata": {
        "id": "oaNP911EjpvS",
        "colab_type": "code",
        "colab": {}
      },
      "source": [
        ""
      ],
      "execution_count": 0,
      "outputs": []
    },
    {
      "cell_type": "markdown",
      "metadata": {
        "id": "QZNS9O3DL7d7",
        "colab_type": "text"
      },
      "source": [
        "## モデルを保存しよう"
      ]
    },
    {
      "cell_type": "code",
      "metadata": {
        "id": "GCmxQsq5lGeU",
        "colab_type": "code",
        "colab": {}
      },
      "source": [
        ""
      ],
      "execution_count": 0,
      "outputs": []
    }
  ]
}