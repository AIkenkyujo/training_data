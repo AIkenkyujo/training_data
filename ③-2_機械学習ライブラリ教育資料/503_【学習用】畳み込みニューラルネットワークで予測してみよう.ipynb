{
  "nbformat": 4,
  "nbformat_minor": 0,
  "metadata": {
    "colab": {
      "name": "503_【学習用】畳み込みニューラルネットワークで予測してみよう.ipynb",
      "provenance": [],
      "collapsed_sections": []
    },
    "kernelspec": {
      "name": "python3",
      "display_name": "Python 3"
    },
    "accelerator": "GPU"
  },
  "cells": [
    {
      "cell_type": "markdown",
      "metadata": {
        "id": "y6X6DgHjOx3o",
        "colab_type": "text"
      },
      "source": [
        "# 学習済みモデルを使って表情認識をしてみよう"
      ]
    },
    {
      "cell_type": "markdown",
      "metadata": {
        "id": "qt6bNJLKO0hP",
        "colab_type": "text"
      },
      "source": [
        "## 使用するデータを準備しよう"
      ]
    },
    {
      "cell_type": "code",
      "metadata": {
        "id": "z-u1VtsXVhIF",
        "colab_type": "code",
        "colab": {}
      },
      "source": [
        ""
      ],
      "execution_count": 0,
      "outputs": []
    },
    {
      "cell_type": "markdown",
      "metadata": {
        "id": "pYYi8-cqO9So",
        "colab_type": "text"
      },
      "source": [
        "## CNNに適用する型に変更しよう"
      ]
    },
    {
      "cell_type": "code",
      "metadata": {
        "id": "LD8vyjprajSe",
        "colab_type": "code",
        "colab": {}
      },
      "source": [
        ""
      ],
      "execution_count": 0,
      "outputs": []
    },
    {
      "cell_type": "markdown",
      "metadata": {
        "id": "ORUJblWcPJRK",
        "colab_type": "text"
      },
      "source": [
        "## ニューラルネットワークのモデルを復元しよう"
      ]
    },
    {
      "cell_type": "code",
      "metadata": {
        "id": "TSM_quBbRht-",
        "colab_type": "code",
        "colab": {}
      },
      "source": [
        ""
      ],
      "execution_count": 0,
      "outputs": []
    },
    {
      "cell_type": "markdown",
      "metadata": {
        "id": "e71b5bFOPSUn",
        "colab_type": "text"
      },
      "source": [
        "## モデル構成を確認"
      ]
    },
    {
      "cell_type": "code",
      "metadata": {
        "id": "p50fpgftXxyi",
        "colab_type": "code",
        "colab": {}
      },
      "source": [
        ""
      ],
      "execution_count": 0,
      "outputs": []
    },
    {
      "cell_type": "markdown",
      "metadata": {
        "id": "jDbPEK4jPXV-",
        "colab_type": "text"
      },
      "source": [
        "## 実行プログラムを作成しよう"
      ]
    },
    {
      "cell_type": "code",
      "metadata": {
        "id": "ewqQaF3GZSMd",
        "colab_type": "code",
        "colab": {}
      },
      "source": [
        ""
      ],
      "execution_count": 0,
      "outputs": []
    }
  ]
}