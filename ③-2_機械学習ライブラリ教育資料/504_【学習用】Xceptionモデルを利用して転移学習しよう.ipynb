{
  "nbformat": 4,
  "nbformat_minor": 0,
  "metadata": {
    "colab": {
      "name": "504_【学習用】Xceptionモデルを利用して転移学習しよう.ipynb",
      "provenance": [],
      "collapsed_sections": [],
      "toc_visible": true
    },
    "kernelspec": {
      "name": "python3",
      "display_name": "Python 3"
    },
    "accelerator": "GPU"
  },
  "cells": [
    {
      "cell_type": "markdown",
      "metadata": {
        "id": "uEN65Q_wQBqB",
        "colab_type": "text"
      },
      "source": [
        "# Xceptionモデルを利用して転移学習しよう"
      ]
    },
    {
      "cell_type": "markdown",
      "metadata": {
        "id": "x-NER-TGQD3X",
        "colab_type": "text"
      },
      "source": [
        "## データをインポートしよう（画像サイズのみ変更）"
      ]
    },
    {
      "cell_type": "code",
      "metadata": {
        "colab_type": "code",
        "id": "lyFnP-UTRsZf",
        "colab": {}
      },
      "source": [
        "import cv2\n",
        "import numpy as np\n",
        "import os\n",
        "from glob import glob\n",
        "\n",
        "Path = glob(\"/content/drive/My Drive/Colab Notebooks/face/*/\")\n",
        "\n",
        "# 空のリストを準備\n",
        "data = []\n",
        "label = [] \n",
        "class_num = 0\n",
        "\n",
        "# 画像サイズ\n",
        "image_size = 28\n",
        "\n",
        "def append_data(directory, class_num):\n",
        "    # 例：['KA.AN2.40.jpg', 'KA.AN3.41.jpg',,,,,'KL.AN2.168.jpg', 'KL.AN3.169.jpg']\n",
        "    files = os.listdir(directory)  # ディレクトリの中をファイルを全てリストにする\n",
        "    print(files)\n",
        "    for image in files:\n",
        "        if image.endswith(\".jpg\"): # jpg画像だけを抽出\n",
        "            image = cv2.imread(directory + image) # 画像を準備\n",
        "            image = cv2.resize(image, (image_size, image_size)) # リサイズ\n",
        "            # image_gs = cv2.cvtColor(image, cv2.COLOR_BGR2GRAY) # グレースケール\n",
        "            image = image.flatten() # リストを平坦化     \n",
        "            data.append(image)  # 学習用データに代入\n",
        "            label.append(class_num)  # 学習用データのラベルに代入\n",
        "                \n",
        "for fil in Path:\n",
        "    append_data(fil, class_num)\n",
        "    class_num += 1\n",
        "\n",
        "print(label)"
      ],
      "execution_count": null,
      "outputs": []
    },
    {
      "cell_type": "markdown",
      "metadata": {
        "id": "oB-4jSvtQUDm",
        "colab_type": "text"
      },
      "source": [
        "## CNNに適用する型に変更（501と同じ）"
      ]
    },
    {
      "cell_type": "code",
      "metadata": {
        "colab_type": "code",
        "id": "X0XU9CQSRsOZ",
        "colab": {}
      },
      "source": [
        "# データ型の変換\n",
        "data = np.array(data, dtype=np.float32)\n",
        "label = np.array(label, dtype=np.float32)\n",
        "\n",
        "# 学習データとテストデータに分割\n",
        "from sklearn.model_selection import train_test_split\n",
        "train_data, test_data, train_label, test_label = train_test_split(data,label, \n",
        "                                                                  random_state = 0, \n",
        "                                                                  stratify = label, \n",
        "                                                                  test_size = 0.2)\n",
        "\n",
        "# 学習データのリストを変形  #.reshape(データの数, 縦のサイズ, 横のサイズ, 次元)\n",
        "train_data = train_data.reshape((len(train_data)),image_size,image_size,3)\n",
        "test_data = test_data.reshape((len(test_data)),image_size,image_size,3)\n",
        "\n",
        "# 学習データを正規化\n",
        "train_data /= 255 # to 0-1\n",
        "test_data /= 255 # to 0-1\n",
        "\n",
        "# ラベルデータをone-hot 変換\n",
        "from keras.utils.np_utils import to_categorical\n",
        "train_label = to_categorical(train_label, num_classes=5)\n",
        "test_label = to_categorical(test_label, num_classes=5)\n",
        "\n",
        "print(train_data.shape, train_label.shape, test_data.shape, test_label.shape) \n",
        "\n",
        "test_label\n"
      ],
      "execution_count": null,
      "outputs": []
    },
    {
      "cell_type": "markdown",
      "metadata": {
        "id": "H8uWAWEjLVxs",
        "colab_type": "text"
      },
      "source": [
        "# Xceptionモデルをインポート"
      ]
    },
    {
      "cell_type": "code",
      "metadata": {
        "colab_type": "code",
        "id": "Sd84mBqsRsDi",
        "colab": {}
      },
      "source": [
        "#モデル作成・学習\n",
        "from keras.applications.xception import Xception\n",
        "from keras.models import Model\n",
        "from keras.layers import Conv2D, MaxPooling2D,Input\n",
        "from keras.layers import Dense, Dropout, Flatten, Activation,GlobalAveragePooling2D,Input\n",
        "from keras.models import Sequential\n",
        "from keras.callbacks import EarlyStopping, ReduceLROnPlateau, ModelCheckpoint\n",
        "from keras.optimizers import Adam\n",
        "from keras import optimizers\n",
        "\n",
        "# Xceptionモデルの読み込み\n",
        "\n",
        "\n",
        "# 全結合層の新規構築\n",
        "\n",
        "\n",
        "# ネットワーク定義\n",
        "\n",
        "\n",
        "#123層までfreeze\n",
        "\n",
        "\n",
        "#124層以降、学習させる\n",
        "\n",
        "\n",
        "# layer.trainableの設定後にcompile\n"
      ],
      "execution_count": null,
      "outputs": []
    },
    {
      "cell_type": "markdown",
      "metadata": {
        "id": "8X2XVazjChFH",
        "colab_type": "text"
      },
      "source": [
        "# Data Augumentation"
      ]
    },
    {
      "cell_type": "code",
      "metadata": {
        "colab_type": "code",
        "id": "bZqFLeKFdvy5",
        "colab": {}
      },
      "source": [
        "from tensorflow.python.keras.preprocessing.image import ImageDataGenerator\n",
        "\n",
        "datagen = ImageDataGenerator(\n",
        "    featurewise_center = False,\n",
        "    samplewise_center = False,\n",
        "    featurewise_std_normalization = False,\n",
        "    samplewise_std_normalization = False,\n",
        "    zca_whitening = False,\n",
        "    rotation_range = 10,\n",
        "    width_shift_range = 0.1,\n",
        "    height_shift_range = 0.1,\n",
        "    horizontal_flip = True,\n",
        "    vertical_flip = False\n",
        ")"
      ],
      "execution_count": null,
      "outputs": []
    },
    {
      "cell_type": "markdown",
      "metadata": {
        "id": "amKyoloAQ_Cf",
        "colab_type": "text"
      },
      "source": [
        "# 学習を実行しよう"
      ]
    },
    {
      "cell_type": "code",
      "metadata": {
        "colab_type": "code",
        "id": "Sfxm5l7TG_nm",
        "colab": {}
      },
      "source": [
        ""
      ],
      "execution_count": null,
      "outputs": []
    },
    {
      "cell_type": "markdown",
      "metadata": {
        "id": "Pi4HOOFyCvgw",
        "colab_type": "text"
      },
      "source": [
        "## 結果を可視化しよう "
      ]
    },
    {
      "cell_type": "code",
      "metadata": {
        "id": "g-cm95pGC08W",
        "colab_type": "code",
        "colab": {}
      },
      "source": [
        ""
      ],
      "execution_count": null,
      "outputs": []
    },
    {
      "cell_type": "markdown",
      "metadata": {
        "id": "sGMY7tAdRTCS",
        "colab_type": "text"
      },
      "source": [
        "# 追加学習をしよう"
      ]
    },
    {
      "cell_type": "code",
      "metadata": {
        "id": "r-FAeANO8KQP",
        "colab_type": "code",
        "colab": {}
      },
      "source": [
        ""
      ],
      "execution_count": null,
      "outputs": []
    }
  ]
}