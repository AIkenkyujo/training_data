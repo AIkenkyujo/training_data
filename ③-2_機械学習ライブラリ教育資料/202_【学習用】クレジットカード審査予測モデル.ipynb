{
  "nbformat": 4,
  "nbformat_minor": 0,
  "metadata": {
    "colab": {
      "name": "202_【学習用】クレジットカード審査予測モデル.ipynb",
      "provenance": []
    },
    "kernelspec": {
      "name": "python3",
      "display_name": "Python 3"
    }
  },
  "cells": [
    {
      "cell_type": "markdown",
      "metadata": {
        "id": "jYJXiMadvStT",
        "colab_type": "text"
      },
      "source": [
        "# Sklearnでpredict.pyを作ろう "
      ]
    },
    {
      "cell_type": "markdown",
      "metadata": {
        "id": "mlNN5IjxvYex",
        "colab_type": "text"
      },
      "source": [
        "## データの用意"
      ]
    },
    {
      "cell_type": "code",
      "metadata": {
        "id": "9WMdMggJlDrd",
        "colab_type": "code",
        "outputId": "43c03bd6-5fe3-4822-dcbf-267eeac55fa3",
        "colab": {
          "base_uri": "https://localhost:8080/",
          "height": 106
        }
      },
      "source": [
        "import numpy as np\n",
        "import pandas as pd\n",
        "\n",
        "df = [1000000,\"ローンの残があるが現状遅延なく支払われている\",33,\"配偶者あり\",\"社員\"]\n",
        "\n",
        "data = pd.DataFrame([[3000000.0,     0,0,1,0,0,      0,1,0,0,0,      1,0,    0,0,1,0],\n",
        "                     [8000000.0,      0,1,0,0,0,      0,0,1,0,0,      1,0,    0,0,0,1]])\n",
        "                      # 貯金         信用履歴        年齢            性別    仕事\t\n"
      ],
      "execution_count": 0,
      "outputs": [
        {
          "output_type": "execute_result",
          "data": {
            "text/html": [
              "<div>\n",
              "<style scoped>\n",
              "    .dataframe tbody tr th:only-of-type {\n",
              "        vertical-align: middle;\n",
              "    }\n",
              "\n",
              "    .dataframe tbody tr th {\n",
              "        vertical-align: top;\n",
              "    }\n",
              "\n",
              "    .dataframe thead th {\n",
              "        text-align: right;\n",
              "    }\n",
              "</style>\n",
              "<table border=\"1\" class=\"dataframe\">\n",
              "  <thead>\n",
              "    <tr style=\"text-align: right;\">\n",
              "      <th></th>\n",
              "      <th>0</th>\n",
              "      <th>1</th>\n",
              "      <th>2</th>\n",
              "      <th>3</th>\n",
              "      <th>4</th>\n",
              "      <th>5</th>\n",
              "      <th>6</th>\n",
              "      <th>7</th>\n",
              "      <th>8</th>\n",
              "      <th>9</th>\n",
              "      <th>10</th>\n",
              "      <th>11</th>\n",
              "      <th>12</th>\n",
              "      <th>13</th>\n",
              "      <th>14</th>\n",
              "      <th>15</th>\n",
              "      <th>16</th>\n",
              "    </tr>\n",
              "  </thead>\n",
              "  <tbody>\n",
              "    <tr>\n",
              "      <th>0</th>\n",
              "      <td>3000000.0</td>\n",
              "      <td>0</td>\n",
              "      <td>0</td>\n",
              "      <td>1</td>\n",
              "      <td>0</td>\n",
              "      <td>0</td>\n",
              "      <td>0</td>\n",
              "      <td>1</td>\n",
              "      <td>0</td>\n",
              "      <td>0</td>\n",
              "      <td>0</td>\n",
              "      <td>1</td>\n",
              "      <td>0</td>\n",
              "      <td>0</td>\n",
              "      <td>0</td>\n",
              "      <td>1</td>\n",
              "      <td>0</td>\n",
              "    </tr>\n",
              "    <tr>\n",
              "      <th>1</th>\n",
              "      <td>8000000.0</td>\n",
              "      <td>0</td>\n",
              "      <td>1</td>\n",
              "      <td>0</td>\n",
              "      <td>0</td>\n",
              "      <td>0</td>\n",
              "      <td>0</td>\n",
              "      <td>0</td>\n",
              "      <td>1</td>\n",
              "      <td>0</td>\n",
              "      <td>0</td>\n",
              "      <td>1</td>\n",
              "      <td>0</td>\n",
              "      <td>0</td>\n",
              "      <td>0</td>\n",
              "      <td>0</td>\n",
              "      <td>1</td>\n",
              "    </tr>\n",
              "  </tbody>\n",
              "</table>\n",
              "</div>"
            ],
            "text/plain": [
              "           0  1  2  3  4  5  6  7  8  9  10  11  12  13  14  15  16\n",
              "0  3000000.0  0  0  1  0  0  0  1  0  0   0   1   0   0   0   1   0\n",
              "1  8000000.0  0  1  0  0  0  0  0  1  0   0   1   0   0   0   0   1"
            ]
          },
          "metadata": {
            "tags": []
          },
          "execution_count": 81
        }
      ]
    },
    {
      "cell_type": "markdown",
      "metadata": {
        "id": "iTtjeVmQvfWf",
        "colab_type": "text"
      },
      "source": [
        "## 学習データ全体に対する平均値、最大値、最小値"
      ]
    },
    {
      "cell_type": "code",
      "metadata": {
        "id": "kFN7gLSpmQr3",
        "colab_type": "code",
        "colab": {}
      },
      "source": [
        "        #  貯金           年齢\n",
        "count  1.448000e+03  1448.000000\n",
        "mean   4.843025e+06    48.556630\n",
        "std    4.866182e+06    13.493333\n",
        "min    0.000000e+00    22.000000\n",
        "25%    5.000000e+05    38.000000\n",
        "50%    4.000000e+06    50.000000\n",
        "75%    8.000000e+06    60.000000\n",
        "max    2.000000e+07    70.000000"
      ],
      "execution_count": 0,
      "outputs": []
    },
    {
      "cell_type": "markdown",
      "metadata": {
        "id": "OUv9uGDQvw8D",
        "colab_type": "text"
      },
      "source": [
        "## 正規化処理"
      ]
    },
    {
      "cell_type": "code",
      "metadata": {
        "id": "7UcPtOseo02y",
        "colab_type": "code",
        "colab": {}
      },
      "source": [
        ""
      ],
      "execution_count": 0,
      "outputs": []
    },
    {
      "cell_type": "markdown",
      "metadata": {
        "id": "EPTguiQPvzwX",
        "colab_type": "text"
      },
      "source": [
        "## 保存した学習済みモデルの読み込みと予測の実行"
      ]
    },
    {
      "cell_type": "code",
      "metadata": {
        "id": "m6v4DzBPUAYJ",
        "colab_type": "code",
        "colab": {}
      },
      "source": [
        ""
      ],
      "execution_count": 0,
      "outputs": []
    },
    {
      "cell_type": "code",
      "metadata": {
        "id": "lgv0lznEqKJL",
        "colab_type": "code",
        "colab": {}
      },
      "source": [
        ""
      ],
      "execution_count": 0,
      "outputs": []
    }
  ]
}