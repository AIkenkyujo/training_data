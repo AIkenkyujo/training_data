{
  "nbformat": 4,
  "nbformat_minor": 0,
  "metadata": {
    "colab": {
      "name": "501_【完成版】畳み込みニューラルネットワークを使って表情識別をしてみよう.ipynb",
      "provenance": [],
      "collapsed_sections": []
    },
    "kernelspec": {
      "name": "python3",
      "display_name": "Python 3"
    },
    "accelerator": "GPU"
  },
  "cells": [
    {
      "cell_type": "code",
      "metadata": {
        "id": "gukhBsmV2WiF",
        "colab_type": "code",
        "colab": {}
      },
      "source": [
        "# TensorFlow と tf.keras のインポート\n",
        "import tensorflow as tf\n",
        "from tensorflow import keras"
      ],
      "execution_count": 1,
      "outputs": []
    },
    {
      "cell_type": "markdown",
      "metadata": {
        "id": "Ni1Im_VPLIK0",
        "colab_type": "text"
      },
      "source": [
        "## 使用するデータを準備しよう"
      ]
    },
    {
      "cell_type": "code",
      "metadata": {
        "id": "z-u1VtsXVhIF",
        "colab_type": "code",
        "colab": {
          "base_uri": "https://localhost:8080/",
          "height": 142
        },
        "outputId": "55107c6f-ea0d-4027-dddb-3d9d98b7c602"
      },
      "source": [
        "import cv2\n",
        "import numpy as np\n",
        "import os\n",
        "from glob import glob\n",
        "\n",
        "Path = glob(\"/content/drive/My Drive/Colab Notebooks/face/*/\")\n",
        "\n",
        "# 空のリストを準備\n",
        "data = []\n",
        "label = [] \n",
        "class_num = 0\n",
        "\n",
        "# 画像サイズ\n",
        "image_size = 28\n",
        "\n",
        "def append_data(directory, class_num):\n",
        "    # 例：['KA.AN2.40.jpg', 'KA.AN3.41.jpg',,,,,'KL.AN2.168.jpg', 'KL.AN3.169.jpg']\n",
        "    files = os.listdir(directory)  # ディレクトリの中をファイルを全てリストにする\n",
        "    print(files)\n",
        "    for image in files:\n",
        "        if image.endswith(\".jpg\"): # jpg画像だけを抽出\n",
        "            image = cv2.imread(directory + image) # 画像を準備\n",
        "            image = cv2.resize(image, (image_size, image_size)) # リサイズ\n",
        "            image_gs = cv2.cvtColor(image, cv2.COLOR_BGR2GRAY) # グレースケール\n",
        "            image_gs = image_gs.flatten() # リストを平坦化     \n",
        "            data.append(image_gs)  # 学習用データに代入\n",
        "            label.append(class_num)  # 学習用データのラベルに代入\n",
        "                \n",
        "for fil in Path:\n",
        "    append_data(fil, class_num)\n",
        "    class_num += 1\n",
        "\n",
        "print(label)"
      ],
      "execution_count": 2,
      "outputs": [
        {
          "output_type": "stream",
          "text": [
            "['KA.SU3.38.jpg', 'KL.SU1.164.jpg', 'KA.SU1.36.jpg', 'KL.SU2.165.jpg', 'KA.SU2.37.jpg', 'KM.SU1.14.jpg', 'KM.SU2.15.jpg', 'KL.SU3.166.jpg', 'KM.SU3.16.jpg', 'KR.SU3.82.jpg', 'MK.SU2.123.jpg', 'KR.SU2.81.jpg', 'MK.SU3.124.jpg', 'NA.SU1.208.jpg', 'NA.SU2.209.jpg', 'MK.SU1.122.jpg', 'KR.SU1.80.jpg', 'NA.SU3.210.jpg', 'NM.SU1.101.jpg', 'NM.SU2.102.jpg', 'NM.SU3.103.jpg', 'TM.SU1.187.jpg', 'TM.SU2.188.jpg', 'TM.SU3.189.jpg', 'UY.SU2.144.jpg', 'UY.SU1.143.jpg', 'YM.SU1.58.jpg', 'UY.SU3.145.jpg', 'YM.SU2.59.jpg', 'YM.SU3.60.jpg']\n",
            "['KM.SA1.9.jpg', 'KA.SA1.33.jpg', 'KL.SA3.163.jpg', 'KL.SA1.161.jpg', 'KA.SA3.35.jpg', 'KA.SA2.34.jpg', 'KL.SA2.162.jpg', 'KM.SA3.11.jpg', 'KM.SA2.10.jpg', 'KM.SA5.13.jpg', 'KR.SA1.77.jpg', 'NA.SA1.205.jpg', 'KR.SA3.79.jpg', 'MK.SA1.119.jpg', 'KR.SA2.78.jpg', 'MK.SA2.120.jpg', 'MK.SA3.121.jpg', 'NA.SA2.206.jpg', 'NA.SA3.207.jpg', 'NM.SA1.98.jpg', 'TM.SA3.186.jpg', 'UY.SA2.141.jpg', 'TM.SA2.185.jpg', 'NM.SA3.100.jpg', 'NM.SA2.99.jpg', 'TM.SA1.184.jpg', 'UY.SA1.140.jpg', 'YM.SA1.55.jpg', 'UY.SA3.142.jpg', 'YM.SA2.56.jpg', 'YM.SA3.57.jpg']\n",
            "['KA.NE3.28.jpg', 'KA.NE2.27.jpg', 'KA.NE1.26.jpg', 'KL.NE1.155.jpg', 'KL.NE3.157.jpg', 'KM.NE2.2.jpg', 'KL.NE2.156.jpg', 'KM.NE3.3.jpg', 'KR.NE1.71.jpg', 'MK.NE2.114.jpg', 'MK.NE1.113.jpg', 'NA.NE1.199.jpg', 'NA.NE2.200.jpg', 'KR.NE3.73.jpg', 'KR.NE2.72.jpg', 'MK.NE3.115.jpg', 'NM.NE1.92.jpg', 'NA.NE3.201.jpg', 'NM.NE2.93.jpg', 'TM.NE1.177.jpg', 'UY.NE1.134.jpg', 'UY.NE2.135.jpg', 'TM.NE2.178.jpg', 'NM.NE3.94.jpg', 'TM.NE3.179.jpg', 'UY.NE3.136.jpg', 'YM.NE2.50.jpg', 'YM.NE1.49.jpg', 'YM.NE3.51.jpg']\n",
            "['KA.HA1.29.jpg', 'KA.HA3.31.jpg', 'KL.HA1.158.jpg', 'KA.HA4.32.jpg', 'KA.HA2.30.jpg', 'KM.HA1.4.jpg', 'KL.HA3.160.jpg', 'KM.HA3.6.jpg', 'KL.HA2.159.jpg', 'KM.HA2.5.jpg', 'KM.HA4.7.jpg', 'KM.NE1.1.jpg', 'KR.HA1.74.jpg', 'MK.HA3.118.jpg', 'KR.HA2.75.jpg', 'MK.HA1.116.jpg', 'NA.HA3.204.jpg', 'NA.HA1.202.jpg', 'MK.HA2.117.jpg', 'NA.HA2.203.jpg', 'NM.HA1.95.jpg', 'UY.HA2.138.jpg', 'UY.HA1.137.jpg', 'NM.HA3.97.jpg', 'NM.HA2.96.jpg', 'TM.HA1.180.jpg', 'TM.HA3.182.jpg', 'TM.HA2.181.jpg', 'YM.HA1.52.jpg', 'UY.HA3.139.jpg', 'YM.HA2.53.jpg', 'YM.HA3.54.jpg']\n",
            "['KA.AN1.39.jpg', 'KA.AN3.41.jpg', 'KL.AN3.169.jpg', 'KM.AN1.17.jpg', 'KL.AN1.167.jpg', 'KM.AN2.18.jpg', 'KA.AN2.40.jpg', 'KL.AN2.168.jpg', 'KM.AN3.19.jpg', 'KR.AN1.83.jpg', 'KR.AN2.84.jpg', 'KR.AN3.85.jpg', 'MK.AN2.126.jpg', 'NA.AN1.211.jpg', 'MK.AN3.127.jpg', 'MK.AN1.125.jpg', 'NA.AN2.212.jpg', 'NM.AN2.105.jpg', 'NM.AN1.104.jpg', 'NA.AN3.213.jpg', 'NM.AN3.106.jpg', 'UY.AN3.148.jpg', 'TM.AN2.191.jpg', 'UY.AN1.146.jpg', 'TM.AN3.192.jpg', 'TM.AN1.190.jpg', 'UY.AN2.147.jpg', 'YM.AN1.61.jpg', 'YM.AN3.63.jpg', 'YM.AN2.62.jpg']\n",
            "[0, 0, 0, 0, 0, 0, 0, 0, 0, 0, 0, 0, 0, 0, 0, 0, 0, 0, 0, 0, 0, 0, 0, 0, 0, 0, 0, 0, 0, 0, 1, 1, 1, 1, 1, 1, 1, 1, 1, 1, 1, 1, 1, 1, 1, 1, 1, 1, 1, 1, 1, 1, 1, 1, 1, 1, 1, 1, 1, 1, 1, 2, 2, 2, 2, 2, 2, 2, 2, 2, 2, 2, 2, 2, 2, 2, 2, 2, 2, 2, 2, 2, 2, 2, 2, 2, 2, 2, 2, 2, 3, 3, 3, 3, 3, 3, 3, 3, 3, 3, 3, 3, 3, 3, 3, 3, 3, 3, 3, 3, 3, 3, 3, 3, 3, 3, 3, 3, 3, 3, 3, 3, 4, 4, 4, 4, 4, 4, 4, 4, 4, 4, 4, 4, 4, 4, 4, 4, 4, 4, 4, 4, 4, 4, 4, 4, 4, 4, 4, 4, 4, 4]\n"
          ],
          "name": "stdout"
        }
      ]
    },
    {
      "cell_type": "markdown",
      "metadata": {
        "id": "byQbkDHcLRW7",
        "colab_type": "text"
      },
      "source": [
        "## CNNに適用する型に変更しよう"
      ]
    },
    {
      "cell_type": "code",
      "metadata": {
        "id": "LD8vyjprajSe",
        "colab_type": "code",
        "colab": {
          "base_uri": "https://localhost:8080/",
          "height": 598
        },
        "outputId": "34c4ee41-7635-4eb9-bdb9-578b8d6109be"
      },
      "source": [
        "# データ型を変更\n",
        "data = np.array(data, dtype=np.float32)\n",
        "label = np.array(label, dtype=np.float32)\n",
        "\n",
        "# 学習データとテストデータに分割\n",
        "from sklearn.model_selection import train_test_split\n",
        "train_data, test_data, train_label, test_label = train_test_split(data,label, \n",
        "                                                                  random_state = 1, \n",
        "                                                                  stratify = label, \n",
        "                                                                  test_size = 0.2)\n",
        "\n",
        "# 学習データのリストを変形  #.reshape(データの数, 縦のサイズ, 横のサイズ, 次元)\n",
        "train_data = train_data.reshape((len(train_data)),image_size,image_size,1)\n",
        "test_data = test_data.reshape((len(test_data)),image_size,image_size,1)\n",
        "\n",
        "# 学習データを正規化\n",
        "train_data /= 255 # to 0-1\n",
        "test_data /= 255 # to 0-1\n",
        "\n",
        "# ラベルデータをone-hot 変換\n",
        "from keras.utils.np_utils import to_categorical\n",
        "train_label = to_categorical(train_label, num_classes = 5)\n",
        "test_label = to_categorical(test_label, num_classes = 5)\n",
        "\n",
        "print(train_data.shape, train_label.shape, test_data.shape, test_label.shape) \n",
        "\n",
        "test_label"
      ],
      "execution_count": 3,
      "outputs": [
        {
          "output_type": "stream",
          "text": [
            "(121, 28, 28, 1) (121, 5) (31, 28, 28, 1) (31, 5)\n"
          ],
          "name": "stdout"
        },
        {
          "output_type": "stream",
          "text": [
            "Using TensorFlow backend.\n"
          ],
          "name": "stderr"
        },
        {
          "output_type": "execute_result",
          "data": {
            "text/plain": [
              "array([[0., 1., 0., 0., 0.],\n",
              "       [1., 0., 0., 0., 0.],\n",
              "       [1., 0., 0., 0., 0.],\n",
              "       [0., 1., 0., 0., 0.],\n",
              "       [0., 0., 0., 0., 1.],\n",
              "       [1., 0., 0., 0., 0.],\n",
              "       [0., 0., 1., 0., 0.],\n",
              "       [1., 0., 0., 0., 0.],\n",
              "       [0., 0., 0., 0., 1.],\n",
              "       [0., 0., 0., 0., 1.],\n",
              "       [0., 0., 0., 1., 0.],\n",
              "       [0., 0., 0., 0., 1.],\n",
              "       [0., 0., 0., 0., 1.],\n",
              "       [1., 0., 0., 0., 0.],\n",
              "       [0., 0., 0., 1., 0.],\n",
              "       [0., 0., 0., 1., 0.],\n",
              "       [0., 0., 1., 0., 0.],\n",
              "       [0., 0., 0., 1., 0.],\n",
              "       [0., 0., 1., 0., 0.],\n",
              "       [0., 0., 0., 1., 0.],\n",
              "       [0., 0., 0., 1., 0.],\n",
              "       [0., 0., 1., 0., 0.],\n",
              "       [0., 1., 0., 0., 0.],\n",
              "       [0., 1., 0., 0., 0.],\n",
              "       [0., 1., 0., 0., 0.],\n",
              "       [0., 0., 0., 1., 0.],\n",
              "       [0., 0., 0., 0., 1.],\n",
              "       [1., 0., 0., 0., 0.],\n",
              "       [0., 1., 0., 0., 0.],\n",
              "       [0., 0., 1., 0., 0.],\n",
              "       [0., 0., 1., 0., 0.]], dtype=float32)"
            ]
          },
          "metadata": {
            "tags": []
          },
          "execution_count": 3
        }
      ]
    },
    {
      "cell_type": "markdown",
      "metadata": {
        "id": "nrNQx10DLf6R",
        "colab_type": "text"
      },
      "source": [
        "## ニューラルネットワークのモデルを作成しよう"
      ]
    },
    {
      "cell_type": "code",
      "metadata": {
        "id": "_2rAMGIsXGZN",
        "colab_type": "code",
        "colab": {}
      },
      "source": [
        "from tensorflow.keras import models,layers\n",
        "from tensorflow.keras import optimizers\n",
        "\n",
        "model = models.Sequential()\n",
        "\n",
        "model.add(layers.Conv2D(20, (5, 5), activation='relu', padding='same', input_shape=(28, 28, 1)))\n",
        "model.add(layers.MaxPooling2D(pool_size=(2, 2)))\n",
        "model.add(layers.Conv2D(50, (5, 5), activation='relu', padding='same'))\n",
        "model.add(layers.MaxPooling2D(pool_size=(2, 2)))\n",
        "model.add(layers.Flatten())\n",
        "model.add(layers.Dense(500, activation='relu'))\n",
        "model.add(layers.Dense(500, activation='relu'))\n",
        "model.add(layers.Dense(5, activation='softmax'))"
      ],
      "execution_count": 4,
      "outputs": []
    },
    {
      "cell_type": "markdown",
      "metadata": {
        "id": "7BOUZoFmLn9U",
        "colab_type": "text"
      },
      "source": [
        "## モデルをコンパイルしよう"
      ]
    },
    {
      "cell_type": "code",
      "metadata": {
        "id": "lc4O_XEjYp8I",
        "colab_type": "code",
        "colab": {}
      },
      "source": [
        "model.compile(optimizer='adam',loss = 'categorical_crossentropy',metrics = [\"accuracy\"])"
      ],
      "execution_count": 5,
      "outputs": []
    },
    {
      "cell_type": "markdown",
      "metadata": {
        "id": "VPJ1TNFXLpX0",
        "colab_type": "text"
      },
      "source": [
        "## 機械学習を実行するプログラムを作成しよう"
      ]
    },
    {
      "cell_type": "code",
      "metadata": {
        "id": "ZsJS0cla0vuN",
        "colab_type": "code",
        "colab": {
          "base_uri": "https://localhost:8080/",
          "height": 1000
        },
        "outputId": "abea70bf-ba46-4fa5-c77b-8e07890bcd8c"
      },
      "source": [
        "epoch = 100\n",
        "batchsize = 25\n",
        "\n",
        "# 学習\n",
        "history = model.fit(train_data, train_label, batch_size=batchsize, \n",
        "                    epochs=epoch, verbose=2, \n",
        "                    validation_data=(test_data, test_label))"
      ],
      "execution_count": 6,
      "outputs": [
        {
          "output_type": "stream",
          "text": [
            "Epoch 1/100\n",
            "5/5 - 0s - loss: 1.7051 - accuracy: 0.1818 - val_loss: 1.6125 - val_accuracy: 0.1935\n",
            "Epoch 2/100\n",
            "5/5 - 0s - loss: 1.6129 - accuracy: 0.2149 - val_loss: 1.6086 - val_accuracy: 0.2258\n",
            "Epoch 3/100\n",
            "5/5 - 0s - loss: 1.6047 - accuracy: 0.2479 - val_loss: 1.6041 - val_accuracy: 0.3548\n",
            "Epoch 4/100\n",
            "5/5 - 0s - loss: 1.5903 - accuracy: 0.3223 - val_loss: 1.5945 - val_accuracy: 0.3226\n",
            "Epoch 5/100\n",
            "5/5 - 0s - loss: 1.5711 - accuracy: 0.3058 - val_loss: 1.5760 - val_accuracy: 0.3226\n",
            "Epoch 6/100\n",
            "5/5 - 0s - loss: 1.5563 - accuracy: 0.3719 - val_loss: 1.5550 - val_accuracy: 0.3226\n",
            "Epoch 7/100\n",
            "5/5 - 0s - loss: 1.5131 - accuracy: 0.3058 - val_loss: 1.5420 - val_accuracy: 0.3871\n",
            "Epoch 8/100\n",
            "5/5 - 0s - loss: 1.4423 - accuracy: 0.3636 - val_loss: 1.4975 - val_accuracy: 0.2903\n",
            "Epoch 9/100\n",
            "5/5 - 0s - loss: 1.3910 - accuracy: 0.3967 - val_loss: 1.5007 - val_accuracy: 0.2903\n",
            "Epoch 10/100\n",
            "5/5 - 0s - loss: 1.3558 - accuracy: 0.4463 - val_loss: 1.6239 - val_accuracy: 0.1935\n",
            "Epoch 11/100\n",
            "5/5 - 0s - loss: 1.4247 - accuracy: 0.3554 - val_loss: 1.5041 - val_accuracy: 0.3226\n",
            "Epoch 12/100\n",
            "5/5 - 0s - loss: 1.3690 - accuracy: 0.4463 - val_loss: 1.4499 - val_accuracy: 0.4194\n",
            "Epoch 13/100\n",
            "5/5 - 0s - loss: 1.3004 - accuracy: 0.4711 - val_loss: 1.3888 - val_accuracy: 0.3226\n",
            "Epoch 14/100\n",
            "5/5 - 0s - loss: 1.1840 - accuracy: 0.5124 - val_loss: 1.3883 - val_accuracy: 0.5484\n",
            "Epoch 15/100\n",
            "5/5 - 0s - loss: 1.1492 - accuracy: 0.5620 - val_loss: 1.3962 - val_accuracy: 0.3548\n",
            "Epoch 16/100\n",
            "5/5 - 0s - loss: 1.1214 - accuracy: 0.6033 - val_loss: 1.2614 - val_accuracy: 0.4516\n",
            "Epoch 17/100\n",
            "5/5 - 0s - loss: 1.0368 - accuracy: 0.6281 - val_loss: 1.2976 - val_accuracy: 0.5161\n",
            "Epoch 18/100\n",
            "5/5 - 0s - loss: 0.9370 - accuracy: 0.6694 - val_loss: 1.0956 - val_accuracy: 0.5806\n",
            "Epoch 19/100\n",
            "5/5 - 0s - loss: 0.8353 - accuracy: 0.7025 - val_loss: 1.0151 - val_accuracy: 0.5806\n",
            "Epoch 20/100\n",
            "5/5 - 0s - loss: 0.7287 - accuracy: 0.8182 - val_loss: 0.9319 - val_accuracy: 0.6452\n",
            "Epoch 21/100\n",
            "5/5 - 0s - loss: 0.6278 - accuracy: 0.7769 - val_loss: 1.0725 - val_accuracy: 0.5161\n",
            "Epoch 22/100\n",
            "5/5 - 0s - loss: 0.5999 - accuracy: 0.8099 - val_loss: 1.0249 - val_accuracy: 0.5484\n",
            "Epoch 23/100\n",
            "5/5 - 0s - loss: 0.6336 - accuracy: 0.7603 - val_loss: 0.9836 - val_accuracy: 0.6129\n",
            "Epoch 24/100\n",
            "5/5 - 0s - loss: 0.4438 - accuracy: 0.8843 - val_loss: 0.8347 - val_accuracy: 0.6774\n",
            "Epoch 25/100\n",
            "5/5 - 0s - loss: 0.4383 - accuracy: 0.8512 - val_loss: 0.7136 - val_accuracy: 0.6774\n",
            "Epoch 26/100\n",
            "5/5 - 0s - loss: 0.4890 - accuracy: 0.8182 - val_loss: 1.0567 - val_accuracy: 0.5484\n",
            "Epoch 27/100\n",
            "5/5 - 0s - loss: 0.6236 - accuracy: 0.6860 - val_loss: 0.9376 - val_accuracy: 0.6129\n",
            "Epoch 28/100\n",
            "5/5 - 0s - loss: 0.5088 - accuracy: 0.8264 - val_loss: 0.8112 - val_accuracy: 0.6774\n",
            "Epoch 29/100\n",
            "5/5 - 0s - loss: 0.4297 - accuracy: 0.8595 - val_loss: 0.6412 - val_accuracy: 0.7742\n",
            "Epoch 30/100\n",
            "5/5 - 0s - loss: 0.3103 - accuracy: 0.8926 - val_loss: 0.8491 - val_accuracy: 0.7097\n",
            "Epoch 31/100\n",
            "5/5 - 0s - loss: 0.3764 - accuracy: 0.8595 - val_loss: 0.7973 - val_accuracy: 0.6129\n",
            "Epoch 32/100\n",
            "5/5 - 0s - loss: 0.3660 - accuracy: 0.8264 - val_loss: 0.7460 - val_accuracy: 0.6774\n",
            "Epoch 33/100\n",
            "5/5 - 0s - loss: 0.3175 - accuracy: 0.8678 - val_loss: 0.6818 - val_accuracy: 0.7742\n",
            "Epoch 34/100\n",
            "5/5 - 0s - loss: 0.2501 - accuracy: 0.9339 - val_loss: 0.4781 - val_accuracy: 0.8065\n",
            "Epoch 35/100\n",
            "5/5 - 0s - loss: 0.1729 - accuracy: 0.9669 - val_loss: 0.4594 - val_accuracy: 0.8065\n",
            "Epoch 36/100\n",
            "5/5 - 0s - loss: 0.1471 - accuracy: 0.9587 - val_loss: 0.4505 - val_accuracy: 0.7742\n",
            "Epoch 37/100\n",
            "5/5 - 0s - loss: 0.1091 - accuracy: 0.9752 - val_loss: 0.4142 - val_accuracy: 0.8387\n",
            "Epoch 38/100\n",
            "5/5 - 0s - loss: 0.1041 - accuracy: 0.9752 - val_loss: 0.3946 - val_accuracy: 0.8065\n",
            "Epoch 39/100\n",
            "5/5 - 0s - loss: 0.0775 - accuracy: 0.9752 - val_loss: 0.3387 - val_accuracy: 0.8710\n",
            "Epoch 40/100\n",
            "5/5 - 0s - loss: 0.0630 - accuracy: 0.9917 - val_loss: 0.3899 - val_accuracy: 0.8387\n",
            "Epoch 41/100\n",
            "5/5 - 0s - loss: 0.0736 - accuracy: 0.9917 - val_loss: 0.3215 - val_accuracy: 0.8710\n",
            "Epoch 42/100\n",
            "5/5 - 0s - loss: 0.0636 - accuracy: 0.9917 - val_loss: 0.3237 - val_accuracy: 0.8710\n",
            "Epoch 43/100\n",
            "5/5 - 0s - loss: 0.0448 - accuracy: 1.0000 - val_loss: 0.3059 - val_accuracy: 0.8387\n",
            "Epoch 44/100\n",
            "5/5 - 0s - loss: 0.0474 - accuracy: 0.9835 - val_loss: 0.2988 - val_accuracy: 0.8710\n",
            "Epoch 45/100\n",
            "5/5 - 0s - loss: 0.0446 - accuracy: 0.9917 - val_loss: 0.2756 - val_accuracy: 0.8710\n",
            "Epoch 46/100\n",
            "5/5 - 0s - loss: 0.0356 - accuracy: 1.0000 - val_loss: 0.3230 - val_accuracy: 0.8387\n",
            "Epoch 47/100\n",
            "5/5 - 0s - loss: 0.0252 - accuracy: 1.0000 - val_loss: 0.2950 - val_accuracy: 0.8710\n",
            "Epoch 48/100\n",
            "5/5 - 0s - loss: 0.0224 - accuracy: 1.0000 - val_loss: 0.3229 - val_accuracy: 0.8387\n",
            "Epoch 49/100\n",
            "5/5 - 0s - loss: 0.0186 - accuracy: 1.0000 - val_loss: 0.3323 - val_accuracy: 0.8065\n",
            "Epoch 50/100\n",
            "5/5 - 0s - loss: 0.0159 - accuracy: 1.0000 - val_loss: 0.3008 - val_accuracy: 0.8710\n",
            "Epoch 51/100\n",
            "5/5 - 0s - loss: 0.0164 - accuracy: 1.0000 - val_loss: 0.3628 - val_accuracy: 0.8387\n",
            "Epoch 52/100\n",
            "5/5 - 0s - loss: 0.0233 - accuracy: 0.9917 - val_loss: 0.3149 - val_accuracy: 0.8710\n",
            "Epoch 53/100\n",
            "5/5 - 0s - loss: 0.1115 - accuracy: 0.9752 - val_loss: 1.2571 - val_accuracy: 0.7097\n",
            "Epoch 54/100\n",
            "5/5 - 0s - loss: 0.2337 - accuracy: 0.9174 - val_loss: 0.5177 - val_accuracy: 0.8065\n",
            "Epoch 55/100\n",
            "5/5 - 0s - loss: 0.0930 - accuracy: 0.9835 - val_loss: 0.5863 - val_accuracy: 0.8065\n",
            "Epoch 56/100\n",
            "5/5 - 0s - loss: 0.0943 - accuracy: 0.9917 - val_loss: 0.3219 - val_accuracy: 0.9032\n",
            "Epoch 57/100\n",
            "5/5 - 0s - loss: 0.0743 - accuracy: 0.9917 - val_loss: 0.3335 - val_accuracy: 0.8387\n",
            "Epoch 58/100\n",
            "5/5 - 0s - loss: 0.0476 - accuracy: 0.9917 - val_loss: 0.3570 - val_accuracy: 0.8710\n",
            "Epoch 59/100\n",
            "5/5 - 0s - loss: 0.0444 - accuracy: 0.9917 - val_loss: 0.3133 - val_accuracy: 0.9032\n",
            "Epoch 60/100\n",
            "5/5 - 0s - loss: 0.0296 - accuracy: 0.9917 - val_loss: 0.3030 - val_accuracy: 0.8065\n",
            "Epoch 61/100\n",
            "5/5 - 0s - loss: 0.0477 - accuracy: 0.9917 - val_loss: 0.3329 - val_accuracy: 0.8065\n",
            "Epoch 62/100\n",
            "5/5 - 0s - loss: 0.0175 - accuracy: 1.0000 - val_loss: 0.2985 - val_accuracy: 0.9032\n",
            "Epoch 63/100\n",
            "5/5 - 0s - loss: 0.0137 - accuracy: 1.0000 - val_loss: 0.4353 - val_accuracy: 0.8387\n",
            "Epoch 64/100\n",
            "5/5 - 0s - loss: 0.0293 - accuracy: 0.9917 - val_loss: 0.3022 - val_accuracy: 0.8710\n",
            "Epoch 65/100\n",
            "5/5 - 0s - loss: 0.0421 - accuracy: 0.9917 - val_loss: 0.2955 - val_accuracy: 0.8710\n",
            "Epoch 66/100\n",
            "5/5 - 0s - loss: 0.0505 - accuracy: 0.9835 - val_loss: 0.3135 - val_accuracy: 0.8387\n",
            "Epoch 67/100\n",
            "5/5 - 0s - loss: 0.0206 - accuracy: 0.9917 - val_loss: 0.2889 - val_accuracy: 0.9032\n",
            "Epoch 68/100\n",
            "5/5 - 0s - loss: 0.0123 - accuracy: 1.0000 - val_loss: 0.3797 - val_accuracy: 0.8710\n",
            "Epoch 69/100\n",
            "5/5 - 0s - loss: 0.0184 - accuracy: 0.9917 - val_loss: 0.3084 - val_accuracy: 0.8710\n",
            "Epoch 70/100\n",
            "5/5 - 0s - loss: 0.0135 - accuracy: 1.0000 - val_loss: 0.3119 - val_accuracy: 0.8710\n",
            "Epoch 71/100\n",
            "5/5 - 0s - loss: 0.0058 - accuracy: 1.0000 - val_loss: 0.4117 - val_accuracy: 0.8387\n",
            "Epoch 72/100\n",
            "5/5 - 0s - loss: 0.0147 - accuracy: 0.9917 - val_loss: 0.3226 - val_accuracy: 0.8710\n",
            "Epoch 73/100\n",
            "5/5 - 0s - loss: 0.0105 - accuracy: 1.0000 - val_loss: 0.3049 - val_accuracy: 0.9032\n",
            "Epoch 74/100\n",
            "5/5 - 0s - loss: 0.0114 - accuracy: 1.0000 - val_loss: 0.4290 - val_accuracy: 0.8387\n",
            "Epoch 75/100\n",
            "5/5 - 0s - loss: 0.0169 - accuracy: 0.9917 - val_loss: 0.3359 - val_accuracy: 0.8387\n",
            "Epoch 76/100\n",
            "5/5 - 0s - loss: 0.0067 - accuracy: 1.0000 - val_loss: 0.2953 - val_accuracy: 0.8710\n",
            "Epoch 77/100\n",
            "5/5 - 0s - loss: 0.0039 - accuracy: 1.0000 - val_loss: 0.3142 - val_accuracy: 0.8710\n",
            "Epoch 78/100\n",
            "5/5 - 0s - loss: 0.0040 - accuracy: 1.0000 - val_loss: 0.3510 - val_accuracy: 0.8387\n",
            "Epoch 79/100\n",
            "5/5 - 0s - loss: 0.0032 - accuracy: 1.0000 - val_loss: 0.3283 - val_accuracy: 0.8710\n",
            "Epoch 80/100\n",
            "5/5 - 0s - loss: 0.0031 - accuracy: 1.0000 - val_loss: 0.3156 - val_accuracy: 0.8710\n",
            "Epoch 81/100\n",
            "5/5 - 0s - loss: 0.0028 - accuracy: 1.0000 - val_loss: 0.3272 - val_accuracy: 0.8710\n",
            "Epoch 82/100\n",
            "5/5 - 0s - loss: 0.0024 - accuracy: 1.0000 - val_loss: 0.3461 - val_accuracy: 0.8710\n",
            "Epoch 83/100\n",
            "5/5 - 0s - loss: 0.0025 - accuracy: 1.0000 - val_loss: 0.3435 - val_accuracy: 0.8710\n",
            "Epoch 84/100\n",
            "5/5 - 0s - loss: 0.0024 - accuracy: 1.0000 - val_loss: 0.3330 - val_accuracy: 0.8710\n",
            "Epoch 85/100\n",
            "5/5 - 0s - loss: 0.0022 - accuracy: 1.0000 - val_loss: 0.3359 - val_accuracy: 0.8710\n",
            "Epoch 86/100\n",
            "5/5 - 0s - loss: 0.0021 - accuracy: 1.0000 - val_loss: 0.3434 - val_accuracy: 0.8710\n",
            "Epoch 87/100\n",
            "5/5 - 0s - loss: 0.0021 - accuracy: 1.0000 - val_loss: 0.3572 - val_accuracy: 0.8710\n",
            "Epoch 88/100\n",
            "5/5 - 0s - loss: 0.0020 - accuracy: 1.0000 - val_loss: 0.3503 - val_accuracy: 0.8710\n",
            "Epoch 89/100\n",
            "5/5 - 0s - loss: 0.0018 - accuracy: 1.0000 - val_loss: 0.3380 - val_accuracy: 0.8710\n",
            "Epoch 90/100\n",
            "5/5 - 0s - loss: 0.0019 - accuracy: 1.0000 - val_loss: 0.3422 - val_accuracy: 0.8710\n",
            "Epoch 91/100\n",
            "5/5 - 0s - loss: 0.0018 - accuracy: 1.0000 - val_loss: 0.3490 - val_accuracy: 0.8710\n",
            "Epoch 92/100\n",
            "5/5 - 0s - loss: 0.0017 - accuracy: 1.0000 - val_loss: 0.3540 - val_accuracy: 0.8710\n",
            "Epoch 93/100\n",
            "5/5 - 0s - loss: 0.0016 - accuracy: 1.0000 - val_loss: 0.3558 - val_accuracy: 0.8710\n",
            "Epoch 94/100\n",
            "5/5 - 0s - loss: 0.0016 - accuracy: 1.0000 - val_loss: 0.3515 - val_accuracy: 0.8710\n",
            "Epoch 95/100\n",
            "5/5 - 0s - loss: 0.0016 - accuracy: 1.0000 - val_loss: 0.3539 - val_accuracy: 0.8710\n",
            "Epoch 96/100\n",
            "5/5 - 0s - loss: 0.0015 - accuracy: 1.0000 - val_loss: 0.3486 - val_accuracy: 0.8710\n",
            "Epoch 97/100\n",
            "5/5 - 0s - loss: 0.0015 - accuracy: 1.0000 - val_loss: 0.3496 - val_accuracy: 0.8710\n",
            "Epoch 98/100\n",
            "5/5 - 0s - loss: 0.0015 - accuracy: 1.0000 - val_loss: 0.3586 - val_accuracy: 0.8710\n",
            "Epoch 99/100\n",
            "5/5 - 0s - loss: 0.0014 - accuracy: 1.0000 - val_loss: 0.3598 - val_accuracy: 0.8710\n",
            "Epoch 100/100\n",
            "5/5 - 0s - loss: 0.0014 - accuracy: 1.0000 - val_loss: 0.3608 - val_accuracy: 0.8710\n"
          ],
          "name": "stdout"
        }
      ]
    },
    {
      "cell_type": "markdown",
      "metadata": {
        "id": "-6VxXGFt0zqX",
        "colab_type": "text"
      },
      "source": [
        "## 早期終了を追加してみよう\n",
        "※通常の学習終了後に追加、変更します。"
      ]
    },
    {
      "cell_type": "code",
      "metadata": {
        "id": "4GoF-xhSYtrZ",
        "colab_type": "code",
        "colab": {}
      },
      "source": [
        "# EarlyStopping\n",
        "from tensorflow.keras.callbacks import EarlyStopping\n",
        "\n",
        "early_stopping = EarlyStopping(monitor='val_loss',\n",
        "                               patience=10,\n",
        "                               min_delta= 0.01,\n",
        "                               verbose=1)\n",
        "                # monitor: 監視する値．\n",
        "                # min_delta: 監視する値について改善として判定される最小変化値．\n",
        "                # patience: 訓練が停止し，値が改善しなくなってからのエポック数\n",
        "\n",
        "epoch = 100\n",
        "batchsize = 25\n",
        "\n",
        "# 学習\n",
        "history = model.fit(train_data, train_label, batch_size=batchsize, \n",
        "                    epochs=epoch, verbose=2, \n",
        "                    validation_data=(test_data, test_label),\n",
        "                    callbacks=[early_stopping])"
      ],
      "execution_count": 7,
      "outputs": []
    },
    {
      "cell_type": "markdown",
      "metadata": {
        "id": "R0vizDblLvFQ",
        "colab_type": "text"
      },
      "source": [
        "## ネットワーク構成を確認しよう"
      ]
    },
    {
      "cell_type": "code",
      "metadata": {
        "id": "A9La9XbImdKG",
        "colab_type": "code",
        "colab": {
          "base_uri": "https://localhost:8080/",
          "height": 439
        },
        "outputId": "de14719a-4caa-480e-9085-59103ba418cb"
      },
      "source": [
        "model.summary()"
      ],
      "execution_count": 8,
      "outputs": [
        {
          "output_type": "stream",
          "text": [
            "Model: \"sequential\"\n",
            "_________________________________________________________________\n",
            "Layer (type)                 Output Shape              Param #   \n",
            "=================================================================\n",
            "conv2d (Conv2D)              (None, 28, 28, 20)        520       \n",
            "_________________________________________________________________\n",
            "max_pooling2d (MaxPooling2D) (None, 14, 14, 20)        0         \n",
            "_________________________________________________________________\n",
            "conv2d_1 (Conv2D)            (None, 14, 14, 50)        25050     \n",
            "_________________________________________________________________\n",
            "max_pooling2d_1 (MaxPooling2 (None, 7, 7, 50)          0         \n",
            "_________________________________________________________________\n",
            "flatten (Flatten)            (None, 2450)              0         \n",
            "_________________________________________________________________\n",
            "dense (Dense)                (None, 500)               1225500   \n",
            "_________________________________________________________________\n",
            "dense_1 (Dense)              (None, 500)               250500    \n",
            "_________________________________________________________________\n",
            "dense_2 (Dense)              (None, 5)                 2505      \n",
            "=================================================================\n",
            "Total params: 1,504,075\n",
            "Trainable params: 1,504,075\n",
            "Non-trainable params: 0\n",
            "_________________________________________________________________\n"
          ],
          "name": "stdout"
        }
      ]
    },
    {
      "cell_type": "markdown",
      "metadata": {
        "id": "T6Yck5JNL29y",
        "colab_type": "text"
      },
      "source": [
        "## グラフを使って可視化しよう"
      ]
    },
    {
      "cell_type": "code",
      "metadata": {
        "id": "IaLu5fZ9ZXnm",
        "colab_type": "code",
        "colab": {
          "base_uri": "https://localhost:8080/",
          "height": 295
        },
        "outputId": "72130011-854d-4467-bc4c-7a6741de955d"
      },
      "source": [
        "import matplotlib.pyplot as plt\n",
        "\n",
        "# Plot training & validation accuracy values\n",
        "plt.plot(history.history['accuracy'])\n",
        "plt.plot(history.history['val_accuracy'])\n",
        "plt.title('Model accuracy')\n",
        "plt.ylabel('Accuracy')\n",
        "plt.xlabel('Epoch')\n",
        "plt.legend(['Train', 'Test'], loc='upper left')\n",
        "plt.show()"
      ],
      "execution_count": 9,
      "outputs": [
        {
          "output_type": "display_data",
          "data": {
            "image/png": "[encoded data removed]",
            "text/plain": [
              "<Figure size 432x288 with 1 Axes>"
            ]
          },
          "metadata": {
            "tags": [],
            "needs_background": "light"
          }
        }
      ]
    },
    {
      "cell_type": "markdown",
      "metadata": {
        "id": "tZZEewKnL59-",
        "colab_type": "text"
      },
      "source": [
        "## グラフを使って可視化しよう"
      ]
    },
    {
      "cell_type": "code",
      "metadata": {
        "id": "oaNP911EjpvS",
        "colab_type": "code",
        "colab": {
          "base_uri": "https://localhost:8080/",
          "height": 295
        },
        "outputId": "ca188e8c-5437-4e70-9fab-78caee7c0007"
      },
      "source": [
        "# Plot training & validation loss values\n",
        "plt.plot(history.history['loss'])\n",
        "plt.plot(history.history['val_loss'])\n",
        "plt.title('Model loss')\n",
        "plt.ylabel('Loss')\n",
        "plt.xlabel('Epoch')\n",
        "plt.legend(['Train', 'Test'], loc='upper left')\n",
        "plt.show()"
      ],
      "execution_count": 10,
      "outputs": [
        {
          "output_type": "display_data",
          "data": {
            "image/png": "[encoded data removed]",
            "text/plain": [
              "<Figure size 432x288 with 1 Axes>"
            ]
          },
          "metadata": {
            "tags": [],
            "needs_background": "light"
          }
        }
      ]
    },
    {
      "cell_type": "markdown",
      "metadata": {
        "id": "QZNS9O3DL7d7",
        "colab_type": "text"
      },
      "source": [
        "## モデルを保存しよう"
      ]
    },
    {
      "cell_type": "code",
      "metadata": {
        "id": "GCmxQsq5lGeU",
        "colab_type": "code",
        "colab": {}
      },
      "source": [
        "from keras.models import load_model\n",
        "\n",
        "model.save('/content/drive/My Drive/my_model.h5')  # creates a HDF5 file 'my_model.h5'\n"
      ],
      "execution_count": 11,
      "outputs": []
    }
  ]
}