{
  "nbformat": 4,
  "nbformat_minor": 0,
  "metadata": {
    "colab": {
      "name": "201_【学習用】クレジットカード審査SVM.ipynb",
      "provenance": [],
      "toc_visible": true
    },
    "kernelspec": {
      "name": "python3",
      "display_name": "Python 3"
    }
  },
  "cells": [
    {
      "cell_type": "markdown",
      "metadata": {
        "id": "x5M3hLxzBolD",
        "colab_type": "text"
      },
      "source": [
        "# Scikit-learnでTrain.pyを作ろう"
      ]
    },
    {
      "cell_type": "markdown",
      "metadata": {
        "id": "XHVSgvnlB8jY",
        "colab_type": "text"
      },
      "source": [
        "## ライブラリをインポートしよう"
      ]
    },
    {
      "cell_type": "markdown",
      "metadata": {
        "id": "22RjuvtmCS0S",
        "colab_type": "text"
      },
      "source": [
        "## 正規化・標準化しよう"
      ]
    },
    {
      "cell_type": "code",
      "metadata": {
        "id": "TetZoJztCmgd",
        "colab_type": "code",
        "colab": {}
      },
      "source": [
        ""
      ],
      "execution_count": 0,
      "outputs": []
    },
    {
      "cell_type": "markdown",
      "metadata": {
        "id": "Pr7P_Y2uCrWy",
        "colab_type": "text"
      },
      "source": [
        "## グループ分けしよう"
      ]
    },
    {
      "cell_type": "code",
      "metadata": {
        "id": "xNec1Mjt-Ql0",
        "colab_type": "code",
        "colab": {}
      },
      "source": [
        ""
      ],
      "execution_count": 0,
      "outputs": []
    },
    {
      "cell_type": "markdown",
      "metadata": {
        "id": "15gslK65Bm-H",
        "colab_type": "text"
      },
      "source": [
        "## One-hot-encodingしよう"
      ]
    },
    {
      "cell_type": "code",
      "metadata": {
        "id": "GeW8-2o1C1XC",
        "colab_type": "code",
        "colab": {}
      },
      "source": [
        ""
      ],
      "execution_count": 0,
      "outputs": []
    },
    {
      "cell_type": "markdown",
      "metadata": {
        "id": "lOYLD69SC1HG",
        "colab_type": "text"
      },
      "source": [
        "## Numpyでデータを分けよう"
      ]
    },
    {
      "cell_type": "code",
      "metadata": {
        "id": "QvgWNmz4_O_6",
        "colab_type": "code",
        "colab": {}
      },
      "source": [
        ""
      ],
      "execution_count": 0,
      "outputs": []
    },
    {
      "cell_type": "markdown",
      "metadata": {
        "id": "-ZMO4de3DI-M",
        "colab_type": "text"
      },
      "source": [
        "## Scikit-learnでSVMをインポートしよう"
      ]
    },
    {
      "cell_type": "code",
      "metadata": {
        "id": "-h1Lj8hU-V0a",
        "colab_type": "code",
        "colab": {}
      },
      "source": [
        ""
      ],
      "execution_count": 0,
      "outputs": []
    },
    {
      "cell_type": "markdown",
      "metadata": {
        "id": "pOBsCfSvDaYj",
        "colab_type": "text"
      },
      "source": [
        "## 学習を実行しよう"
      ]
    },
    {
      "cell_type": "code",
      "metadata": {
        "id": "6S2S-MOE-f4f",
        "colab_type": "code",
        "colab": {}
      },
      "source": [
        ""
      ],
      "execution_count": 0,
      "outputs": []
    },
    {
      "cell_type": "markdown",
      "metadata": {
        "id": "vLojno-u_xSd",
        "colab_type": "text"
      },
      "source": [
        "## テストデータで検証しよう"
      ]
    },
    {
      "cell_type": "code",
      "metadata": {
        "id": "pMjeAOkz-mmE",
        "colab_type": "code",
        "colab": {}
      },
      "source": [
        ""
      ],
      "execution_count": 0,
      "outputs": []
    },
    {
      "cell_type": "markdown",
      "metadata": {
        "id": "TIghLeyyHfvv",
        "colab_type": "text"
      },
      "source": [
        "## 混同行列を表示しよう"
      ]
    },
    {
      "cell_type": "code",
      "metadata": {
        "id": "8t3MfCNZHfeT",
        "colab_type": "code",
        "colab": {}
      },
      "source": [
        ""
      ],
      "execution_count": 0,
      "outputs": []
    },
    {
      "cell_type": "markdown",
      "metadata": {
        "id": "UfPmu3LsHQZp",
        "colab_type": "text"
      },
      "source": [
        "## ROCカーブを表示しよう"
      ]
    },
    {
      "cell_type": "code",
      "metadata": {
        "id": "e4NzLvLxHP36",
        "colab_type": "code",
        "colab": {}
      },
      "source": [
        ""
      ],
      "execution_count": 0,
      "outputs": []
    }
  ]
}