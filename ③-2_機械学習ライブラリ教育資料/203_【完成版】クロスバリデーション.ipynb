{
  "nbformat": 4,
  "nbformat_minor": 0,
  "metadata": {
    "colab": {
      "name": "203_【完成版】クロスバリデーション.ipynb",
      "provenance": [],
      "collapsed_sections": []
    },
    "kernelspec": {
      "name": "python3",
      "display_name": "Python 3"
    }
  },
  "cells": [
    {
      "cell_type": "markdown",
      "metadata": {
        "id": "xE18kVaOSdVi",
        "colab_type": "text"
      },
      "source": [
        "# Scikit-learnでTrain.pyを作ろう"
      ]
    },
    {
      "cell_type": "markdown",
      "metadata": {
        "id": "Tzoauwh9Sljt",
        "colab_type": "text"
      },
      "source": [
        "## ライブラリをインポートしよう"
      ]
    },
    {
      "cell_type": "code",
      "metadata": {
        "id": "odPT8tpPRSYb",
        "colab_type": "code",
        "colab": {
          "base_uri": "https://localhost:8080/",
          "height": 196
        },
        "outputId": "495b80bd-75ab-4a89-8061-38fb7f661d2d"
      },
      "source": [
        "# Numpy, pandasをインポート\n",
        "import numpy as np\n",
        "import pandas as pd\n",
        "\n",
        "# データを開く\n",
        "data_file = pd.read_csv('CreditData.csv', header=0,encoding=\"UTF-8\")\n",
        "\n",
        "data_file.head()"
      ],
      "execution_count": null,
      "outputs": [
        {
          "output_type": "execute_result",
          "data": {
            "text/html": [
              "<div>\n",
              "<style scoped>\n",
              "    .dataframe tbody tr th:only-of-type {\n",
              "        vertical-align: middle;\n",
              "    }\n",
              "\n",
              "    .dataframe tbody tr th {\n",
              "        vertical-align: top;\n",
              "    }\n",
              "\n",
              "    .dataframe thead th {\n",
              "        text-align: right;\n",
              "    }\n",
              "</style>\n",
              "<table border=\"1\" class=\"dataframe\">\n",
              "  <thead>\n",
              "    <tr style=\"text-align: right;\">\n",
              "      <th></th>\n",
              "      <th>貯金</th>\n",
              "      <th>信用履歴</th>\n",
              "      <th>年齢</th>\n",
              "      <th>家族構成</th>\n",
              "      <th>仕事</th>\n",
              "      <th>審査結果</th>\n",
              "    </tr>\n",
              "  </thead>\n",
              "  <tbody>\n",
              "    <tr>\n",
              "      <th>0</th>\n",
              "      <td>5000000</td>\n",
              "      <td>クレジットローン履歴無し / 全てのクレジットローンは延滞無く完済</td>\n",
              "      <td>22</td>\n",
              "      <td>配偶者あり</td>\n",
              "      <td>パート</td>\n",
              "      <td>発行可</td>\n",
              "    </tr>\n",
              "    <tr>\n",
              "      <th>1</th>\n",
              "      <td>100000</td>\n",
              "      <td>ローンの残があるが現状遅延なく支払われている</td>\n",
              "      <td>22</td>\n",
              "      <td>配偶者あり</td>\n",
              "      <td>社員</td>\n",
              "      <td>発行可</td>\n",
              "    </tr>\n",
              "    <tr>\n",
              "      <th>2</th>\n",
              "      <td>4000000</td>\n",
              "      <td>ローンの残があるが現状遅延なく支払われている</td>\n",
              "      <td>22</td>\n",
              "      <td>配偶者あり</td>\n",
              "      <td>社員</td>\n",
              "      <td>発行不可</td>\n",
              "    </tr>\n",
              "    <tr>\n",
              "      <th>3</th>\n",
              "      <td>4000000</td>\n",
              "      <td>ローンの残があるが現状遅延なく支払われている</td>\n",
              "      <td>22</td>\n",
              "      <td>配偶者あり</td>\n",
              "      <td>管理者/役員</td>\n",
              "      <td>発行不可</td>\n",
              "    </tr>\n",
              "    <tr>\n",
              "      <th>4</th>\n",
              "      <td>500000</td>\n",
              "      <td>ローンの残があるが現状遅延なく支払われている</td>\n",
              "      <td>22</td>\n",
              "      <td>配偶者あり</td>\n",
              "      <td>パート</td>\n",
              "      <td>発行不可</td>\n",
              "    </tr>\n",
              "  </tbody>\n",
              "</table>\n",
              "</div>"
            ],
            "text/plain": [
              "        貯金                               信用履歴  年齢   家族構成      仕事  審査結果\n",
              "0  5000000  クレジットローン履歴無し / 全てのクレジットローンは延滞無く完済  22  配偶者あり     パート   発行可\n",
              "1   100000            ローンの残があるが現状遅延なく支払われている   22  配偶者あり      社員   発行可\n",
              "2  4000000            ローンの残があるが現状遅延なく支払われている   22  配偶者あり      社員  発行不可\n",
              "3  4000000            ローンの残があるが現状遅延なく支払われている   22  配偶者あり  管理者/役員  発行不可\n",
              "4   500000            ローンの残があるが現状遅延なく支払われている   22  配偶者あり     パート  発行不可"
            ]
          },
          "metadata": {
            "tags": []
          },
          "execution_count": 1
        }
      ]
    },
    {
      "cell_type": "code",
      "metadata": {
        "colab_type": "code",
        "id": "1OExdiq81D4m",
        "colab": {
          "base_uri": "https://localhost:8080/",
          "height": 286
        },
        "outputId": "dc7036d0-be04-4d99-cc6b-616e8584fce0"
      },
      "source": [
        "data_file.describe()"
      ],
      "execution_count": null,
      "outputs": [
        {
          "output_type": "execute_result",
          "data": {
            "text/html": [
              "<div>\n",
              "<style scoped>\n",
              "    .dataframe tbody tr th:only-of-type {\n",
              "        vertical-align: middle;\n",
              "    }\n",
              "\n",
              "    .dataframe tbody tr th {\n",
              "        vertical-align: top;\n",
              "    }\n",
              "\n",
              "    .dataframe thead th {\n",
              "        text-align: right;\n",
              "    }\n",
              "</style>\n",
              "<table border=\"1\" class=\"dataframe\">\n",
              "  <thead>\n",
              "    <tr style=\"text-align: right;\">\n",
              "      <th></th>\n",
              "      <th>貯金</th>\n",
              "      <th>年齢</th>\n",
              "    </tr>\n",
              "  </thead>\n",
              "  <tbody>\n",
              "    <tr>\n",
              "      <th>count</th>\n",
              "      <td>1.448000e+03</td>\n",
              "      <td>1448.000000</td>\n",
              "    </tr>\n",
              "    <tr>\n",
              "      <th>mean</th>\n",
              "      <td>4.843025e+06</td>\n",
              "      <td>48.556630</td>\n",
              "    </tr>\n",
              "    <tr>\n",
              "      <th>std</th>\n",
              "      <td>4.866182e+06</td>\n",
              "      <td>13.493333</td>\n",
              "    </tr>\n",
              "    <tr>\n",
              "      <th>min</th>\n",
              "      <td>0.000000e+00</td>\n",
              "      <td>22.000000</td>\n",
              "    </tr>\n",
              "    <tr>\n",
              "      <th>25%</th>\n",
              "      <td>5.000000e+05</td>\n",
              "      <td>38.000000</td>\n",
              "    </tr>\n",
              "    <tr>\n",
              "      <th>50%</th>\n",
              "      <td>4.000000e+06</td>\n",
              "      <td>50.000000</td>\n",
              "    </tr>\n",
              "    <tr>\n",
              "      <th>75%</th>\n",
              "      <td>8.000000e+06</td>\n",
              "      <td>60.000000</td>\n",
              "    </tr>\n",
              "    <tr>\n",
              "      <th>max</th>\n",
              "      <td>2.000000e+07</td>\n",
              "      <td>70.000000</td>\n",
              "    </tr>\n",
              "  </tbody>\n",
              "</table>\n",
              "</div>"
            ],
            "text/plain": [
              "                 貯金           年齢\n",
              "count  1.448000e+03  1448.000000\n",
              "mean   4.843025e+06    48.556630\n",
              "std    4.866182e+06    13.493333\n",
              "min    0.000000e+00    22.000000\n",
              "25%    5.000000e+05    38.000000\n",
              "50%    4.000000e+06    50.000000\n",
              "75%    8.000000e+06    60.000000\n",
              "max    2.000000e+07    70.000000"
            ]
          },
          "metadata": {
            "tags": []
          },
          "execution_count": 2
        }
      ]
    },
    {
      "cell_type": "markdown",
      "metadata": {
        "id": "qR8jEjMUSq9N",
        "colab_type": "text"
      },
      "source": [
        "## 正規化・標準化しよう"
      ]
    },
    {
      "cell_type": "code",
      "metadata": {
        "id": "Y95lUM1gSp1A",
        "colab_type": "code",
        "colab": {
          "base_uri": "https://localhost:8080/",
          "height": 196
        },
        "outputId": "457716a8-3a46-4b25-d453-6d6c5861d9e9"
      },
      "source": [
        "# 正規化\n",
        "data_file[\"貯金\"] = (data_file[\"貯金\"]-data_file[\"貯金\"].min()) / (data_file[\"貯金\"].max()-data_file[\"貯金\"].min())\n",
        "\n",
        "data_file.head()"
      ],
      "execution_count": null,
      "outputs": [
        {
          "output_type": "execute_result",
          "data": {
            "text/html": [
              "<div>\n",
              "<style scoped>\n",
              "    .dataframe tbody tr th:only-of-type {\n",
              "        vertical-align: middle;\n",
              "    }\n",
              "\n",
              "    .dataframe tbody tr th {\n",
              "        vertical-align: top;\n",
              "    }\n",
              "\n",
              "    .dataframe thead th {\n",
              "        text-align: right;\n",
              "    }\n",
              "</style>\n",
              "<table border=\"1\" class=\"dataframe\">\n",
              "  <thead>\n",
              "    <tr style=\"text-align: right;\">\n",
              "      <th></th>\n",
              "      <th>貯金</th>\n",
              "      <th>信用履歴</th>\n",
              "      <th>年齢</th>\n",
              "      <th>家族構成</th>\n",
              "      <th>仕事</th>\n",
              "      <th>審査結果</th>\n",
              "    </tr>\n",
              "  </thead>\n",
              "  <tbody>\n",
              "    <tr>\n",
              "      <th>0</th>\n",
              "      <td>0.250</td>\n",
              "      <td>クレジットローン履歴無し / 全てのクレジットローンは延滞無く完済</td>\n",
              "      <td>22</td>\n",
              "      <td>配偶者あり</td>\n",
              "      <td>パート</td>\n",
              "      <td>発行可</td>\n",
              "    </tr>\n",
              "    <tr>\n",
              "      <th>1</th>\n",
              "      <td>0.005</td>\n",
              "      <td>ローンの残があるが現状遅延なく支払われている</td>\n",
              "      <td>22</td>\n",
              "      <td>配偶者あり</td>\n",
              "      <td>社員</td>\n",
              "      <td>発行可</td>\n",
              "    </tr>\n",
              "    <tr>\n",
              "      <th>2</th>\n",
              "      <td>0.200</td>\n",
              "      <td>ローンの残があるが現状遅延なく支払われている</td>\n",
              "      <td>22</td>\n",
              "      <td>配偶者あり</td>\n",
              "      <td>社員</td>\n",
              "      <td>発行不可</td>\n",
              "    </tr>\n",
              "    <tr>\n",
              "      <th>3</th>\n",
              "      <td>0.200</td>\n",
              "      <td>ローンの残があるが現状遅延なく支払われている</td>\n",
              "      <td>22</td>\n",
              "      <td>配偶者あり</td>\n",
              "      <td>管理者/役員</td>\n",
              "      <td>発行不可</td>\n",
              "    </tr>\n",
              "    <tr>\n",
              "      <th>4</th>\n",
              "      <td>0.025</td>\n",
              "      <td>ローンの残があるが現状遅延なく支払われている</td>\n",
              "      <td>22</td>\n",
              "      <td>配偶者あり</td>\n",
              "      <td>パート</td>\n",
              "      <td>発行不可</td>\n",
              "    </tr>\n",
              "  </tbody>\n",
              "</table>\n",
              "</div>"
            ],
            "text/plain": [
              "      貯金                               信用履歴  年齢   家族構成      仕事  審査結果\n",
              "0  0.250  クレジットローン履歴無し / 全てのクレジットローンは延滞無く完済  22  配偶者あり     パート   発行可\n",
              "1  0.005            ローンの残があるが現状遅延なく支払われている   22  配偶者あり      社員   発行可\n",
              "2  0.200            ローンの残があるが現状遅延なく支払われている   22  配偶者あり      社員  発行不可\n",
              "3  0.200            ローンの残があるが現状遅延なく支払われている   22  配偶者あり  管理者/役員  発行不可\n",
              "4  0.025            ローンの残があるが現状遅延なく支払われている   22  配偶者あり     パート  発行不可"
            ]
          },
          "metadata": {
            "tags": []
          },
          "execution_count": 3
        }
      ]
    },
    {
      "cell_type": "markdown",
      "metadata": {
        "id": "zlnIVSrcSw0V",
        "colab_type": "text"
      },
      "source": [
        "## グループ分けしよう"
      ]
    },
    {
      "cell_type": "code",
      "metadata": {
        "id": "yNZKbIQMSwE2",
        "colab_type": "code",
        "colab": {
          "base_uri": "https://localhost:8080/",
          "height": 196
        },
        "outputId": "0a4ae92b-9265-49b9-f8c2-f7f9c179c64c"
      },
      "source": [
        "# グループ分け\n",
        "age_bins =[20,30,40,50,60,100]\n",
        "age_label =['A20','A30','A40','A50','A60']\n",
        "data_file['年齢'] = pd.cut(data_file['年齢'], bins=age_bins, labels=age_label)\n",
        "\n",
        "data_file.head()"
      ],
      "execution_count": null,
      "outputs": [
        {
          "output_type": "execute_result",
          "data": {
            "text/html": [
              "<div>\n",
              "<style scoped>\n",
              "    .dataframe tbody tr th:only-of-type {\n",
              "        vertical-align: middle;\n",
              "    }\n",
              "\n",
              "    .dataframe tbody tr th {\n",
              "        vertical-align: top;\n",
              "    }\n",
              "\n",
              "    .dataframe thead th {\n",
              "        text-align: right;\n",
              "    }\n",
              "</style>\n",
              "<table border=\"1\" class=\"dataframe\">\n",
              "  <thead>\n",
              "    <tr style=\"text-align: right;\">\n",
              "      <th></th>\n",
              "      <th>貯金</th>\n",
              "      <th>信用履歴</th>\n",
              "      <th>年齢</th>\n",
              "      <th>家族構成</th>\n",
              "      <th>仕事</th>\n",
              "      <th>審査結果</th>\n",
              "    </tr>\n",
              "  </thead>\n",
              "  <tbody>\n",
              "    <tr>\n",
              "      <th>0</th>\n",
              "      <td>0.250</td>\n",
              "      <td>クレジットローン履歴無し / 全てのクレジットローンは延滞無く完済</td>\n",
              "      <td>A20</td>\n",
              "      <td>配偶者あり</td>\n",
              "      <td>パート</td>\n",
              "      <td>発行可</td>\n",
              "    </tr>\n",
              "    <tr>\n",
              "      <th>1</th>\n",
              "      <td>0.005</td>\n",
              "      <td>ローンの残があるが現状遅延なく支払われている</td>\n",
              "      <td>A20</td>\n",
              "      <td>配偶者あり</td>\n",
              "      <td>社員</td>\n",
              "      <td>発行可</td>\n",
              "    </tr>\n",
              "    <tr>\n",
              "      <th>2</th>\n",
              "      <td>0.200</td>\n",
              "      <td>ローンの残があるが現状遅延なく支払われている</td>\n",
              "      <td>A20</td>\n",
              "      <td>配偶者あり</td>\n",
              "      <td>社員</td>\n",
              "      <td>発行不可</td>\n",
              "    </tr>\n",
              "    <tr>\n",
              "      <th>3</th>\n",
              "      <td>0.200</td>\n",
              "      <td>ローンの残があるが現状遅延なく支払われている</td>\n",
              "      <td>A20</td>\n",
              "      <td>配偶者あり</td>\n",
              "      <td>管理者/役員</td>\n",
              "      <td>発行不可</td>\n",
              "    </tr>\n",
              "    <tr>\n",
              "      <th>4</th>\n",
              "      <td>0.025</td>\n",
              "      <td>ローンの残があるが現状遅延なく支払われている</td>\n",
              "      <td>A20</td>\n",
              "      <td>配偶者あり</td>\n",
              "      <td>パート</td>\n",
              "      <td>発行不可</td>\n",
              "    </tr>\n",
              "  </tbody>\n",
              "</table>\n",
              "</div>"
            ],
            "text/plain": [
              "      貯金                               信用履歴   年齢   家族構成      仕事  審査結果\n",
              "0  0.250  クレジットローン履歴無し / 全てのクレジットローンは延滞無く完済  A20  配偶者あり     パート   発行可\n",
              "1  0.005            ローンの残があるが現状遅延なく支払われている   A20  配偶者あり      社員   発行可\n",
              "2  0.200            ローンの残があるが現状遅延なく支払われている   A20  配偶者あり      社員  発行不可\n",
              "3  0.200            ローンの残があるが現状遅延なく支払われている   A20  配偶者あり  管理者/役員  発行不可\n",
              "4  0.025            ローンの残があるが現状遅延なく支払われている   A20  配偶者あり     パート  発行不可"
            ]
          },
          "metadata": {
            "tags": []
          },
          "execution_count": 4
        }
      ]
    },
    {
      "cell_type": "markdown",
      "metadata": {
        "id": "MOFqjDhcS0wW",
        "colab_type": "text"
      },
      "source": [
        "## One-hot-encodingしよう"
      ]
    },
    {
      "cell_type": "code",
      "metadata": {
        "id": "Agf9JGPWS0JP",
        "colab_type": "code",
        "colab": {
          "base_uri": "https://localhost:8080/",
          "height": 364
        },
        "outputId": "869c28b4-890c-41eb-c22c-809456e6ad31"
      },
      "source": [
        "# One hot encoding\n",
        "data_file = pd.get_dummies(data_file)\n",
        "\n",
        "data_file.head()"
      ],
      "execution_count": null,
      "outputs": [
        {
          "output_type": "execute_result",
          "data": {
            "text/html": [
              "<div>\n",
              "<style scoped>\n",
              "    .dataframe tbody tr th:only-of-type {\n",
              "        vertical-align: middle;\n",
              "    }\n",
              "\n",
              "    .dataframe tbody tr th {\n",
              "        vertical-align: top;\n",
              "    }\n",
              "\n",
              "    .dataframe thead th {\n",
              "        text-align: right;\n",
              "    }\n",
              "</style>\n",
              "<table border=\"1\" class=\"dataframe\">\n",
              "  <thead>\n",
              "    <tr style=\"text-align: right;\">\n",
              "      <th></th>\n",
              "      <th>貯金</th>\n",
              "      <th>信用履歴_この銀行のクレジットローンは全て完済</th>\n",
              "      <th>信用履歴_クレジットローン履歴無し / 全てのクレジットローンは延滞無く完済</th>\n",
              "      <th>信用履歴_ローンの残があるが現状遅延なく支払われている</th>\n",
              "      <th>信用履歴_危険人物 / 他のクレジットローンが存在している (この銀行以外で)</th>\n",
              "      <th>信用履歴_過去に遅延あり</th>\n",
              "      <th>年齢_A20</th>\n",
              "      <th>年齢_A30</th>\n",
              "      <th>年齢_A40</th>\n",
              "      <th>年齢_A50</th>\n",
              "      <th>年齢_A60</th>\n",
              "      <th>家族構成_配偶者あり</th>\n",
              "      <th>家族構成_配偶者なし</th>\n",
              "      <th>仕事_パート</th>\n",
              "      <th>仕事_無職</th>\n",
              "      <th>仕事_社員</th>\n",
              "      <th>仕事_管理者/役員</th>\n",
              "      <th>審査結果_発行不可</th>\n",
              "      <th>審査結果_発行可</th>\n",
              "    </tr>\n",
              "  </thead>\n",
              "  <tbody>\n",
              "    <tr>\n",
              "      <th>0</th>\n",
              "      <td>0.250</td>\n",
              "      <td>0</td>\n",
              "      <td>1</td>\n",
              "      <td>0</td>\n",
              "      <td>0</td>\n",
              "      <td>0</td>\n",
              "      <td>1</td>\n",
              "      <td>0</td>\n",
              "      <td>0</td>\n",
              "      <td>0</td>\n",
              "      <td>0</td>\n",
              "      <td>1</td>\n",
              "      <td>0</td>\n",
              "      <td>1</td>\n",
              "      <td>0</td>\n",
              "      <td>0</td>\n",
              "      <td>0</td>\n",
              "      <td>0</td>\n",
              "      <td>1</td>\n",
              "    </tr>\n",
              "    <tr>\n",
              "      <th>1</th>\n",
              "      <td>0.005</td>\n",
              "      <td>0</td>\n",
              "      <td>0</td>\n",
              "      <td>1</td>\n",
              "      <td>0</td>\n",
              "      <td>0</td>\n",
              "      <td>1</td>\n",
              "      <td>0</td>\n",
              "      <td>0</td>\n",
              "      <td>0</td>\n",
              "      <td>0</td>\n",
              "      <td>1</td>\n",
              "      <td>0</td>\n",
              "      <td>0</td>\n",
              "      <td>0</td>\n",
              "      <td>1</td>\n",
              "      <td>0</td>\n",
              "      <td>0</td>\n",
              "      <td>1</td>\n",
              "    </tr>\n",
              "    <tr>\n",
              "      <th>2</th>\n",
              "      <td>0.200</td>\n",
              "      <td>0</td>\n",
              "      <td>0</td>\n",
              "      <td>1</td>\n",
              "      <td>0</td>\n",
              "      <td>0</td>\n",
              "      <td>1</td>\n",
              "      <td>0</td>\n",
              "      <td>0</td>\n",
              "      <td>0</td>\n",
              "      <td>0</td>\n",
              "      <td>1</td>\n",
              "      <td>0</td>\n",
              "      <td>0</td>\n",
              "      <td>0</td>\n",
              "      <td>1</td>\n",
              "      <td>0</td>\n",
              "      <td>1</td>\n",
              "      <td>0</td>\n",
              "    </tr>\n",
              "    <tr>\n",
              "      <th>3</th>\n",
              "      <td>0.200</td>\n",
              "      <td>0</td>\n",
              "      <td>0</td>\n",
              "      <td>1</td>\n",
              "      <td>0</td>\n",
              "      <td>0</td>\n",
              "      <td>1</td>\n",
              "      <td>0</td>\n",
              "      <td>0</td>\n",
              "      <td>0</td>\n",
              "      <td>0</td>\n",
              "      <td>1</td>\n",
              "      <td>0</td>\n",
              "      <td>0</td>\n",
              "      <td>0</td>\n",
              "      <td>0</td>\n",
              "      <td>1</td>\n",
              "      <td>1</td>\n",
              "      <td>0</td>\n",
              "    </tr>\n",
              "    <tr>\n",
              "      <th>4</th>\n",
              "      <td>0.025</td>\n",
              "      <td>0</td>\n",
              "      <td>0</td>\n",
              "      <td>1</td>\n",
              "      <td>0</td>\n",
              "      <td>0</td>\n",
              "      <td>1</td>\n",
              "      <td>0</td>\n",
              "      <td>0</td>\n",
              "      <td>0</td>\n",
              "      <td>0</td>\n",
              "      <td>1</td>\n",
              "      <td>0</td>\n",
              "      <td>1</td>\n",
              "      <td>0</td>\n",
              "      <td>0</td>\n",
              "      <td>0</td>\n",
              "      <td>1</td>\n",
              "      <td>0</td>\n",
              "    </tr>\n",
              "  </tbody>\n",
              "</table>\n",
              "</div>"
            ],
            "text/plain": [
              "      貯金  信用履歴_この銀行のクレジットローンは全て完済  ...  審査結果_発行不可  審査結果_発行可\n",
              "0  0.250                        0  ...          0         1\n",
              "1  0.005                        0  ...          0         1\n",
              "2  0.200                        0  ...          1         0\n",
              "3  0.200                        0  ...          1         0\n",
              "4  0.025                        0  ...          1         0\n",
              "\n",
              "[5 rows x 19 columns]"
            ]
          },
          "metadata": {
            "tags": []
          },
          "execution_count": 5
        }
      ]
    },
    {
      "cell_type": "markdown",
      "metadata": {
        "id": "ywupyVUUS5kA",
        "colab_type": "text"
      },
      "source": [
        "## Numpyでデータを分けよう"
      ]
    },
    {
      "cell_type": "code",
      "metadata": {
        "id": "Y2gySX-jS27o",
        "colab_type": "code",
        "colab": {
          "base_uri": "https://localhost:8080/",
          "height": 52
        },
        "outputId": "cf17217b-4323-40a6-c111-56b1d40be112"
      },
      "source": [
        "# Numpy配列に変更\n",
        "data_file = np.array(data_file)\n",
        "\n",
        "# 入力データと正解ラベルに分割\n",
        "data = data_file[:,:17]\n",
        "label = data_file[:,17]\n",
        "\n",
        "# サンプル数を計測\n",
        "len(data)\n",
        "\n",
        "data[2]"
      ],
      "execution_count": null,
      "outputs": [
        {
          "output_type": "execute_result",
          "data": {
            "text/plain": [
              "array([0.2, 0. , 0. , 1. , 0. , 0. , 1. , 0. , 0. , 0. , 0. , 1. , 0. ,\n",
              "       0. , 0. , 1. , 0. ])"
            ]
          },
          "metadata": {
            "tags": []
          },
          "execution_count": 6
        }
      ]
    },
    {
      "cell_type": "markdown",
      "metadata": {
        "id": "nfdnzvOvS_x0",
        "colab_type": "text"
      },
      "source": [
        "## Scikit-learnで学習データとテストデータに分けよう\n"
      ]
    },
    {
      "cell_type": "code",
      "metadata": {
        "id": "0QOR5F-jS9cF",
        "colab_type": "code",
        "colab": {}
      },
      "source": [
        "# 学習データとテストデータに分割\n",
        "from sklearn.model_selection import train_test_split\n",
        "train_data, test_data, train_label, test_label = train_test_split(data,label, \n",
        "                                                                  random_state = 0, \n",
        "                                                                  stratify = label, \n",
        "                                                                  test_size = 0.3)\n"
      ],
      "execution_count": null,
      "outputs": []
    },
    {
      "cell_type": "markdown",
      "metadata": {
        "id": "YEjHaooyTC0W",
        "colab_type": "text"
      },
      "source": [
        "## Scikit-learnでSVMをインポートしよう"
      ]
    },
    {
      "cell_type": "code",
      "metadata": {
        "id": "lFYQS9zNTB8b",
        "colab_type": "code",
        "colab": {}
      },
      "source": [
        "# Scikit-learnのSVMをインポート\n",
        "from sklearn import svm\n",
        "\n",
        "# SVMの読み込み\n",
        "clf = svm.SVC(gamma=0.001, C=100.)"
      ],
      "execution_count": null,
      "outputs": []
    },
    {
      "cell_type": "markdown",
      "metadata": {
        "id": "oStV1VUo39mN",
        "colab_type": "text"
      },
      "source": [
        "## クロスバリデーション"
      ]
    },
    {
      "cell_type": "code",
      "metadata": {
        "id": "vuwxfld638t9",
        "colab_type": "code",
        "colab": {
          "base_uri": "https://localhost:8080/",
          "height": 69
        },
        "outputId": "15259bd1-c249-454b-f3c8-8e0982759c9a"
      },
      "source": [
        "from sklearn.model_selection import cross_val_score\n",
        "\n",
        "# 交差検証しない場合：training set を用いて学習 \n",
        ")\n",
        "model = clf.fit(train_data, train_label)\n",
        "\n",
        "# 交差検証しない場合：test set を用いて評価\n",
        "score = model.score(test_data, test_label)\n",
        "print('Test set score: {}'.format(score))\n",
        "\n",
        "# 交差検証を用いた学習\n",
        "scores = cross_val_score(clf, train_data, train_label,cv=5)\n",
        "\n",
        "# 各分割におけるスコア\n",
        "print('Cross-Validation scores: {}'.format(scores))\n",
        "\n",
        "# スコアの平均値\n",
        "print('Average score: {}'.format(np.mean(scores)))"
      ],
      "execution_count": 14,
      "outputs": [
        {
          "output_type": "stream",
          "text": [
            "Test set score: 0.8827586206896552\n",
            "Cross-Validation scores: [0.8817734  0.86699507 0.83743842 0.86138614 0.8960396 ]\n",
            "Average score: 0.8687265278251963\n"
          ],
          "name": "stdout"
        }
      ]
    },
    {
      "cell_type": "markdown",
      "metadata": {
        "colab_type": "text",
        "id": "z2MvHV6n95jl"
      },
      "source": [
        "## テストデータで検証しよう"
      ]
    },
    {
      "cell_type": "code",
      "metadata": {
        "colab_type": "code",
        "id": "dIJU2KkW95Zz",
        "colab": {
          "base_uri": "https://localhost:8080/",
          "height": 34
        },
        "outputId": "5e748a51-f2a4-4980-f326-413b20177a38"
      },
      "source": [
        "from sklearn import metrics\n",
        "\n",
        "y_pre = clf.predict(test_data)\n",
        "ac_score = metrics.accuracy_score(test_label, y_pre)\n",
        "print('正解率{0:.1f}%'.format(ac_score * 100)) # :.1f 小数点桁数1桁"
      ],
      "execution_count": null,
      "outputs": [
        {
          "output_type": "stream",
          "text": [
            "正解率88.3%\n"
          ],
          "name": "stdout"
        }
      ]
    },
    {
      "cell_type": "markdown",
      "metadata": {
        "colab_type": "text",
        "id": "WMAPBj7895QX"
      },
      "source": [
        "## 混同行列を確認しよう"
      ]
    },
    {
      "cell_type": "code",
      "metadata": {
        "colab_type": "code",
        "id": "4OsKf_pW95FW",
        "colab": {
          "base_uri": "https://localhost:8080/",
          "height": 209
        },
        "outputId": "ae1baba4-43bd-4f9e-8384-6295c2b42937"
      },
      "source": [
        "from sklearn.metrics import confusion_matrix\n",
        "from sklearn.metrics import classification_report\n",
        "\n",
        "print(classification_report(test_label, y_pre))\n",
        "print(confusion_matrix(test_label, y_pre))"
      ],
      "execution_count": null,
      "outputs": [
        {
          "output_type": "stream",
          "text": [
            "              precision    recall  f1-score   support\n",
            "\n",
            "         0.0       0.91      0.84      0.87       210\n",
            "         1.0       0.86      0.92      0.89       225\n",
            "\n",
            "    accuracy                           0.88       435\n",
            "   macro avg       0.89      0.88      0.88       435\n",
            "weighted avg       0.88      0.88      0.88       435\n",
            "\n",
            "[[176  34]\n",
            " [ 17 208]]\n"
          ],
          "name": "stdout"
        }
      ]
    },
    {
      "cell_type": "markdown",
      "metadata": {
        "colab_type": "text",
        "id": "zhxSAsUo947y"
      },
      "source": [
        "## ROCカーブとAUCスコアを確認しよう\n"
      ]
    },
    {
      "cell_type": "code",
      "metadata": {
        "colab_type": "code",
        "id": "MmdiRmls94wj",
        "colab": {
          "base_uri": "https://localhost:8080/",
          "height": 295
        },
        "outputId": "cb77a07a-c3b9-47af-fac1-272f480f4161"
      },
      "source": [
        "import matplotlib.pyplot as plt\n",
        "\n",
        "# FPR, TPR, 閾値 を算出\n",
        "fpr, tpr, thresholds = metrics.roc_curve(test_label, y_pre)\n",
        "\n",
        "# AUCスコア\n",
        "auc = metrics.auc(fpr, tpr)\n",
        "\n",
        "# ROC曲線をプロット\n",
        "plt.plot(fpr, tpr, marker='o',label='ROC curve (area = %.2f)'%auc)\n",
        "plt.legend()\n",
        "plt.title('ROC curve')\n",
        "plt.xlabel('False Positive Rate')\n",
        "plt.ylabel('True Positive Rate')\n",
        "plt.grid(True)\n",
        "plt.show()"
      ],
      "execution_count": null,
      "outputs": [
        {
          "output_type": "display_data",
          "data": {
            "image/png": "[encoded data removed]",
            "text/plain": [
              "<Figure size 432x288 with 1 Axes>"
            ]
          },
          "metadata": {
            "tags": [],
            "needs_background": "light"
          }
        }
      ]
    },
    {
      "cell_type": "code",
      "metadata": {
        "id": "QZoTaybDTkaM",
        "colab_type": "code",
        "colab": {
          "base_uri": "https://localhost:8080/",
          "height": 205
        },
        "outputId": "7d29fe4a-0f4a-46e7-bfe3-80282e1d0190"
      },
      "source": [
        "import pickle\n",
        "\n",
        "# モデルを保存する\n",
        "filename = \"/content/drive/My Drive/Colab Notebooks/final_model.sav\"\n",
        "pickle.dump(clf, open(filename, 'wb'))"
      ],
      "execution_count": null,
      "outputs": [
        {
          "output_type": "error",
          "ename": "FileNotFoundError",
          "evalue": "ignored",
          "traceback": [
            "\u001b[0;31m---------------------------------------------------------------------------\u001b[0m",
            "\u001b[0;31mFileNotFoundError\u001b[0m                         Traceback (most recent call last)",
            "\u001b[0;32m<ipython-input-13-61af3f1ae34e>\u001b[0m in \u001b[0;36m<module>\u001b[0;34m()\u001b[0m\n\u001b[1;32m      3\u001b[0m \u001b[0;31m# モデルを保存する\u001b[0m\u001b[0;34m\u001b[0m\u001b[0;34m\u001b[0m\u001b[0;34m\u001b[0m\u001b[0m\n\u001b[1;32m      4\u001b[0m \u001b[0mfilename\u001b[0m \u001b[0;34m=\u001b[0m \u001b[0;34m\"/content/drive/My Drive/Colab Notebooks/final_model.sav\"\u001b[0m\u001b[0;34m\u001b[0m\u001b[0;34m\u001b[0m\u001b[0m\n\u001b[0;32m----> 5\u001b[0;31m \u001b[0mpickle\u001b[0m\u001b[0;34m.\u001b[0m\u001b[0mdump\u001b[0m\u001b[0;34m(\u001b[0m\u001b[0mclf\u001b[0m\u001b[0;34m,\u001b[0m \u001b[0mopen\u001b[0m\u001b[0;34m(\u001b[0m\u001b[0mfilename\u001b[0m\u001b[0;34m,\u001b[0m \u001b[0;34m'wb'\u001b[0m\u001b[0;34m)\u001b[0m\u001b[0;34m)\u001b[0m\u001b[0;34m\u001b[0m\u001b[0;34m\u001b[0m\u001b[0m\n\u001b[0m",
            "\u001b[0;31mFileNotFoundError\u001b[0m: [Errno 2] No such file or directory: '/content/drive/My Drive/Colab Notebooks/final_model.sav'"
          ]
        }
      ]
    },
    {
      "cell_type": "code",
      "metadata": {
        "id": "0bsZwWyzTyvN",
        "colab_type": "code",
        "colab": {}
      },
      "source": [
        ""
      ],
      "execution_count": null,
      "outputs": []
    }
  ]
}