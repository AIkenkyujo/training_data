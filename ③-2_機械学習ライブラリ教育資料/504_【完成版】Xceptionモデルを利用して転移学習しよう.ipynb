{
  "nbformat": 4,
  "nbformat_minor": 0,
  "metadata": {
    "colab": {
      "name": "504_【完成版】Xceptionモデルを利用して転移学習しよう.ipynb",
      "provenance": [],
      "collapsed_sections": [],
      "toc_visible": true
    },
    "kernelspec": {
      "name": "python3",
      "display_name": "Python 3"
    },
    "accelerator": "GPU"
  },
  "cells": [
    {
      "cell_type": "code",
      "metadata": {
        "id": "gukhBsmV2WiF",
        "colab_type": "code",
        "colab": {}
      },
      "source": [
        "# TensorFlow と tf.keras のインポート\n",
        "import tensorflow as tf\n",
        "from tensorflow import keras\n",
        "%tensorflow_version 2.x\n"
      ],
      "execution_count": 2,
      "outputs": []
    },
    {
      "cell_type": "markdown",
      "metadata": {
        "id": "uEN65Q_wQBqB",
        "colab_type": "text"
      },
      "source": [
        "# Xceptionモデルを利用して転移学習しよう"
      ]
    },
    {
      "cell_type": "markdown",
      "metadata": {
        "id": "x-NER-TGQD3X",
        "colab_type": "text"
      },
      "source": [
        "## データをインポートしよう（画像サイズのみ変更）"
      ]
    },
    {
      "cell_type": "code",
      "metadata": {
        "id": "z-u1VtsXVhIF",
        "colab_type": "code",
        "colab": {
          "base_uri": "https://localhost:8080/",
          "height": 142
        },
        "outputId": "fca09b71-4d52-4527-deac-62a876219748"
      },
      "source": [
        "import cv2\n",
        "import numpy as np\n",
        "import os\n",
        "from glob import glob\n",
        "\n",
        "Path = glob(\"/content/drive/My Drive/Colab Notebooks/face/*/\")\n",
        "\n",
        "# 空のリストを準備\n",
        "data = []\n",
        "label = [] \n",
        "class_num = 0\n",
        "\n",
        "# 画像サイズ\n",
        "image_size = 150\n",
        "\n",
        "def append_data(directory, class_num):\n",
        "    # 例：['KA.AN2.40.jpg', 'KA.AN3.41.jpg',,,,,'KL.AN2.168.jpg', 'KL.AN3.169.jpg']\n",
        "    files = os.listdir(directory)  # ディレクトリの中をファイルを全てリストにする\n",
        "    print(files)\n",
        "    for image in files:\n",
        "        if image.endswith(\".jpg\"): # jpg画像だけを抽出\n",
        "            image = cv2.imread(directory + image) # 画像を準備\n",
        "            image = cv2.resize(image, (image_size, image_size)) # リサイズ\n",
        "            # image_gs = cv2.cvtColor(image, cv2.COLOR_BGR2GRAY) # グレースケール\n",
        "            image = image.flatten() # リストを平坦化     \n",
        "            data.append(image)  # 学習用データに代入\n",
        "            label.append(class_num)  # 学習用データのラベルに代入\n",
        "                \n",
        "for fil in Path:\n",
        "    append_data(fil, class_num)\n",
        "    class_num += 1\n",
        "\n",
        "print(label)"
      ],
      "execution_count": 3,
      "outputs": [
        {
          "output_type": "stream",
          "text": [
            "['TM.HA2.181.jpg', 'KL.HA2.159.jpg', 'YM.HA2.53.jpg', 'MK.HA1.116.jpg', 'KM.NE1.1.jpg', 'MK.HA3.118.jpg', 'MK.HA2.117.jpg', 'NA.HA2.203.jpg', 'YM.HA3.54.jpg', 'NA.HA3.204.jpg', 'KR.HA1.74.jpg', 'NA.HA1.202.jpg', 'TM.HA3.182.jpg', 'UY.HA2.138.jpg', 'UY.HA3.139.jpg', 'NM.HA1.95.jpg', 'TM.HA1.180.jpg', 'KM.HA1.4.jpg', 'KA.HA3.31.jpg', 'KM.HA2.5.jpg', 'KM.HA4.7.jpg', 'KM.HA3.6.jpg', 'KR.HA2.75.jpg', 'KL.HA3.160.jpg', 'YM.HA1.52.jpg', 'NM.HA3.97.jpg', 'KA.HA4.32.jpg', 'UY.HA1.137.jpg', 'KL.HA1.158.jpg', 'KA.HA2.30.jpg', 'KA.HA1.29.jpg', 'NM.HA2.96.jpg']\n",
            "['KA.AN1.39.jpg', 'KM.AN2.18.jpg', 'NA.AN2.212.jpg', 'NM.AN3.106.jpg', 'NA.AN1.211.jpg', 'TM.AN1.190.jpg', 'NM.AN2.105.jpg', 'KL.AN3.169.jpg', 'TM.AN3.192.jpg', 'KR.AN3.85.jpg', 'KA.AN2.40.jpg', 'UY.AN2.147.jpg', 'NM.AN1.104.jpg', 'YM.AN2.62.jpg', 'MK.AN2.126.jpg', 'KL.AN2.168.jpg', 'MK.AN3.127.jpg', 'KR.AN2.84.jpg', 'UY.AN3.148.jpg', 'KL.AN1.167.jpg', 'KA.AN3.41.jpg', 'MK.AN1.125.jpg', 'KM.AN3.19.jpg', 'NA.AN3.213.jpg', 'UY.AN1.146.jpg', 'KR.AN1.83.jpg', 'TM.AN2.191.jpg', 'YM.AN3.63.jpg', 'YM.AN1.61.jpg', 'KM.AN1.17.jpg']\n",
            "['YM.NE1.49.jpg', 'TM.NE3.179.jpg', 'NA.NE1.199.jpg', 'UY.NE1.134.jpg', 'UY.NE2.135.jpg', 'KA.NE1.26.jpg', 'KM.NE2.2.jpg', 'NM.NE2.93.jpg', 'NM.NE1.92.jpg', 'KR.NE1.71.jpg', 'UY.NE3.136.jpg', 'YM.NE3.51.jpg', 'KL.NE1.155.jpg', 'NM.NE3.94.jpg', 'YM.NE2.50.jpg', 'TM.NE2.178.jpg', 'NA.NE3.201.jpg', 'KL.NE3.157.jpg', 'KM.NE3.3.jpg', 'MK.NE2.114.jpg', 'MK.NE1.113.jpg', 'KL.NE2.156.jpg', 'KA.NE2.27.jpg', 'KA.NE3.28.jpg', 'NA.NE2.200.jpg', 'MK.NE3.115.jpg', 'TM.NE1.177.jpg', 'KR.NE2.72.jpg', 'KR.NE3.73.jpg']\n",
            "['UY.SU3.145.jpg', 'KR.SU3.82.jpg', 'UY.SU2.144.jpg', 'NA.SU3.210.jpg', 'KM.SU1.14.jpg', 'MK.SU1.122.jpg', 'YM.SU3.60.jpg', 'NA.SU2.209.jpg', 'KR.SU1.80.jpg', 'KA.SU2.37.jpg', 'NM.SU1.101.jpg', 'MK.SU2.123.jpg', 'TM.SU1.187.jpg', 'KL.SU2.165.jpg', 'KM.SU3.16.jpg', 'NM.SU2.102.jpg', 'KA.SU3.38.jpg', 'KL.SU1.164.jpg', 'MK.SU3.124.jpg', 'TM.SU2.188.jpg', 'KR.SU2.81.jpg', 'YM.SU1.58.jpg', 'TM.SU3.189.jpg', 'KL.SU3.166.jpg', 'YM.SU2.59.jpg', 'KM.SU2.15.jpg', 'NM.SU3.103.jpg', 'UY.SU1.143.jpg', 'KA.SU1.36.jpg', 'NA.SU1.208.jpg']\n",
            "['KL.SA1.161.jpg', 'MK.SA1.119.jpg', 'NM.SA3.100.jpg', 'TM.SA2.185.jpg', 'UY.SA2.141.jpg', 'KR.SA2.78.jpg', 'NA.SA2.206.jpg', 'TM.SA1.184.jpg', 'YM.SA1.55.jpg', 'YM.SA2.56.jpg', 'KM.SA5.13.jpg', 'KA.SA1.33.jpg', 'KA.SA2.34.jpg', 'KM.SA3.11.jpg', 'KL.SA2.162.jpg', 'NA.SA3.207.jpg', 'KM.SA2.10.jpg', 'KR.SA3.79.jpg', 'MK.SA3.121.jpg', 'KR.SA1.77.jpg', 'KM.SA1.9.jpg', 'NM.SA2.99.jpg', 'KA.SA3.35.jpg', 'YM.SA3.57.jpg', 'MK.SA2.120.jpg', 'UY.SA3.142.jpg', 'NA.SA1.205.jpg', 'KL.SA3.163.jpg', 'UY.SA1.140.jpg', 'TM.SA3.186.jpg', 'NM.SA1.98.jpg']\n",
            "[0, 0, 0, 0, 0, 0, 0, 0, 0, 0, 0, 0, 0, 0, 0, 0, 0, 0, 0, 0, 0, 0, 0, 0, 0, 0, 0, 0, 0, 0, 0, 0, 1, 1, 1, 1, 1, 1, 1, 1, 1, 1, 1, 1, 1, 1, 1, 1, 1, 1, 1, 1, 1, 1, 1, 1, 1, 1, 1, 1, 1, 1, 2, 2, 2, 2, 2, 2, 2, 2, 2, 2, 2, 2, 2, 2, 2, 2, 2, 2, 2, 2, 2, 2, 2, 2, 2, 2, 2, 2, 2, 3, 3, 3, 3, 3, 3, 3, 3, 3, 3, 3, 3, 3, 3, 3, 3, 3, 3, 3, 3, 3, 3, 3, 3, 3, 3, 3, 3, 3, 3, 4, 4, 4, 4, 4, 4, 4, 4, 4, 4, 4, 4, 4, 4, 4, 4, 4, 4, 4, 4, 4, 4, 4, 4, 4, 4, 4, 4, 4, 4, 4]\n"
          ],
          "name": "stdout"
        }
      ]
    },
    {
      "cell_type": "markdown",
      "metadata": {
        "id": "oB-4jSvtQUDm",
        "colab_type": "text"
      },
      "source": [
        "## CNNに適用する型に変更（501と同じ）"
      ]
    },
    {
      "cell_type": "code",
      "metadata": {
        "id": "z7QFFPVN8Xsi",
        "colab_type": "code",
        "colab": {
          "base_uri": "https://localhost:8080/",
          "height": 52
        },
        "outputId": "e0223b69-20cb-4c47-b00c-48e9a64000c3"
      },
      "source": [
        "# データ型の変換\n",
        "data = np.array(data, dtype=np.float32)\n",
        "label = np.array(label, dtype=np.float32)\n",
        "\n",
        "# 学習データとテストデータに分割\n",
        "from sklearn.model_selection import train_test_split\n",
        "train_data, test_data, train_label, test_label = train_test_split(data,label, \n",
        "                                                                  random_state = 1, \n",
        "                                                                  stratify = label, \n",
        "                                                                  test_size = 0.2)\n",
        "\n",
        "# 学習データのリストを変形  #.reshape(データの数, 縦のサイズ, 横のサイズ, 次元)\n",
        "train_data = train_data.reshape((len(train_data)),image_size,image_size,3)\n",
        "test_data = test_data.reshape((len(test_data)),image_size,image_size,3)\n",
        "\n",
        "# 学習データを正規化\n",
        "train_data /= 255 # to 0-1\n",
        "test_data /= 255 # to 0-1\n",
        "\n",
        "# ラベルデータをone-hot 変換\n",
        "from keras.utils.np_utils import to_categorical\n",
        "train_label = to_categorical(train_label, num_classes=5)\n",
        "test_label = to_categorical(test_label, num_classes=5)\n",
        "\n",
        "print(train_data.shape, train_label.shape, test_data.shape, test_label.shape) \n",
        "\n",
        "# test_label\n"
      ],
      "execution_count": 4,
      "outputs": [
        {
          "output_type": "stream",
          "text": [
            "(121, 150, 150, 3) (121, 5) (31, 150, 150, 3) (31, 5)\n"
          ],
          "name": "stdout"
        },
        {
          "output_type": "stream",
          "text": [
            "Using TensorFlow backend.\n"
          ],
          "name": "stderr"
        }
      ]
    },
    {
      "cell_type": "markdown",
      "metadata": {
        "id": "H8uWAWEjLVxs",
        "colab_type": "text"
      },
      "source": [
        "# Xceptionモデルをインポート"
      ]
    },
    {
      "cell_type": "code",
      "metadata": {
        "id": "y1C3r9Jk32X3",
        "colab_type": "code",
        "colab": {
          "base_uri": "https://localhost:8080/",
          "height": 1000
        },
        "outputId": "4d261e4a-29ee-4901-f27b-5ff779abfd8a"
      },
      "source": [
        "#モデル作成・学習\n",
        "from tensorflow.keras.applications.xception import Xception\n",
        "from tensorflow.keras.models import Model\n",
        "from tensorflow.keras.layers import Conv2D, MaxPooling2D,Input\n",
        "from tensorflow.keras.layers import Dense, Dropout, Flatten, Activation,GlobalAveragePooling2D,Input\n",
        "from tensorflow.keras.models import Sequential\n",
        "from tensorflow.keras.optimizers import Adam\n",
        "from tensorflow.keras import optimizers\n",
        "\n",
        "base_model = Xception(include_top = False,\n",
        "                      weights = \"imagenet\",\n",
        "                      input_shape = None)\n",
        "\n",
        "# 全結合層の新規構築\n",
        "x = base_model.output\n",
        "x = GlobalAveragePooling2D()(x)\n",
        "x = Dense(1024, activation = 'relu')(x)\n",
        "predictions = Dense(5, activation = 'softmax')(x)\n",
        "\n",
        "# ネットワーク定義\n",
        "X_model = Model(inputs = base_model.input, outputs = predictions)\n",
        "print(\"{}層\".format(len(X_model.layers)))\n",
        "\n",
        "#123層までfreeze\n",
        "for layer in X_model.layers[:123]:\n",
        "    layer.trainable = False\n",
        "\n",
        "    # Batch Normalization の freeze解除\n",
        "    if layer.name.startswith('batch_normalization'):\n",
        "        layer.trainable = True\n",
        "    if layer.name.endswith('bn'):\n",
        "        layer.trainable = True\n",
        "\n",
        "#124層以降、学習させる\n",
        "for layer in X_model.layers[123:]:\n",
        "    layer.trainable = True\n",
        "\n",
        "# layer.trainableの設定後にcompile\n",
        "X_model.compile(\n",
        "    optimizer = Adam(),\n",
        "    loss = 'categorical_crossentropy',\n",
        "    metrics = [\"accuracy\"]\n",
        ")\n",
        "\n",
        "\n",
        "X_model.summary()"
      ],
      "execution_count": 5,
      "outputs": [
        {
          "output_type": "stream",
          "text": [
            "Downloading data from https://storage.googleapis.com/tensorflow/keras-applications/xception/xception_weights_tf_dim_ordering_tf_kernels_notop.h5\n",
            "83689472/83683744 [==============================] - 1s 0us/step\n",
            "135層\n",
            "Model: \"model\"\n",
            "__________________________________________________________________________________________________\n",
            "Layer (type)                    Output Shape         Param #     Connected to                     \n",
            "==================================================================================================\n",
            "input_1 (InputLayer)            [(None, None, None,  0                                            \n",
            "__________________________________________________________________________________________________\n",
            "block1_conv1 (Conv2D)           (None, None, None, 3 864         input_1[0][0]                    \n",
            "__________________________________________________________________________________________________\n",
            "block1_conv1_bn (BatchNormaliza (None, None, None, 3 128         block1_conv1[0][0]               \n",
            "__________________________________________________________________________________________________\n",
            "block1_conv1_act (Activation)   (None, None, None, 3 0           block1_conv1_bn[0][0]            \n",
            "__________________________________________________________________________________________________\n",
            "block1_conv2 (Conv2D)           (None, None, None, 6 18432       block1_conv1_act[0][0]           \n",
            "__________________________________________________________________________________________________\n",
            "block1_conv2_bn (BatchNormaliza (None, None, None, 6 256         block1_conv2[0][0]               \n",
            "__________________________________________________________________________________________________\n",
            "block1_conv2_act (Activation)   (None, None, None, 6 0           block1_conv2_bn[0][0]            \n",
            "__________________________________________________________________________________________________\n",
            "block2_sepconv1 (SeparableConv2 (None, None, None, 1 8768        block1_conv2_act[0][0]           \n",
            "__________________________________________________________________________________________________\n",
            "block2_sepconv1_bn (BatchNormal (None, None, None, 1 512         block2_sepconv1[0][0]            \n",
            "__________________________________________________________________________________________________\n",
            "block2_sepconv2_act (Activation (None, None, None, 1 0           block2_sepconv1_bn[0][0]         \n",
            "__________________________________________________________________________________________________\n",
            "block2_sepconv2 (SeparableConv2 (None, None, None, 1 17536       block2_sepconv2_act[0][0]        \n",
            "__________________________________________________________________________________________________\n",
            "block2_sepconv2_bn (BatchNormal (None, None, None, 1 512         block2_sepconv2[0][0]            \n",
            "__________________________________________________________________________________________________\n",
            "conv2d (Conv2D)                 (None, None, None, 1 8192        block1_conv2_act[0][0]           \n",
            "__________________________________________________________________________________________________\n",
            "block2_pool (MaxPooling2D)      (None, None, None, 1 0           block2_sepconv2_bn[0][0]         \n",
            "__________________________________________________________________________________________________\n",
            "batch_normalization (BatchNorma (None, None, None, 1 512         conv2d[0][0]                     \n",
            "__________________________________________________________________________________________________\n",
            "add (Add)                       (None, None, None, 1 0           block2_pool[0][0]                \n",
            "                                                                 batch_normalization[0][0]        \n",
            "__________________________________________________________________________________________________\n",
            "block3_sepconv1_act (Activation (None, None, None, 1 0           add[0][0]                        \n",
            "__________________________________________________________________________________________________\n",
            "block3_sepconv1 (SeparableConv2 (None, None, None, 2 33920       block3_sepconv1_act[0][0]        \n",
            "__________________________________________________________________________________________________\n",
            "block3_sepconv1_bn (BatchNormal (None, None, None, 2 1024        block3_sepconv1[0][0]            \n",
            "__________________________________________________________________________________________________\n",
            "block3_sepconv2_act (Activation (None, None, None, 2 0           block3_sepconv1_bn[0][0]         \n",
            "__________________________________________________________________________________________________\n",
            "block3_sepconv2 (SeparableConv2 (None, None, None, 2 67840       block3_sepconv2_act[0][0]        \n",
            "__________________________________________________________________________________________________\n",
            "block3_sepconv2_bn (BatchNormal (None, None, None, 2 1024        block3_sepconv2[0][0]            \n",
            "__________________________________________________________________________________________________\n",
            "conv2d_1 (Conv2D)               (None, None, None, 2 32768       add[0][0]                        \n",
            "__________________________________________________________________________________________________\n",
            "block3_pool (MaxPooling2D)      (None, None, None, 2 0           block3_sepconv2_bn[0][0]         \n",
            "__________________________________________________________________________________________________\n",
            "batch_normalization_1 (BatchNor (None, None, None, 2 1024        conv2d_1[0][0]                   \n",
            "__________________________________________________________________________________________________\n",
            "add_1 (Add)                     (None, None, None, 2 0           block3_pool[0][0]                \n",
            "                                                                 batch_normalization_1[0][0]      \n",
            "__________________________________________________________________________________________________\n",
            "block4_sepconv1_act (Activation (None, None, None, 2 0           add_1[0][0]                      \n",
            "__________________________________________________________________________________________________\n",
            "block4_sepconv1 (SeparableConv2 (None, None, None, 7 188672      block4_sepconv1_act[0][0]        \n",
            "__________________________________________________________________________________________________\n",
            "block4_sepconv1_bn (BatchNormal (None, None, None, 7 2912        block4_sepconv1[0][0]            \n",
            "__________________________________________________________________________________________________\n",
            "block4_sepconv2_act (Activation (None, None, None, 7 0           block4_sepconv1_bn[0][0]         \n",
            "__________________________________________________________________________________________________\n",
            "block4_sepconv2 (SeparableConv2 (None, None, None, 7 536536      block4_sepconv2_act[0][0]        \n",
            "__________________________________________________________________________________________________\n",
            "block4_sepconv2_bn (BatchNormal (None, None, None, 7 2912        block4_sepconv2[0][0]            \n",
            "__________________________________________________________________________________________________\n",
            "conv2d_2 (Conv2D)               (None, None, None, 7 186368      add_1[0][0]                      \n",
            "__________________________________________________________________________________________________\n",
            "block4_pool (MaxPooling2D)      (None, None, None, 7 0           block4_sepconv2_bn[0][0]         \n",
            "__________________________________________________________________________________________________\n",
            "batch_normalization_2 (BatchNor (None, None, None, 7 2912        conv2d_2[0][0]                   \n",
            "__________________________________________________________________________________________________\n",
            "add_2 (Add)                     (None, None, None, 7 0           block4_pool[0][0]                \n",
            "                                                                 batch_normalization_2[0][0]      \n",
            "__________________________________________________________________________________________________\n",
            "block5_sepconv1_act (Activation (None, None, None, 7 0           add_2[0][0]                      \n",
            "__________________________________________________________________________________________________\n",
            "block5_sepconv1 (SeparableConv2 (None, None, None, 7 536536      block5_sepconv1_act[0][0]        \n",
            "__________________________________________________________________________________________________\n",
            "block5_sepconv1_bn (BatchNormal (None, None, None, 7 2912        block5_sepconv1[0][0]            \n",
            "__________________________________________________________________________________________________\n",
            "block5_sepconv2_act (Activation (None, None, None, 7 0           block5_sepconv1_bn[0][0]         \n",
            "__________________________________________________________________________________________________\n",
            "block5_sepconv2 (SeparableConv2 (None, None, None, 7 536536      block5_sepconv2_act[0][0]        \n",
            "__________________________________________________________________________________________________\n",
            "block5_sepconv2_bn (BatchNormal (None, None, None, 7 2912        block5_sepconv2[0][0]            \n",
            "__________________________________________________________________________________________________\n",
            "block5_sepconv3_act (Activation (None, None, None, 7 0           block5_sepconv2_bn[0][0]         \n",
            "__________________________________________________________________________________________________\n",
            "block5_sepconv3 (SeparableConv2 (None, None, None, 7 536536      block5_sepconv3_act[0][0]        \n",
            "__________________________________________________________________________________________________\n",
            "block5_sepconv3_bn (BatchNormal (None, None, None, 7 2912        block5_sepconv3[0][0]            \n",
            "__________________________________________________________________________________________________\n",
            "add_3 (Add)                     (None, None, None, 7 0           block5_sepconv3_bn[0][0]         \n",
            "                                                                 add_2[0][0]                      \n",
            "__________________________________________________________________________________________________\n",
            "block6_sepconv1_act (Activation (None, None, None, 7 0           add_3[0][0]                      \n",
            "__________________________________________________________________________________________________\n",
            "block6_sepconv1 (SeparableConv2 (None, None, None, 7 536536      block6_sepconv1_act[0][0]        \n",
            "__________________________________________________________________________________________________\n",
            "block6_sepconv1_bn (BatchNormal (None, None, None, 7 2912        block6_sepconv1[0][0]            \n",
            "__________________________________________________________________________________________________\n",
            "block6_sepconv2_act (Activation (None, None, None, 7 0           block6_sepconv1_bn[0][0]         \n",
            "__________________________________________________________________________________________________\n",
            "block6_sepconv2 (SeparableConv2 (None, None, None, 7 536536      block6_sepconv2_act[0][0]        \n",
            "__________________________________________________________________________________________________\n",
            "block6_sepconv2_bn (BatchNormal (None, None, None, 7 2912        block6_sepconv2[0][0]            \n",
            "__________________________________________________________________________________________________\n",
            "block6_sepconv3_act (Activation (None, None, None, 7 0           block6_sepconv2_bn[0][0]         \n",
            "__________________________________________________________________________________________________\n",
            "block6_sepconv3 (SeparableConv2 (None, None, None, 7 536536      block6_sepconv3_act[0][0]        \n",
            "__________________________________________________________________________________________________\n",
            "block6_sepconv3_bn (BatchNormal (None, None, None, 7 2912        block6_sepconv3[0][0]            \n",
            "__________________________________________________________________________________________________\n",
            "add_4 (Add)                     (None, None, None, 7 0           block6_sepconv3_bn[0][0]         \n",
            "                                                                 add_3[0][0]                      \n",
            "__________________________________________________________________________________________________\n",
            "block7_sepconv1_act (Activation (None, None, None, 7 0           add_4[0][0]                      \n",
            "__________________________________________________________________________________________________\n",
            "block7_sepconv1 (SeparableConv2 (None, None, None, 7 536536      block7_sepconv1_act[0][0]        \n",
            "__________________________________________________________________________________________________\n",
            "block7_sepconv1_bn (BatchNormal (None, None, None, 7 2912        block7_sepconv1[0][0]            \n",
            "__________________________________________________________________________________________________\n",
            "block7_sepconv2_act (Activation (None, None, None, 7 0           block7_sepconv1_bn[0][0]         \n",
            "__________________________________________________________________________________________________\n",
            "block7_sepconv2 (SeparableConv2 (None, None, None, 7 536536      block7_sepconv2_act[0][0]        \n",
            "__________________________________________________________________________________________________\n",
            "block7_sepconv2_bn (BatchNormal (None, None, None, 7 2912        block7_sepconv2[0][0]            \n",
            "__________________________________________________________________________________________________\n",
            "block7_sepconv3_act (Activation (None, None, None, 7 0           block7_sepconv2_bn[0][0]         \n",
            "__________________________________________________________________________________________________\n",
            "block7_sepconv3 (SeparableConv2 (None, None, None, 7 536536      block7_sepconv3_act[0][0]        \n",
            "__________________________________________________________________________________________________\n",
            "block7_sepconv3_bn (BatchNormal (None, None, None, 7 2912        block7_sepconv3[0][0]            \n",
            "__________________________________________________________________________________________________\n",
            "add_5 (Add)                     (None, None, None, 7 0           block7_sepconv3_bn[0][0]         \n",
            "                                                                 add_4[0][0]                      \n",
            "__________________________________________________________________________________________________\n",
            "block8_sepconv1_act (Activation (None, None, None, 7 0           add_5[0][0]                      \n",
            "__________________________________________________________________________________________________\n",
            "block8_sepconv1 (SeparableConv2 (None, None, None, 7 536536      block8_sepconv1_act[0][0]        \n",
            "__________________________________________________________________________________________________\n",
            "block8_sepconv1_bn (BatchNormal (None, None, None, 7 2912        block8_sepconv1[0][0]            \n",
            "__________________________________________________________________________________________________\n",
            "block8_sepconv2_act (Activation (None, None, None, 7 0           block8_sepconv1_bn[0][0]         \n",
            "__________________________________________________________________________________________________\n",
            "block8_sepconv2 (SeparableConv2 (None, None, None, 7 536536      block8_sepconv2_act[0][0]        \n",
            "__________________________________________________________________________________________________\n",
            "block8_sepconv2_bn (BatchNormal (None, None, None, 7 2912        block8_sepconv2[0][0]            \n",
            "__________________________________________________________________________________________________\n",
            "block8_sepconv3_act (Activation (None, None, None, 7 0           block8_sepconv2_bn[0][0]         \n",
            "__________________________________________________________________________________________________\n",
            "block8_sepconv3 (SeparableConv2 (None, None, None, 7 536536      block8_sepconv3_act[0][0]        \n",
            "__________________________________________________________________________________________________\n",
            "block8_sepconv3_bn (BatchNormal (None, None, None, 7 2912        block8_sepconv3[0][0]            \n",
            "__________________________________________________________________________________________________\n",
            "add_6 (Add)                     (None, None, None, 7 0           block8_sepconv3_bn[0][0]         \n",
            "                                                                 add_5[0][0]                      \n",
            "__________________________________________________________________________________________________\n",
            "block9_sepconv1_act (Activation (None, None, None, 7 0           add_6[0][0]                      \n",
            "__________________________________________________________________________________________________\n",
            "block9_sepconv1 (SeparableConv2 (None, None, None, 7 536536      block9_sepconv1_act[0][0]        \n",
            "__________________________________________________________________________________________________\n",
            "block9_sepconv1_bn (BatchNormal (None, None, None, 7 2912        block9_sepconv1[0][0]            \n",
            "__________________________________________________________________________________________________\n",
            "block9_sepconv2_act (Activation (None, None, None, 7 0           block9_sepconv1_bn[0][0]         \n",
            "__________________________________________________________________________________________________\n",
            "block9_sepconv2 (SeparableConv2 (None, None, None, 7 536536      block9_sepconv2_act[0][0]        \n",
            "__________________________________________________________________________________________________\n",
            "block9_sepconv2_bn (BatchNormal (None, None, None, 7 2912        block9_sepconv2[0][0]            \n",
            "__________________________________________________________________________________________________\n",
            "block9_sepconv3_act (Activation (None, None, None, 7 0           block9_sepconv2_bn[0][0]         \n",
            "__________________________________________________________________________________________________\n",
            "block9_sepconv3 (SeparableConv2 (None, None, None, 7 536536      block9_sepconv3_act[0][0]        \n",
            "__________________________________________________________________________________________________\n",
            "block9_sepconv3_bn (BatchNormal (None, None, None, 7 2912        block9_sepconv3[0][0]            \n",
            "__________________________________________________________________________________________________\n",
            "add_7 (Add)                     (None, None, None, 7 0           block9_sepconv3_bn[0][0]         \n",
            "                                                                 add_6[0][0]                      \n",
            "__________________________________________________________________________________________________\n",
            "block10_sepconv1_act (Activatio (None, None, None, 7 0           add_7[0][0]                      \n",
            "__________________________________________________________________________________________________\n",
            "block10_sepconv1 (SeparableConv (None, None, None, 7 536536      block10_sepconv1_act[0][0]       \n",
            "__________________________________________________________________________________________________\n",
            "block10_sepconv1_bn (BatchNorma (None, None, None, 7 2912        block10_sepconv1[0][0]           \n",
            "__________________________________________________________________________________________________\n",
            "block10_sepconv2_act (Activatio (None, None, None, 7 0           block10_sepconv1_bn[0][0]        \n",
            "__________________________________________________________________________________________________\n",
            "block10_sepconv2 (SeparableConv (None, None, None, 7 536536      block10_sepconv2_act[0][0]       \n",
            "__________________________________________________________________________________________________\n",
            "block10_sepconv2_bn (BatchNorma (None, None, None, 7 2912        block10_sepconv2[0][0]           \n",
            "__________________________________________________________________________________________________\n",
            "block10_sepconv3_act (Activatio (None, None, None, 7 0           block10_sepconv2_bn[0][0]        \n",
            "__________________________________________________________________________________________________\n",
            "block10_sepconv3 (SeparableConv (None, None, None, 7 536536      block10_sepconv3_act[0][0]       \n",
            "__________________________________________________________________________________________________\n",
            "block10_sepconv3_bn (BatchNorma (None, None, None, 7 2912        block10_sepconv3[0][0]           \n",
            "__________________________________________________________________________________________________\n",
            "add_8 (Add)                     (None, None, None, 7 0           block10_sepconv3_bn[0][0]        \n",
            "                                                                 add_7[0][0]                      \n",
            "__________________________________________________________________________________________________\n",
            "block11_sepconv1_act (Activatio (None, None, None, 7 0           add_8[0][0]                      \n",
            "__________________________________________________________________________________________________\n",
            "block11_sepconv1 (SeparableConv (None, None, None, 7 536536      block11_sepconv1_act[0][0]       \n",
            "__________________________________________________________________________________________________\n",
            "block11_sepconv1_bn (BatchNorma (None, None, None, 7 2912        block11_sepconv1[0][0]           \n",
            "__________________________________________________________________________________________________\n",
            "block11_sepconv2_act (Activatio (None, None, None, 7 0           block11_sepconv1_bn[0][0]        \n",
            "__________________________________________________________________________________________________\n",
            "block11_sepconv2 (SeparableConv (None, None, None, 7 536536      block11_sepconv2_act[0][0]       \n",
            "__________________________________________________________________________________________________\n",
            "block11_sepconv2_bn (BatchNorma (None, None, None, 7 2912        block11_sepconv2[0][0]           \n",
            "__________________________________________________________________________________________________\n",
            "block11_sepconv3_act (Activatio (None, None, None, 7 0           block11_sepconv2_bn[0][0]        \n",
            "__________________________________________________________________________________________________\n",
            "block11_sepconv3 (SeparableConv (None, None, None, 7 536536      block11_sepconv3_act[0][0]       \n",
            "__________________________________________________________________________________________________\n",
            "block11_sepconv3_bn (BatchNorma (None, None, None, 7 2912        block11_sepconv3[0][0]           \n",
            "__________________________________________________________________________________________________\n",
            "add_9 (Add)                     (None, None, None, 7 0           block11_sepconv3_bn[0][0]        \n",
            "                                                                 add_8[0][0]                      \n",
            "__________________________________________________________________________________________________\n",
            "block12_sepconv1_act (Activatio (None, None, None, 7 0           add_9[0][0]                      \n",
            "__________________________________________________________________________________________________\n",
            "block12_sepconv1 (SeparableConv (None, None, None, 7 536536      block12_sepconv1_act[0][0]       \n",
            "__________________________________________________________________________________________________\n",
            "block12_sepconv1_bn (BatchNorma (None, None, None, 7 2912        block12_sepconv1[0][0]           \n",
            "__________________________________________________________________________________________________\n",
            "block12_sepconv2_act (Activatio (None, None, None, 7 0           block12_sepconv1_bn[0][0]        \n",
            "__________________________________________________________________________________________________\n",
            "block12_sepconv2 (SeparableConv (None, None, None, 7 536536      block12_sepconv2_act[0][0]       \n",
            "__________________________________________________________________________________________________\n",
            "block12_sepconv2_bn (BatchNorma (None, None, None, 7 2912        block12_sepconv2[0][0]           \n",
            "__________________________________________________________________________________________________\n",
            "block12_sepconv3_act (Activatio (None, None, None, 7 0           block12_sepconv2_bn[0][0]        \n",
            "__________________________________________________________________________________________________\n",
            "block12_sepconv3 (SeparableConv (None, None, None, 7 536536      block12_sepconv3_act[0][0]       \n",
            "__________________________________________________________________________________________________\n",
            "block12_sepconv3_bn (BatchNorma (None, None, None, 7 2912        block12_sepconv3[0][0]           \n",
            "__________________________________________________________________________________________________\n",
            "add_10 (Add)                    (None, None, None, 7 0           block12_sepconv3_bn[0][0]        \n",
            "                                                                 add_9[0][0]                      \n",
            "__________________________________________________________________________________________________\n",
            "block13_sepconv1_act (Activatio (None, None, None, 7 0           add_10[0][0]                     \n",
            "__________________________________________________________________________________________________\n",
            "block13_sepconv1 (SeparableConv (None, None, None, 7 536536      block13_sepconv1_act[0][0]       \n",
            "__________________________________________________________________________________________________\n",
            "block13_sepconv1_bn (BatchNorma (None, None, None, 7 2912        block13_sepconv1[0][0]           \n",
            "__________________________________________________________________________________________________\n",
            "block13_sepconv2_act (Activatio (None, None, None, 7 0           block13_sepconv1_bn[0][0]        \n",
            "__________________________________________________________________________________________________\n",
            "block13_sepconv2 (SeparableConv (None, None, None, 1 752024      block13_sepconv2_act[0][0]       \n",
            "__________________________________________________________________________________________________\n",
            "block13_sepconv2_bn (BatchNorma (None, None, None, 1 4096        block13_sepconv2[0][0]           \n",
            "__________________________________________________________________________________________________\n",
            "conv2d_3 (Conv2D)               (None, None, None, 1 745472      add_10[0][0]                     \n",
            "__________________________________________________________________________________________________\n",
            "block13_pool (MaxPooling2D)     (None, None, None, 1 0           block13_sepconv2_bn[0][0]        \n",
            "__________________________________________________________________________________________________\n",
            "batch_normalization_3 (BatchNor (None, None, None, 1 4096        conv2d_3[0][0]                   \n",
            "__________________________________________________________________________________________________\n",
            "add_11 (Add)                    (None, None, None, 1 0           block13_pool[0][0]               \n",
            "                                                                 batch_normalization_3[0][0]      \n",
            "__________________________________________________________________________________________________\n",
            "block14_sepconv1 (SeparableConv (None, None, None, 1 1582080     add_11[0][0]                     \n",
            "__________________________________________________________________________________________________\n",
            "block14_sepconv1_bn (BatchNorma (None, None, None, 1 6144        block14_sepconv1[0][0]           \n",
            "__________________________________________________________________________________________________\n",
            "block14_sepconv1_act (Activatio (None, None, None, 1 0           block14_sepconv1_bn[0][0]        \n",
            "__________________________________________________________________________________________________\n",
            "block14_sepconv2 (SeparableConv (None, None, None, 2 3159552     block14_sepconv1_act[0][0]       \n",
            "__________________________________________________________________________________________________\n",
            "block14_sepconv2_bn (BatchNorma (None, None, None, 2 8192        block14_sepconv2[0][0]           \n",
            "__________________________________________________________________________________________________\n",
            "block14_sepconv2_act (Activatio (None, None, None, 2 0           block14_sepconv2_bn[0][0]        \n",
            "__________________________________________________________________________________________________\n",
            "global_average_pooling2d (Globa (None, 2048)         0           block14_sepconv2_act[0][0]       \n",
            "__________________________________________________________________________________________________\n",
            "dense (Dense)                   (None, 1024)         2098176     global_average_pooling2d[0][0]   \n",
            "__________________________________________________________________________________________________\n",
            "dense_1 (Dense)                 (None, 5)            5125        dense[0][0]                      \n",
            "==================================================================================================\n",
            "Total params: 22,964,781\n",
            "Trainable params: 6,899,461\n",
            "Non-trainable params: 16,065,320\n",
            "__________________________________________________________________________________________________\n"
          ],
          "name": "stdout"
        }
      ]
    },
    {
      "cell_type": "markdown",
      "metadata": {
        "id": "8X2XVazjChFH",
        "colab_type": "text"
      },
      "source": [
        "# Data Augumentation"
      ]
    },
    {
      "cell_type": "code",
      "metadata": {
        "colab_type": "code",
        "id": "bZqFLeKFdvy5",
        "colab": {}
      },
      "source": [
        "from tensorflow.keras.preprocessing.image import ImageDataGenerator\n",
        "\n",
        "datagen = ImageDataGenerator(\n",
        "    featurewise_center = False,\n",
        "    samplewise_center = False,\n",
        "    featurewise_std_normalization = False,\n",
        "    samplewise_std_normalization = False,\n",
        "    zca_whitening = False,\n",
        "    rotation_range = 5,\n",
        "    width_shift_range = 0.05,\n",
        "    height_shift_range = 0.05,\n",
        "    horizontal_flip = True,\n",
        "    vertical_flip = False\n",
        ")"
      ],
      "execution_count": 6,
      "outputs": []
    },
    {
      "cell_type": "markdown",
      "metadata": {
        "id": "amKyoloAQ_Cf",
        "colab_type": "text"
      },
      "source": [
        "# 学習を実行しよう"
      ]
    },
    {
      "cell_type": "code",
      "metadata": {
        "colab_type": "code",
        "id": "Sfxm5l7TG_nm",
        "colab": {
          "base_uri": "https://localhost:8080/",
          "height": 1000
        },
        "outputId": "61bf36b5-a97d-4d9f-bbb9-50b12445a14e"
      },
      "source": [
        "epoch = 50\n",
        "batchsize = 8\n",
        "\n",
        "# 学習\n",
        "history = X_model.fit_generator(datagen.flow(train_data, train_label, batch_size=batchsize),\n",
        "                                epochs=epoch, verbose=2, \n",
        "                                validation_data=datagen.flow(test_data, test_label, batch_size=batchsize))"
      ],
      "execution_count": 7,
      "outputs": [
        {
          "output_type": "stream",
          "text": [
            "WARNING:tensorflow:From <ipython-input-7-214129ff320f>:7: Model.fit_generator (from tensorflow.python.keras.engine.training) is deprecated and will be removed in a future version.\n",
            "Instructions for updating:\n",
            "Please use Model.fit, which supports generators.\n",
            "Epoch 1/50\n",
            "16/16 - 4s - loss: 1.8240 - accuracy: 0.1653 - val_loss: 1.6710 - val_accuracy: 0.1935\n",
            "Epoch 2/50\n",
            "16/16 - 2s - loss: 1.3670 - accuracy: 0.5124 - val_loss: 3.7040 - val_accuracy: 0.1935\n",
            "Epoch 3/50\n",
            "16/16 - 2s - loss: 1.2708 - accuracy: 0.5207 - val_loss: 4.2570 - val_accuracy: 0.2258\n",
            "Epoch 4/50\n",
            "16/16 - 2s - loss: 0.9930 - accuracy: 0.6281 - val_loss: 3.7021 - val_accuracy: 0.2581\n",
            "Epoch 5/50\n",
            "16/16 - 2s - loss: 0.7644 - accuracy: 0.7355 - val_loss: 2.4906 - val_accuracy: 0.2581\n",
            "Epoch 6/50\n",
            "16/16 - 2s - loss: 0.8661 - accuracy: 0.6860 - val_loss: 5.6207 - val_accuracy: 0.3871\n",
            "Epoch 7/50\n",
            "16/16 - 2s - loss: 0.7749 - accuracy: 0.7273 - val_loss: 3.0478 - val_accuracy: 0.3548\n",
            "Epoch 8/50\n",
            "16/16 - 2s - loss: 0.7232 - accuracy: 0.6942 - val_loss: 3.8505 - val_accuracy: 0.2903\n",
            "Epoch 9/50\n",
            "16/16 - 2s - loss: 0.6739 - accuracy: 0.7769 - val_loss: 3.9231 - val_accuracy: 0.2903\n",
            "Epoch 10/50\n",
            "16/16 - 2s - loss: 0.7162 - accuracy: 0.6942 - val_loss: 2.4107 - val_accuracy: 0.3871\n",
            "Epoch 11/50\n",
            "16/16 - 2s - loss: 0.6445 - accuracy: 0.7686 - val_loss: 4.0919 - val_accuracy: 0.3226\n",
            "Epoch 12/50\n",
            "16/16 - 2s - loss: 0.6711 - accuracy: 0.7355 - val_loss: 1.2530 - val_accuracy: 0.4839\n",
            "Epoch 13/50\n",
            "16/16 - 2s - loss: 0.5384 - accuracy: 0.8099 - val_loss: 1.5105 - val_accuracy: 0.4516\n",
            "Epoch 14/50\n",
            "16/16 - 2s - loss: 0.6437 - accuracy: 0.7851 - val_loss: 2.0265 - val_accuracy: 0.3548\n",
            "Epoch 15/50\n",
            "16/16 - 2s - loss: 0.5033 - accuracy: 0.8264 - val_loss: 1.8000 - val_accuracy: 0.5806\n",
            "Epoch 16/50\n",
            "16/16 - 2s - loss: 0.3898 - accuracy: 0.8760 - val_loss: 1.9137 - val_accuracy: 0.4194\n",
            "Epoch 17/50\n",
            "16/16 - 2s - loss: 0.4822 - accuracy: 0.8347 - val_loss: 1.8527 - val_accuracy: 0.5484\n",
            "Epoch 18/50\n",
            "16/16 - 2s - loss: 0.4246 - accuracy: 0.8760 - val_loss: 2.1095 - val_accuracy: 0.4839\n",
            "Epoch 19/50\n",
            "16/16 - 2s - loss: 0.6115 - accuracy: 0.7769 - val_loss: 1.6663 - val_accuracy: 0.5161\n",
            "Epoch 20/50\n",
            "16/16 - 2s - loss: 0.4979 - accuracy: 0.8182 - val_loss: 1.7284 - val_accuracy: 0.5484\n",
            "Epoch 21/50\n",
            "16/16 - 2s - loss: 0.4338 - accuracy: 0.8595 - val_loss: 1.3537 - val_accuracy: 0.4516\n",
            "Epoch 22/50\n",
            "16/16 - 2s - loss: 0.3212 - accuracy: 0.8760 - val_loss: 2.6443 - val_accuracy: 0.3548\n",
            "Epoch 23/50\n",
            "16/16 - 2s - loss: 0.5598 - accuracy: 0.7934 - val_loss: 2.5687 - val_accuracy: 0.3548\n",
            "Epoch 24/50\n",
            "16/16 - 2s - loss: 0.4247 - accuracy: 0.8678 - val_loss: 1.9418 - val_accuracy: 0.5484\n",
            "Epoch 25/50\n",
            "16/16 - 2s - loss: 0.5876 - accuracy: 0.8099 - val_loss: 2.9145 - val_accuracy: 0.5161\n",
            "Epoch 26/50\n",
            "16/16 - 2s - loss: 0.4058 - accuracy: 0.8264 - val_loss: 3.1466 - val_accuracy: 0.4839\n",
            "Epoch 27/50\n",
            "16/16 - 2s - loss: 0.4099 - accuracy: 0.8512 - val_loss: 1.7505 - val_accuracy: 0.4839\n",
            "Epoch 28/50\n",
            "16/16 - 2s - loss: 0.3949 - accuracy: 0.8678 - val_loss: 1.8207 - val_accuracy: 0.6452\n",
            "Epoch 29/50\n",
            "16/16 - 2s - loss: 0.3565 - accuracy: 0.8760 - val_loss: 1.8457 - val_accuracy: 0.4839\n",
            "Epoch 30/50\n",
            "16/16 - 2s - loss: 0.3147 - accuracy: 0.8678 - val_loss: 1.7949 - val_accuracy: 0.4839\n",
            "Epoch 31/50\n",
            "16/16 - 2s - loss: 0.3564 - accuracy: 0.8760 - val_loss: 2.0205 - val_accuracy: 0.5161\n",
            "Epoch 32/50\n",
            "16/16 - 2s - loss: 0.3768 - accuracy: 0.8430 - val_loss: 2.1323 - val_accuracy: 0.5161\n",
            "Epoch 33/50\n",
            "16/16 - 2s - loss: 0.4893 - accuracy: 0.8182 - val_loss: 1.6331 - val_accuracy: 0.5806\n",
            "Epoch 34/50\n",
            "16/16 - 2s - loss: 0.4083 - accuracy: 0.8512 - val_loss: 0.9232 - val_accuracy: 0.7419\n",
            "Epoch 35/50\n",
            "16/16 - 2s - loss: 0.3919 - accuracy: 0.8595 - val_loss: 0.7147 - val_accuracy: 0.8065\n",
            "Epoch 36/50\n",
            "16/16 - 2s - loss: 0.2710 - accuracy: 0.8843 - val_loss: 1.2194 - val_accuracy: 0.6452\n",
            "Epoch 37/50\n",
            "16/16 - 2s - loss: 0.2181 - accuracy: 0.9008 - val_loss: 1.6774 - val_accuracy: 0.6452\n",
            "Epoch 38/50\n",
            "16/16 - 2s - loss: 0.4111 - accuracy: 0.8430 - val_loss: 2.2105 - val_accuracy: 0.6452\n",
            "Epoch 39/50\n",
            "16/16 - 2s - loss: 0.3874 - accuracy: 0.8678 - val_loss: 1.0907 - val_accuracy: 0.7097\n",
            "Epoch 40/50\n",
            "16/16 - 2s - loss: 0.3219 - accuracy: 0.8843 - val_loss: 1.4606 - val_accuracy: 0.7419\n",
            "Epoch 41/50\n",
            "16/16 - 2s - loss: 0.3446 - accuracy: 0.8678 - val_loss: 1.2296 - val_accuracy: 0.7742\n",
            "Epoch 42/50\n",
            "16/16 - 2s - loss: 0.3411 - accuracy: 0.8595 - val_loss: 0.8044 - val_accuracy: 0.7097\n",
            "Epoch 43/50\n",
            "16/16 - 2s - loss: 0.1916 - accuracy: 0.9421 - val_loss: 0.4200 - val_accuracy: 0.8387\n",
            "Epoch 44/50\n",
            "16/16 - 2s - loss: 0.2053 - accuracy: 0.9091 - val_loss: 0.9969 - val_accuracy: 0.7742\n",
            "Epoch 45/50\n",
            "16/16 - 2s - loss: 0.2491 - accuracy: 0.9256 - val_loss: 0.8527 - val_accuracy: 0.7097\n",
            "Epoch 46/50\n",
            "16/16 - 2s - loss: 0.2912 - accuracy: 0.9008 - val_loss: 1.0970 - val_accuracy: 0.7419\n",
            "Epoch 47/50\n",
            "16/16 - 2s - loss: 0.1669 - accuracy: 0.9587 - val_loss: 1.5565 - val_accuracy: 0.7097\n",
            "Epoch 48/50\n",
            "16/16 - 2s - loss: 0.3023 - accuracy: 0.8760 - val_loss: 0.7453 - val_accuracy: 0.8065\n",
            "Epoch 49/50\n",
            "16/16 - 2s - loss: 0.1834 - accuracy: 0.9421 - val_loss: 1.1374 - val_accuracy: 0.7419\n",
            "Epoch 50/50\n",
            "16/16 - 2s - loss: 0.1930 - accuracy: 0.9174 - val_loss: 1.0550 - val_accuracy: 0.8065\n"
          ],
          "name": "stdout"
        }
      ]
    },
    {
      "cell_type": "markdown",
      "metadata": {
        "id": "eknuDkq2_J74",
        "colab_type": "text"
      },
      "source": [
        "## 結果を可視化しよう "
      ]
    },
    {
      "cell_type": "code",
      "metadata": {
        "id": "IaLu5fZ9ZXnm",
        "colab_type": "code",
        "colab": {
          "base_uri": "https://localhost:8080/",
          "height": 295
        },
        "outputId": "4ebce7c0-c438-449a-bc6a-68cb26447f5b"
      },
      "source": [
        "import matplotlib.pyplot as plt\n",
        "\n",
        "# Plot training & validation accuracy values\n",
        "plt.plot(history.history['accuracy'])\n",
        "plt.plot(history.history['val_accuracy'])\n",
        "plt.title('Model accuracy')\n",
        "plt.ylabel('Accuracy')\n",
        "\n",
        "plt.xlabel('Epoch')\n",
        "plt.legend(['Train', 'Test'], loc='upper left')\n",
        "plt.show()"
      ],
      "execution_count": 8,
      "outputs": [
        {
          "output_type": "display_data",
          "data": {
            "image/png": "[encoded data removed]",
            "text/plain": [
              "<Figure size 432x288 with 1 Axes>"
            ]
          },
          "metadata": {
            "tags": [],
            "needs_background": "light"
          }
        }
      ]
    },
    {
      "cell_type": "code",
      "metadata": {
        "id": "oaNP911EjpvS",
        "colab_type": "code",
        "colab": {
          "base_uri": "https://localhost:8080/",
          "height": 295
        },
        "outputId": "abe5469c-1f04-4cd3-fbc0-2c5dfb732788"
      },
      "source": [
        "# Plot training & validation loss values\n",
        "plt.plot(history.history['loss'])\n",
        "plt.plot(history.history['val_loss'])\n",
        "plt.title('Model loss')\n",
        "plt.ylabel('Loss')\n",
        "plt.xlabel('Epoch')\n",
        "plt.legend(['Train', 'Test'], loc='upper left')\n",
        "plt.show()"
      ],
      "execution_count": 9,
      "outputs": [
        {
          "output_type": "display_data",
          "data": {
            "image/png": "[encoded data removed]",
            "text/plain": [
              "<Figure size 432x288 with 1 Axes>"
            ]
          },
          "metadata": {
            "tags": [],
            "needs_background": "light"
          }
        }
      ]
    },
    {
      "cell_type": "code",
      "metadata": {
        "id": "EYbCaWkBOIy2",
        "colab_type": "code",
        "colab": {}
      },
      "source": [
        "#モデルの保存\n",
        "X_model.save('/content/drive/My Drive/Colab Notebooks/Xweights.h5')"
      ],
      "execution_count": 10,
      "outputs": []
    },
    {
      "cell_type": "markdown",
      "metadata": {
        "id": "nBTiIa6b_BYS",
        "colab_type": "text"
      },
      "source": [
        "# 追加学習をしよう"
      ]
    },
    {
      "cell_type": "code",
      "metadata": {
        "id": "gm4Xgq0qinti",
        "colab_type": "code",
        "colab": {}
      },
      "source": [
        "# 学習済みモデルを読み込み\n",
        "load_model =keras.models.load_model('/content/drive/My Drive/Colab Notebooks/Xweights.h5')"
      ],
      "execution_count": 11,
      "outputs": []
    },
    {
      "cell_type": "code",
      "metadata": {
        "id": "8VAJjrcyLoFu",
        "colab_type": "code",
        "colab": {
          "base_uri": "https://localhost:8080/",
          "height": 1000
        },
        "outputId": "39737733-4fa0-45de-aa07-1cd2c32409b0"
      },
      "source": [
        "# 追加学習\n",
        "history = load_model.fit(train_data, train_label,\n",
        "                         epochs=50, verbose=1, \n",
        "                         validation_data=(test_data, test_label))\n"
      ],
      "execution_count": 12,
      "outputs": [
        {
          "output_type": "stream",
          "text": [
            "Epoch 1/50\n",
            "4/4 [==============================] - 5s 1s/step - loss: 0.0496 - accuracy: 0.9917 - val_loss: 1.0019 - val_accuracy: 0.7742\n",
            "Epoch 2/50\n",
            "4/4 [==============================] - 1s 286ms/step - loss: 0.0424 - accuracy: 0.9917 - val_loss: 0.9612 - val_accuracy: 0.8065\n",
            "Epoch 3/50\n",
            "4/4 [==============================] - 1s 286ms/step - loss: 0.0371 - accuracy: 1.0000 - val_loss: 0.9073 - val_accuracy: 0.8065\n",
            "Epoch 4/50\n",
            "4/4 [==============================] - 1s 284ms/step - loss: 0.0273 - accuracy: 0.9917 - val_loss: 0.8599 - val_accuracy: 0.8387\n",
            "Epoch 5/50\n",
            "4/4 [==============================] - 1s 286ms/step - loss: 0.0209 - accuracy: 1.0000 - val_loss: 0.8146 - val_accuracy: 0.8710\n",
            "Epoch 6/50\n",
            "4/4 [==============================] - 1s 284ms/step - loss: 0.0165 - accuracy: 0.9917 - val_loss: 0.7788 - val_accuracy: 0.8710\n",
            "Epoch 7/50\n",
            "4/4 [==============================] - 1s 287ms/step - loss: 0.0158 - accuracy: 1.0000 - val_loss: 0.7538 - val_accuracy: 0.8710\n",
            "Epoch 8/50\n",
            "4/4 [==============================] - 1s 285ms/step - loss: 0.0272 - accuracy: 0.9917 - val_loss: 0.7335 - val_accuracy: 0.8710\n",
            "Epoch 9/50\n",
            "4/4 [==============================] - 1s 287ms/step - loss: 0.0188 - accuracy: 1.0000 - val_loss: 0.7205 - val_accuracy: 0.8710\n",
            "Epoch 10/50\n",
            "4/4 [==============================] - 1s 288ms/step - loss: 0.0146 - accuracy: 1.0000 - val_loss: 0.7061 - val_accuracy: 0.8710\n",
            "Epoch 11/50\n",
            "4/4 [==============================] - 1s 285ms/step - loss: 0.0126 - accuracy: 1.0000 - val_loss: 0.6886 - val_accuracy: 0.8710\n",
            "Epoch 12/50\n",
            "4/4 [==============================] - 1s 289ms/step - loss: 0.0107 - accuracy: 1.0000 - val_loss: 0.6750 - val_accuracy: 0.8710\n",
            "Epoch 13/50\n",
            "4/4 [==============================] - 1s 287ms/step - loss: 0.0046 - accuracy: 1.0000 - val_loss: 0.6641 - val_accuracy: 0.8710\n",
            "Epoch 14/50\n",
            "4/4 [==============================] - 1s 285ms/step - loss: 0.0069 - accuracy: 1.0000 - val_loss: 0.6468 - val_accuracy: 0.8710\n",
            "Epoch 15/50\n",
            "4/4 [==============================] - 1s 284ms/step - loss: 0.0033 - accuracy: 1.0000 - val_loss: 0.6318 - val_accuracy: 0.8710\n",
            "Epoch 16/50\n",
            "4/4 [==============================] - 1s 286ms/step - loss: 0.0053 - accuracy: 1.0000 - val_loss: 0.6232 - val_accuracy: 0.8710\n",
            "Epoch 17/50\n",
            "4/4 [==============================] - 1s 285ms/step - loss: 0.0026 - accuracy: 1.0000 - val_loss: 0.6190 - val_accuracy: 0.8710\n",
            "Epoch 18/50\n",
            "4/4 [==============================] - 1s 286ms/step - loss: 0.0033 - accuracy: 1.0000 - val_loss: 0.6184 - val_accuracy: 0.8710\n",
            "Epoch 19/50\n",
            "4/4 [==============================] - 1s 288ms/step - loss: 0.0034 - accuracy: 1.0000 - val_loss: 0.6235 - val_accuracy: 0.8710\n",
            "Epoch 20/50\n",
            "4/4 [==============================] - 1s 283ms/step - loss: 0.0042 - accuracy: 1.0000 - val_loss: 0.6322 - val_accuracy: 0.8710\n",
            "Epoch 21/50\n",
            "4/4 [==============================] - 1s 287ms/step - loss: 0.0039 - accuracy: 1.0000 - val_loss: 0.6414 - val_accuracy: 0.8710\n",
            "Epoch 22/50\n",
            "4/4 [==============================] - 1s 288ms/step - loss: 0.0020 - accuracy: 1.0000 - val_loss: 0.6523 - val_accuracy: 0.8710\n",
            "Epoch 23/50\n",
            "4/4 [==============================] - 1s 289ms/step - loss: 0.0029 - accuracy: 1.0000 - val_loss: 0.6638 - val_accuracy: 0.8710\n",
            "Epoch 24/50\n",
            "4/4 [==============================] - 1s 285ms/step - loss: 0.0023 - accuracy: 1.0000 - val_loss: 0.6752 - val_accuracy: 0.8710\n",
            "Epoch 25/50\n",
            "4/4 [==============================] - 1s 285ms/step - loss: 0.0060 - accuracy: 1.0000 - val_loss: 0.6841 - val_accuracy: 0.8710\n",
            "Epoch 26/50\n",
            "4/4 [==============================] - 1s 287ms/step - loss: 9.0132e-04 - accuracy: 1.0000 - val_loss: 0.6953 - val_accuracy: 0.8710\n",
            "Epoch 27/50\n",
            "4/4 [==============================] - 1s 285ms/step - loss: 0.0022 - accuracy: 1.0000 - val_loss: 0.7021 - val_accuracy: 0.8710\n",
            "Epoch 28/50\n",
            "4/4 [==============================] - 1s 285ms/step - loss: 0.0016 - accuracy: 1.0000 - val_loss: 0.7095 - val_accuracy: 0.9032\n",
            "Epoch 29/50\n",
            "4/4 [==============================] - 1s 286ms/step - loss: 0.0025 - accuracy: 1.0000 - val_loss: 0.7146 - val_accuracy: 0.9032\n",
            "Epoch 30/50\n",
            "4/4 [==============================] - 1s 287ms/step - loss: 0.0011 - accuracy: 1.0000 - val_loss: 0.7195 - val_accuracy: 0.9032\n",
            "Epoch 31/50\n",
            "4/4 [==============================] - 1s 289ms/step - loss: 0.0013 - accuracy: 1.0000 - val_loss: 0.7249 - val_accuracy: 0.9032\n",
            "Epoch 32/50\n",
            "4/4 [==============================] - 1s 288ms/step - loss: 6.6796e-04 - accuracy: 1.0000 - val_loss: 0.7304 - val_accuracy: 0.9032\n",
            "Epoch 33/50\n",
            "4/4 [==============================] - 1s 288ms/step - loss: 0.0017 - accuracy: 1.0000 - val_loss: 0.7360 - val_accuracy: 0.9032\n",
            "Epoch 34/50\n",
            "4/4 [==============================] - 1s 284ms/step - loss: 7.3921e-04 - accuracy: 1.0000 - val_loss: 0.7428 - val_accuracy: 0.9032\n",
            "Epoch 35/50\n",
            "4/4 [==============================] - 1s 285ms/step - loss: 0.0020 - accuracy: 1.0000 - val_loss: 0.7496 - val_accuracy: 0.9032\n",
            "Epoch 36/50\n",
            "4/4 [==============================] - 1s 283ms/step - loss: 0.0015 - accuracy: 1.0000 - val_loss: 0.7540 - val_accuracy: 0.9032\n",
            "Epoch 37/50\n",
            "4/4 [==============================] - 1s 285ms/step - loss: 0.0020 - accuracy: 1.0000 - val_loss: 0.7577 - val_accuracy: 0.9032\n",
            "Epoch 38/50\n",
            "4/4 [==============================] - 1s 286ms/step - loss: 8.5999e-04 - accuracy: 1.0000 - val_loss: 0.7621 - val_accuracy: 0.9032\n",
            "Epoch 39/50\n",
            "4/4 [==============================] - 1s 285ms/step - loss: 3.8214e-04 - accuracy: 1.0000 - val_loss: 0.7654 - val_accuracy: 0.9032\n",
            "Epoch 40/50\n",
            "4/4 [==============================] - 1s 285ms/step - loss: 3.4963e-04 - accuracy: 1.0000 - val_loss: 0.7704 - val_accuracy: 0.9032\n",
            "Epoch 41/50\n",
            "4/4 [==============================] - 1s 286ms/step - loss: 8.7518e-04 - accuracy: 1.0000 - val_loss: 0.7736 - val_accuracy: 0.9032\n",
            "Epoch 42/50\n",
            "4/4 [==============================] - 1s 283ms/step - loss: 5.4544e-04 - accuracy: 1.0000 - val_loss: 0.7758 - val_accuracy: 0.9032\n",
            "Epoch 43/50\n",
            "4/4 [==============================] - 1s 286ms/step - loss: 8.9043e-04 - accuracy: 1.0000 - val_loss: 0.7803 - val_accuracy: 0.9032\n",
            "Epoch 44/50\n",
            "4/4 [==============================] - 1s 289ms/step - loss: 4.8474e-04 - accuracy: 1.0000 - val_loss: 0.7840 - val_accuracy: 0.9032\n",
            "Epoch 45/50\n",
            "4/4 [==============================] - 1s 290ms/step - loss: 9.0246e-04 - accuracy: 1.0000 - val_loss: 0.7866 - val_accuracy: 0.9032\n",
            "Epoch 46/50\n",
            "4/4 [==============================] - 1s 288ms/step - loss: 5.8947e-04 - accuracy: 1.0000 - val_loss: 0.7900 - val_accuracy: 0.9032\n",
            "Epoch 47/50\n",
            "4/4 [==============================] - 1s 287ms/step - loss: 4.4320e-04 - accuracy: 1.0000 - val_loss: 0.7935 - val_accuracy: 0.8710\n",
            "Epoch 48/50\n",
            "4/4 [==============================] - 1s 287ms/step - loss: 3.4867e-04 - accuracy: 1.0000 - val_loss: 0.7966 - val_accuracy: 0.8710\n",
            "Epoch 49/50\n",
            "4/4 [==============================] - 1s 288ms/step - loss: 2.1099e-04 - accuracy: 1.0000 - val_loss: 0.7992 - val_accuracy: 0.8710\n",
            "Epoch 50/50\n",
            "4/4 [==============================] - 1s 284ms/step - loss: 0.0022 - accuracy: 1.0000 - val_loss: 0.8035 - val_accuracy: 0.8710\n"
          ],
          "name": "stdout"
        }
      ]
    },
    {
      "cell_type": "code",
      "metadata": {
        "id": "saWfuvEeLt6y",
        "colab_type": "code",
        "colab": {
          "base_uri": "https://localhost:8080/",
          "height": 295
        },
        "outputId": "cae04c41-81b7-4858-a956-94edafd55278"
      },
      "source": [
        "import matplotlib.pyplot as plt\n",
        "\n",
        "# Plot training & validation accuracy values\n",
        "plt.plot(history.history['accuracy'])\n",
        "plt.plot(history.history['val_accuracy'])\n",
        "plt.title('Model accuracy')\n",
        "plt.ylabel('Accuracy')\n",
        "\n",
        "plt.xlabel('Epoch')\n",
        "plt.legend(['Train', 'Test'], loc='upper left')\n",
        "plt.show()\n"
      ],
      "execution_count": 13,
      "outputs": [
        {
          "output_type": "display_data",
          "data": {
            "image/png": "[encoded data removed]",
            "text/plain": [
              "<Figure size 432x288 with 1 Axes>"
            ]
          },
          "metadata": {
            "tags": [],
            "needs_background": "light"
          }
        }
      ]
    },
    {
      "cell_type": "code",
      "metadata": {
        "id": "Ar5tFkbgLu-6",
        "colab_type": "code",
        "colab": {
          "base_uri": "https://localhost:8080/",
          "height": 295
        },
        "outputId": "e329a20a-9d85-40e6-a105-e52d3f01808c"
      },
      "source": [
        "# Plot training & validation loss values\n",
        "plt.plot(history.history['loss'])\n",
        "plt.plot(history.history['val_loss'])\n",
        "plt.title('Model loss')\n",
        "plt.ylabel('Loss')\n",
        "plt.xlabel('Epoch')\n",
        "plt.legend(['Train', 'Test'], loc='upper left')\n",
        "plt.show()\n"
      ],
      "execution_count": 14,
      "outputs": [
        {
          "output_type": "display_data",
          "data": {
            "image/png": "[encoded data removed]",
            "text/plain": [
              "<Figure size 432x288 with 1 Axes>"
            ]
          },
          "metadata": {
            "tags": [],
            "needs_background": "light"
          }
        }
      ]
    }
  ]
}